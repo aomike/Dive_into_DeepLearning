{
 "cells": [
  {
   "cell_type": "markdown",
   "metadata": {
    "graffitiCellId": "id_z2fw17x",
    "id": "64AE0FB342E9428A8DA9C734B357BBB1",
    "jupyter": {},
    "mdEditEnable": false,
    "slideshow": {
     "slide_type": "slide"
    },
    "tags": []
   },
   "source": [
    "# softmax和分类模型\n",
    "内容包含：\n",
    "1. softmax回归的基本概念\n",
    "2. 如何获取Fashion-MNIST数据集和读取数据\n",
    "3. softmax回归模型的从零开始实现，实现一个对Fashion-MNIST训练集中的图像数据进行分类的模型\n",
    "4. 使用pytorch重新实现softmax回归模型\n"
   ]
  },
  {
   "cell_type": "markdown",
   "metadata": {
    "graffitiCellId": "id_xq1py16",
    "id": "2031A689D83B4282ABA8CC2238D7FC9B",
    "jupyter": {},
    "mdEditEnable": false,
    "slideshow": {
     "slide_type": "slide"
    },
    "tags": []
   },
   "source": [
    "## softmax的基本概念\n",
    "\n",
    "- 分类问题  \n",
    "一个简单的图像分类问题，输入图像的高和宽均为2像素，色彩为灰度。  \n",
    "图像中的4像素分别记为$x_1, x_2, x_3, x_4$。  \n",
    "假设真实标签为狗、猫或者鸡，这些标签对应的离散值为$y_1, y_2, y_3$。  \n",
    "我们通常使用离散的数值来表示类别，例如$y_1=1, y_2=2, y_3=3$。\n",
    "\n",
    "- 权重矢量  \n",
    "$$\n",
    " \\begin{aligned} o_1 &= x_1 w_{11} + x_2 w_{21} + x_3 w_{31} + x_4 w_{41} + b_1 \\end{aligned} \n",
    "$$\n",
    "\n",
    "$$\n",
    " \\begin{aligned} o_2 &= x_1 w_{12} + x_2 w_{22} + x_3 w_{32} + x_4 w_{42} + b_2 \\end{aligned} \n",
    "$$\n",
    "\n",
    "$$\n",
    " \\begin{aligned} o_3 &= x_1 w_{13} + x_2 w_{23} + x_3 w_{33} + x_4 w_{43} + b_3 \\end{aligned} \n",
    "$$\n",
    "\n",
    "- 神经网络图  \n",
    "下图用神经网络图描绘了上面的计算。softmax回归同线性回归一样，也是一个单层神经网络。由于每个输出$o_1, o_2, o_3$的计算都要依赖于所有的输入$x_1, x_2, x_3, x_4$，softmax回归的输出层也是一个全连接层。\n",
    "\n",
    "![Image Name](https://cdn.kesci.com/upload/image/q5hmymezog.png)\n",
    "\n",
    "$$\n",
    "\\begin{aligned}softmax回归是一个单层神经网络\\end{aligned}\n",
    "$$\n",
    "\n",
    "既然分类问题需要得到离散的预测输出，一个简单的办法是将输出值$o_i$当作预测类别是$i$的置信度，并将值最大的输出所对应的类作为预测输出，即输出 $\\underset{i}{\\arg\\max} o_i$。例如，如果$o_1,o_2,o_3$分别为$0.1,10,0.1$，由于$o_2$最大，那么预测类别为2，其代表猫。\n",
    "\n",
    "- 输出问题  \n",
    "直接使用输出层的输出有两个问题：\n",
    "    1. 一方面，由于输出层的输出值的范围不确定，我们难以直观上判断这些值的意义。例如，刚才举的例子中的输出值10表示“很置信”图像类别为猫，因为该输出值是其他两类的输出值的100倍。但如果$o_1=o_3=10^3$，那么输出值10却又表示图像类别为猫的概率很低。\n",
    "    2. 另一方面，由于真实标签是离散值，这些离散值与不确定范围的输出值之间的误差难以衡量。\n",
    "\n",
    "softmax运算符（softmax operator）解决了以上两个问题。它通过下式将输出值变换成值为正且和为1的概率分布：\n",
    "\n",
    "$$\n",
    " \\hat{y}_1, \\hat{y}_2, \\hat{y}_3 = \\text{softmax}(o_1, o_2, o_3) \n",
    "$$\n",
    "\n",
    "其中\n",
    "\n",
    "$$\n",
    " \\hat{y}1 = \\frac{ \\exp(o_1)}{\\sum_{i=1}^3 \\exp(o_i)},\\quad \\hat{y}2 = \\frac{ \\exp(o_2)}{\\sum_{i=1}^3 \\exp(o_i)},\\quad \\hat{y}3 = \\frac{ \\exp(o_3)}{\\sum_{i=1}^3 \\exp(o_i)}. \n",
    "$$\n",
    "\n",
    "容易看出$\\hat{y}_1 + \\hat{y}_2 + \\hat{y}_3 = 1$且$0 \\leq \\hat{y}_1, \\hat{y}_2, \\hat{y}_3 \\leq 1$，因此$\\hat{y}_1, \\hat{y}_2, \\hat{y}_3$是一个合法的概率分布。这时候，如果$\\hat{y}_2=0.8$，不管$\\hat{y}_1$和$\\hat{y}_3$的值是多少，我们都知道图像类别为猫的概率是80%。此外，我们注意到\n",
    "\n",
    "$$\n",
    " \\underset{i}{\\arg\\max} o_i = \\underset{i}{\\arg\\max} \\hat{y}_i \n",
    "$$\n",
    "\n",
    "因此softmax运算不改变预测类别输出。\n",
    "\n",
    "- 计算效率\n",
    "    - 单样本矢量计算表达式  \n",
    "    为了提高计算效率，我们可以将单样本分类通过矢量计算来表达。在上面的图像分类问题中，假设softmax回归的权重和偏差参数分别为\n",
    "   \n",
    "$$\n",
    " \\boldsymbol{W} = \\begin{bmatrix} w_{11} & w_{12} & w_{13} \\\\ w_{21} & w_{22} & w_{23} \\\\ w_{31} & w_{32} & w_{33} \\\\ w_{41} & w_{42} & w_{43} \\end{bmatrix},\\quad \\boldsymbol{b} = \\begin{bmatrix} b_1 & b_2 & b_3 \\end{bmatrix}, \n",
    "$$\n",
    "\n",
    "设高和宽分别为2个像素的图像样本$i$的特征为\n",
    "   \n",
    "$$\n",
    "\\boldsymbol{x}^{(i)} = \\begin{bmatrix}x_1^{(i)} & x_2^{(i)} & x_3^{(i)} & x_4^{(i)}\\end{bmatrix},\n",
    "$$\n",
    "\n",
    "输出层的输出为\n",
    "\n",
    "$$\n",
    "\\boldsymbol{o}^{(i)} = \\begin{bmatrix}o_1^{(i)} & o_2^{(i)} & o_3^{(i)}\\end{bmatrix},\n",
    "$$\n",
    "\n",
    "预测为狗、猫或鸡的概率分布为\n",
    "    \n",
    "$$\n",
    "\\boldsymbol{\\hat{y}}^{(i)} = \\begin{bmatrix}\\hat{y}_1^{(i)} & \\hat{y}_2^{(i)} & \\hat{y}_3^{(i)}\\end{bmatrix}.\n",
    "$$\n",
    "\n",
    "softmax回归对样本$i$分类的矢量计算表达式为\n",
    "   \n",
    "$$\n",
    " \\begin{aligned} \\boldsymbol{o}^{(i)} &= \\boldsymbol{x}^{(i)} \\boldsymbol{W} + \\boldsymbol{b},\\\\ \\boldsymbol{\\hat{y}}^{(i)} &= \\text{softmax}(\\boldsymbol{o}^{(i)}). \\end{aligned} \n",
    "$$\n",
    "\n",
    "- 小批量矢量计算表达式  \n",
    "    为了进一步提升计算效率，我们通常对小批量数据做矢量计算。广义上讲，给定一个小批量样本，其批量大小为$n$，输入个数（特征数）为$d$，输出个数（类别数）为$q$。设批量特征为$\\boldsymbol{X} \\in \\mathbb{R}^{n \\times d}$。假设softmax回归的权重和偏差参数分别为$\\boldsymbol{W} \\in \\mathbb{R}^{d \\times q}$和$\\boldsymbol{b} \\in \\mathbb{R}^{1 \\times q}$。softmax回归的矢量计算表达式为\n",
    "\n",
    "$$\n",
    " \\begin{aligned} \\boldsymbol{O} &= \\boldsymbol{X} \\boldsymbol{W} + \\boldsymbol{b},\\\\ \\boldsymbol{\\hat{Y}} &= \\text{softmax}(\\boldsymbol{O}), \\end{aligned} \n",
    "$$\n",
    "\n",
    "其中的加法运算使用了广播机制，$\\boldsymbol{O}, \\boldsymbol{\\hat{Y}} \\in \\mathbb{R}^{n \\times q}$且这两个矩阵的第$i$行分别为样本$i$的输出$\\boldsymbol{o}^{(i)}$和概率分布$\\boldsymbol{\\hat{y}}^{(i)}$。\n"
   ]
  },
  {
   "cell_type": "markdown",
   "metadata": {
    "id": "900A996DF3114CBE8545153F973B4640",
    "jupyter": {},
    "mdEditEnable": false,
    "slideshow": {
     "slide_type": "slide"
    },
    "tags": []
   },
   "source": [
    "## 交叉熵损失函数\n",
    "\n",
    "对于样本$i$，我们构造向量$\\boldsymbol{y}^{(i)}\\in \\mathbb{R}^{q}$ ，使其第$y^{(i)}$（样本$i$类别的离散数值）个元素为1，其余为0。这样我们的训练目标可以设为使预测概率分布$\\boldsymbol{\\hat y}^{(i)}$尽可能接近真实的标签概率分布$\\boldsymbol{y}^{(i)}$。\n",
    "\n",
    "- 平方损失估计  \n",
    "\n",
    "$$\n",
    "\\begin{aligned}Loss = |\\boldsymbol{\\hat y}^{(i)}-\\boldsymbol{y}^{(i)}|^2/2\\end{aligned}\n",
    "$$\n",
    "  \n",
    "\n",
    "然而，想要预测分类结果正确，我们其实并不需要预测概率完全等于标签概率。例如，在图像分类的例子里，如果$y^{(i)}=3$，那么我们只需要$\\hat{y}^{(i)}_3$比其他两个预测值$\\hat{y}^{(i)}_1$和$\\hat{y}^{(i)}_2$大就行了。即使$\\hat{y}^{(i)}_3$值为0.6，不管其他两个预测值为多少，类别预测均正确。而平方损失则过于严格，例如$\\hat y^{(i)}_1=\\hat y^{(i)}_2=0.2$比$\\hat y^{(i)}_1=0, \\hat y^{(i)}_2=0.4$的损失要小很多，虽然两者都有同样正确的分类预测结果。\n",
    "\n",
    "改善上述问题的一个方法是使用更适合衡量两个概率分布差异的测量函数。其中，交叉熵（cross entropy）是一个常用的衡量方法：\n",
    "\n",
    "\n",
    "$$\n",
    "H\\left(\\boldsymbol y^{(i)}, \\boldsymbol {\\hat y}^{(i)}\\right ) = -\\sum_{j=1}^q y_j^{(i)} \\log \\hat y_j^{(i)},\n",
    "$$\n",
    "\n",
    "\n",
    "其中带下标的$y_j^{(i)}$是向量$\\boldsymbol y^{(i)}$中非0即1的元素，需要注意将它与样本$i$类别的离散数值，即不带下标的$y^{(i)}$区分。在上式中，我们知道向量$\\boldsymbol y^{(i)}$中只有第$y^{(i)}$个元素$y^{(i)}{y^{(i)}}$为1，其余全为0，于是$H(\\boldsymbol y^{(i)}, \\boldsymbol {\\hat y}^{(i)}) = -\\log \\hat y_{y^{(i)}}^{(i)}$。也就是说，交叉熵只关心对正确类别的预测概率，因为只要其值足够大，就可以确保分类结果正确。当然，遇到一个样本有多个标签时，例如图像里含有不止一个物体时，我们并不能做这一步简化。但即便对于这种情况，交叉熵同样只关心对图像中出现的物体类别的预测概率。\n",
    "\n",
    "假设训练数据集的样本数为$n$，交叉熵损失函数定义为 \n",
    "$$\n",
    "\\ell(\\boldsymbol{\\Theta}) = \\frac{1}{n} \\sum_{i=1}^n H\\left(\\boldsymbol y^{(i)}, \\boldsymbol {\\hat y}^{(i)}\\right ),\n",
    "$$\n",
    "\n",
    "\n",
    "其中$\\boldsymbol{\\Theta}$代表模型参数。同样地，如果每个样本只有一个标签，那么交叉熵损失可以简写成$\\ell(\\boldsymbol{\\Theta}) = -(1/n) \\sum_{i=1}^n \\log \\hat y_{y^{(i)}}^{(i)}$。从另一个角度来看，我们知道最小化$\\ell(\\boldsymbol{\\Theta})$等价于最大化$\\exp(-n\\ell(\\boldsymbol{\\Theta}))=\\prod_{i=1}^n \\hat y_{y^{(i)}}^{(i)}$，即最小化交叉熵损失函数等价于最大化训练数据集所有标签类别的联合预测概率。\n"
   ]
  },
  {
   "cell_type": "markdown",
   "metadata": {
    "id": "9221297B8C694D4F9B76FDFD29C02E5E",
    "jupyter": {},
    "mdEditEnable": false,
    "slideshow": {
     "slide_type": "slide"
    },
    "tags": []
   },
   "source": [
    "## 模型训练和预测\n",
    "在训练好softmax回归模型后，给定任一样本特征，就可以预测每个输出类别的概率。通常，我们把预测概率最大的类别作为输出类别。如果它与真实类别（标签）一致，说明这次预测是正确的。在3.6节的实验中，我们将使用准确率（accuracy）来评价模型的表现。它等于正确预测数量与总预测数量之比。"
   ]
  },
  {
   "cell_type": "markdown",
   "metadata": {
    "graffitiCellId": "id_co5e0yp",
    "id": "3D1A30145B5A450E819DCA2FB094117B",
    "jupyter": {},
    "mdEditEnable": false,
    "slideshow": {
     "slide_type": "slide"
    },
    "tags": []
   },
   "source": [
    "# 获取Fashion-MNIST训练集和读取数据\n",
    "在介绍softmax回归的实现前我们先引入一个多类图像分类数据集。它将在后面的章节中被多次使用，以方便我们观察比较算法之间在模型精度和计算效率上的区别。图像分类数据集中最常用的是手写数字识别数据集MNIST[1]。但大部分模型在MNIST上的分类精度都超过了95%。为了更直观地观察算法之间的差异，我们将使用一个图像内容更加复杂的数据集Fashion-MNIST[2]。\n",
    "\n",
    "我这里我们会使用torchvision包，它是服务于PyTorch深度学习框架的，主要用来构建计算机视觉模型。torchvision主要由以下几部分构成：\n",
    "1. torchvision.datasets: 一些加载数据的函数及常用的数据集接口；\n",
    "2. torchvision.models: 包含常用的模型结构（含预训练模型），例如AlexNet、VGG、ResNet等；\n",
    "3. torchvision.transforms: 常用的图片变换，例如裁剪、旋转等；\n",
    "4. torchvision.utils: 其他的一些有用的方法。"
   ]
  },
  {
   "cell_type": "code",
   "execution_count": null,
   "metadata": {
    "ExecuteTime": {
     "end_time": "2020-02-12T05:13:52.972180Z",
     "start_time": "2020-02-12T05:13:49.458808Z"
    },
    "deletable": false,
    "editable": false,
    "run_control": {
     "frozen": true
    }
   },
   "outputs": [],
   "source": [
    "pip install https://github.com/pytorch/text/archive/master.zip "
   ]
  },
  {
   "cell_type": "code",
   "execution_count": 34,
   "metadata": {
    "ExecuteTime": {
     "end_time": "2020-02-12T06:21:50.367514Z",
     "start_time": "2020-02-12T06:21:50.350219Z"
    },
    "_cell_guid": "79c7e3d0-c299-4dcb-8224-4455121ee9b0",
    "_uuid": "d629ff2d2480ee46fbb7e2d37f6b5fab8052498a",
    "graffitiCellId": "id_my8ejol",
    "id": "9C804F2DABDA482BB4375CB0D36E011D",
    "jupyter": {},
    "scrolled": false,
    "slideshow": {
     "slide_type": "slide"
    },
    "tags": []
   },
   "outputs": [
    {
     "name": "stdout",
     "output_type": "stream",
     "text": [
      "1.1.0\n"
     ]
    }
   ],
   "source": [
    "# import needed package\n",
    "%matplotlib inline\n",
    "from IPython import display\n",
    "import matplotlib.pyplot as plt\n",
    "\n",
    "import torch\n",
    "import torchvision\n",
    "import torchvision.transforms as transforms\n",
    "import time\n",
    "\n",
    "import sys\n",
    "# sys.path.append(\"/home/kesci/input\")\n",
    "import utils as d2l\n",
    "\n",
    "print(torch.__version__)\n",
    "# print(torchvision.__version__)\n",
    "\n",
    "from IPython.core.interactiveshell import InteractiveShell\n",
    "InteractiveShell.ast_node_interactivity = \"all\" "
   ]
  },
  {
   "cell_type": "markdown",
   "metadata": {
    "graffitiCellId": "id_75u5u2k",
    "id": "810E6357484047F08D83319B46F7438F",
    "jupyter": {},
    "mdEditEnable": false,
    "slideshow": {
     "slide_type": "slide"
    },
    "tags": []
   },
   "source": [
    "## get dataset"
   ]
  },
  {
   "cell_type": "code",
   "execution_count": 35,
   "metadata": {
    "ExecuteTime": {
     "end_time": "2020-02-12T06:21:50.547062Z",
     "start_time": "2020-02-12T06:21:50.496447Z"
    },
    "graffitiCellId": "id_no4tgy0",
    "id": "6FF62DC73B1D46128E613FC7DFFB3C3C",
    "jupyter": {},
    "slideshow": {
     "slide_type": "slide"
    },
    "tags": []
   },
   "outputs": [],
   "source": [
    "mnist_train = torchvision.datasets.FashionMNIST(root='/home/cc/holdshy/XJQ/Pytorch/Dive_into_DL/', train=True, download=True, transform=transforms.ToTensor())\n",
    "mnist_test = torchvision.datasets.FashionMNIST(root='/home/cc/holdshy/XJQ/Pytorch/Dive_into_DL/', train=False, download=True, transform=transforms.ToTensor())"
   ]
  },
  {
   "cell_type": "markdown",
   "metadata": {
    "graffitiCellId": "id_mekh927",
    "id": "DD5743BBD5614F49829E2AA08F422D77",
    "jupyter": {},
    "mdEditEnable": false,
    "slideshow": {
     "slide_type": "slide"
    },
    "tags": []
   },
   "source": [
    "class torchvision.datasets.FashionMNIST(root, train=True, transform=None, target_transform=None, download=False)\n",
    "- root（string）– 数据集的根目录，其中存放processed/training.pt和processed/test.pt文件。\n",
    "- train（bool, 可选）– 如果设置为True，从training.pt创建数据集，否则从test.pt创建。\n",
    "- download（bool, 可选）– 如果设置为True，从互联网下载数据并放到root文件夹下。如果root目录下已经存在数据，不会再次下载。\n",
    "- transform（可被调用 , 可选）– 一种函数或变换，输入PIL图片，返回变换之后的数据。如：transforms.RandomCrop。\n",
    "- target_transform（可被调用 , 可选）– 一种函数或变换，输入目标，进行变换。"
   ]
  },
  {
   "cell_type": "code",
   "execution_count": 36,
   "metadata": {
    "ExecuteTime": {
     "end_time": "2020-02-12T06:21:50.644921Z",
     "start_time": "2020-02-12T06:21:50.636471Z"
    },
    "graffitiCellId": "id_d4dkkil",
    "id": "B4B6EB3C4CF74C1D8034A9A349870804",
    "jupyter": {},
    "scrolled": false,
    "slideshow": {
     "slide_type": "slide"
    },
    "tags": []
   },
   "outputs": [
    {
     "name": "stdout",
     "output_type": "stream",
     "text": [
      "<class 'torchvision.datasets.mnist.FashionMNIST'>\n",
      "60000 10000\n"
     ]
    }
   ],
   "source": [
    "# show result \n",
    "print(type(mnist_train))\n",
    "print(len(mnist_train), len(mnist_test))"
   ]
  },
  {
   "cell_type": "code",
   "execution_count": 37,
   "metadata": {
    "ExecuteTime": {
     "end_time": "2020-02-12T06:21:50.727388Z",
     "start_time": "2020-02-12T06:21:50.649557Z"
    },
    "graffitiCellId": "id_yndoddn",
    "id": "E35B37B4A94A44AA89722155E8AB5788",
    "jupyter": {},
    "scrolled": false,
    "slideshow": {
     "slide_type": "slide"
    },
    "tags": []
   },
   "outputs": [
    {
     "name": "stdout",
     "output_type": "stream",
     "text": [
      "torch.Size([1, 28, 28]) 9\n"
     ]
    }
   ],
   "source": [
    "# 我们可以通过下标来访问任意一个样本\n",
    "feature, label = mnist_train[0]\n",
    "print(feature.shape, label)  # Channel x Height x Width\n"
   ]
  },
  {
   "cell_type": "markdown",
   "metadata": {
    "graffitiCellId": "id_lkp5d0p",
    "id": "AFC6C721591743D789E443EE6637458E",
    "jupyter": {},
    "mdEditEnable": false,
    "slideshow": {
     "slide_type": "slide"
    },
    "tags": []
   },
   "source": [
    "如果不做变换输入的数据是图像，我们可以看一下图片的类型参数："
   ]
  },
  {
   "cell_type": "code",
   "execution_count": 38,
   "metadata": {
    "ExecuteTime": {
     "end_time": "2020-02-12T06:21:50.866325Z",
     "start_time": "2020-02-12T06:21:50.820184Z"
    },
    "graffitiCellId": "id_2dk2d0m",
    "id": "C72CDF6B5BA64F36AAB028CFCB1242C9",
    "jupyter": {},
    "scrolled": false,
    "slideshow": {
     "slide_type": "slide"
    },
    "tags": []
   },
   "outputs": [
    {
     "name": "stdout",
     "output_type": "stream",
     "text": [
      "<PIL.Image.Image image mode=L size=28x28 at 0x7FBB035E3C88>\n"
     ]
    }
   ],
   "source": [
    "mnist_PIL = torchvision.datasets.FashionMNIST(root='/home/cc/holdshy/XJQ/Pytorch/Dive_into_DL/', train=True, download=True)\n",
    "PIL_feature, label = mnist_PIL[0]\n",
    "print(PIL_feature)"
   ]
  },
  {
   "cell_type": "code",
   "execution_count": 39,
   "metadata": {
    "ExecuteTime": {
     "end_time": "2020-02-12T06:21:50.913212Z",
     "start_time": "2020-02-12T06:21:50.868491Z"
    },
    "graffitiCellId": "id_pku7gp5",
    "id": "B7454582B1484EE4B227BF145B0ED3BA",
    "jupyter": {},
    "scrolled": false,
    "slideshow": {
     "slide_type": "slide"
    },
    "tags": []
   },
   "outputs": [],
   "source": [
    "# 本函数已保存在d2lzh包中方便以后使用\n",
    "def get_fashion_mnist_labels(labels):\n",
    "    text_labels = ['t-shirt', 'trouser', 'pullover', 'dress', 'coat',\n",
    "                   'sandal', 'shirt', 'sneaker', 'bag', 'ankle boot']\n",
    "    return [text_labels[int(i)] for i in labels]"
   ]
  },
  {
   "cell_type": "code",
   "execution_count": 40,
   "metadata": {
    "ExecuteTime": {
     "end_time": "2020-02-12T06:21:51.013874Z",
     "start_time": "2020-02-12T06:21:50.918060Z"
    },
    "graffitiCellId": "id_1x2gagm",
    "id": "D241CBCCD1CD47F28B9480080B93D4FD",
    "jupyter": {},
    "scrolled": false,
    "slideshow": {
     "slide_type": "slide"
    },
    "tags": []
   },
   "outputs": [],
   "source": [
    "def show_fashion_mnist(images, labels):\n",
    "    d2l.use_svg_display()\n",
    "    # 这里的_表示我们忽略（不使用）的变量\n",
    "    _, figs = plt.subplots(1, len(images), figsize=(12, 12))\n",
    "    for f, img, lbl in zip(figs, images, labels):\n",
    "        f.imshow(img.view((28, 28)).numpy())\n",
    "        f.set_title(lbl)\n",
    "        f.axes.get_xaxis().set_visible(False)\n",
    "        f.axes.get_yaxis().set_visible(False)\n",
    "    plt.show()"
   ]
  },
  {
   "cell_type": "code",
   "execution_count": 41,
   "metadata": {
    "ExecuteTime": {
     "end_time": "2020-02-12T06:21:51.433604Z",
     "start_time": "2020-02-12T06:21:51.018369Z"
    },
    "graffitiCellId": "id_us9fuso",
    "id": "056F457B00454FFD81A3CB6AD966C508",
    "jupyter": {},
    "scrolled": false,
    "slideshow": {
     "slide_type": "slide"
    },
    "tags": []
   },
   "outputs": [
    {
     "data": {
      "image/svg+xml": [
       "<?xml version=\"1.0\" encoding=\"utf-8\" standalone=\"no\"?>\n",
       "<!DOCTYPE svg PUBLIC \"-//W3C//DTD SVG 1.1//EN\"\n",
       "  \"http://www.w3.org/Graphics/SVG/1.1/DTD/svg11.dtd\">\n",
       "<!-- Created with matplotlib (https://matplotlib.org/) -->\n",
       "<svg height=\"89.763888pt\" version=\"1.1\" viewBox=\"0 0 687.5 89.763888\" width=\"687.5pt\" xmlns=\"http://www.w3.org/2000/svg\" xmlns:xlink=\"http://www.w3.org/1999/xlink\">\n",
       " <defs>\n",
       "  <style type=\"text/css\">\n",
       "*{stroke-linecap:butt;stroke-linejoin:round;}\n",
       "  </style>\n",
       " </defs>\n",
       " <g id=\"figure_1\">\n",
       "  <g id=\"patch_1\">\n",
       "   <path d=\"M 0 89.763888 \n",
       "L 687.5 89.763888 \n",
       "L 687.5 -0 \n",
       "L 0 -0 \n",
       "z\n",
       "\" style=\"fill:none;\"/>\n",
       "  </g>\n",
       "  <g id=\"axes_1\">\n",
       "   <g id=\"patch_2\">\n",
       "    <path d=\"M 10.7 79.063888 \n",
       "L 67.445763 79.063888 \n",
       "L 67.445763 22.318125 \n",
       "L 10.7 22.318125 \n",
       "z\n",
       "\" style=\"fill:#ffffff;\"/>\n",
       "   </g>\n",
       "   <g clip-path=\"url(#p27c34ba625)\">\n",
       "    <image height=\"57\" id=\"image143f3ea5d1\" transform=\"scale(1 -1)translate(0 -57)\" width=\"57\" x=\"10.7\" xlink:href=\"data:image/png;base64,\n",
       "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\" y=\"-22.063888\"/>\n",
       "   </g>\n",
       "   <g id=\"patch_3\">\n",
       "    <path d=\"M 10.7 79.063888 \n",
       "L 10.7 22.318125 \n",
       "\" style=\"fill:none;stroke:#000000;stroke-linecap:square;stroke-linejoin:miter;stroke-width:0.8;\"/>\n",
       "   </g>\n",
       "   <g id=\"patch_4\">\n",
       "    <path d=\"M 67.445763 79.063888 \n",
       "L 67.445763 22.318125 \n",
       "\" style=\"fill:none;stroke:#000000;stroke-linecap:square;stroke-linejoin:miter;stroke-width:0.8;\"/>\n",
       "   </g>\n",
       "   <g id=\"patch_5\">\n",
       "    <path d=\"M 10.7 79.063888 \n",
       "L 67.445763 79.063888 \n",
       "\" style=\"fill:none;stroke:#000000;stroke-linecap:square;stroke-linejoin:miter;stroke-width:0.8;\"/>\n",
       "   </g>\n",
       "   <g id=\"patch_6\">\n",
       "    <path d=\"M 10.7 22.318125 \n",
       "L 67.445763 22.318125 \n",
       "\" style=\"fill:none;stroke:#000000;stroke-linecap:square;stroke-linejoin:miter;stroke-width:0.8;\"/>\n",
       "   </g>\n",
       "   <g id=\"text_1\">\n",
       "    <!-- ankle boot -->\n",
       "    <defs>\n",
       "     <path d=\"M 34.28125 27.484375 \n",
       "Q 23.390625 27.484375 19.1875 25 \n",
       "Q 14.984375 22.515625 14.984375 16.5 \n",
       "Q 14.984375 11.71875 18.140625 8.90625 \n",
       "Q 21.296875 6.109375 26.703125 6.109375 \n",
       "Q 34.1875 6.109375 38.703125 11.40625 \n",
       "Q 43.21875 16.703125 43.21875 25.484375 \n",
       "L 43.21875 27.484375 \n",
       "z\n",
       "M 52.203125 31.203125 \n",
       "L 52.203125 0 \n",
       "L 43.21875 0 \n",
       "L 43.21875 8.296875 \n",
       "Q 40.140625 3.328125 35.546875 0.953125 \n",
       "Q 30.953125 -1.421875 24.3125 -1.421875 \n",
       "Q 15.921875 -1.421875 10.953125 3.296875 \n",
       "Q 6 8.015625 6 15.921875 \n",
       "Q 6 25.140625 12.171875 29.828125 \n",
       "Q 18.359375 34.515625 30.609375 34.515625 \n",
       "L 43.21875 34.515625 \n",
       "L 43.21875 35.40625 \n",
       "Q 43.21875 41.609375 39.140625 45 \n",
       "Q 35.0625 48.390625 27.6875 48.390625 \n",
       "Q 23 48.390625 18.546875 47.265625 \n",
       "Q 14.109375 46.140625 10.015625 43.890625 \n",
       "L 10.015625 52.203125 \n",
       "Q 14.9375 54.109375 19.578125 55.046875 \n",
       "Q 24.21875 56 28.609375 56 \n",
       "Q 40.484375 56 46.34375 49.84375 \n",
       "Q 52.203125 43.703125 52.203125 31.203125 \n",
       "z\n",
       "\" id=\"DejaVuSans-97\"/>\n",
       "     <path d=\"M 54.890625 33.015625 \n",
       "L 54.890625 0 \n",
       "L 45.90625 0 \n",
       "L 45.90625 32.71875 \n",
       "Q 45.90625 40.484375 42.875 44.328125 \n",
       "Q 39.84375 48.1875 33.796875 48.1875 \n",
       "Q 26.515625 48.1875 22.3125 43.546875 \n",
       "Q 18.109375 38.921875 18.109375 30.90625 \n",
       "L 18.109375 0 \n",
       "L 9.078125 0 \n",
       "L 9.078125 54.6875 \n",
       "L 18.109375 54.6875 \n",
       "L 18.109375 46.1875 \n",
       "Q 21.34375 51.125 25.703125 53.5625 \n",
       "Q 30.078125 56 35.796875 56 \n",
       "Q 45.21875 56 50.046875 50.171875 \n",
       "Q 54.890625 44.34375 54.890625 33.015625 \n",
       "z\n",
       "\" id=\"DejaVuSans-110\"/>\n",
       "     <path d=\"M 9.078125 75.984375 \n",
       "L 18.109375 75.984375 \n",
       "L 18.109375 31.109375 \n",
       "L 44.921875 54.6875 \n",
       "L 56.390625 54.6875 \n",
       "L 27.390625 29.109375 \n",
       "L 57.625 0 \n",
       "L 45.90625 0 \n",
       "L 18.109375 26.703125 \n",
       "L 18.109375 0 \n",
       "L 9.078125 0 \n",
       "z\n",
       "\" id=\"DejaVuSans-107\"/>\n",
       "     <path d=\"M 9.421875 75.984375 \n",
       "L 18.40625 75.984375 \n",
       "L 18.40625 0 \n",
       "L 9.421875 0 \n",
       "z\n",
       "\" id=\"DejaVuSans-108\"/>\n",
       "     <path d=\"M 56.203125 29.59375 \n",
       "L 56.203125 25.203125 \n",
       "L 14.890625 25.203125 \n",
       "Q 15.484375 15.921875 20.484375 11.0625 \n",
       "Q 25.484375 6.203125 34.421875 6.203125 \n",
       "Q 39.59375 6.203125 44.453125 7.46875 \n",
       "Q 49.3125 8.734375 54.109375 11.28125 \n",
       "L 54.109375 2.78125 \n",
       "Q 49.265625 0.734375 44.1875 -0.34375 \n",
       "Q 39.109375 -1.421875 33.890625 -1.421875 \n",
       "Q 20.796875 -1.421875 13.15625 6.1875 \n",
       "Q 5.515625 13.8125 5.515625 26.8125 \n",
       "Q 5.515625 40.234375 12.765625 48.109375 \n",
       "Q 20.015625 56 32.328125 56 \n",
       "Q 43.359375 56 49.78125 48.890625 \n",
       "Q 56.203125 41.796875 56.203125 29.59375 \n",
       "z\n",
       "M 47.21875 32.234375 \n",
       "Q 47.125 39.59375 43.09375 43.984375 \n",
       "Q 39.0625 48.390625 32.421875 48.390625 \n",
       "Q 24.90625 48.390625 20.390625 44.140625 \n",
       "Q 15.875 39.890625 15.1875 32.171875 \n",
       "z\n",
       "\" id=\"DejaVuSans-101\"/>\n",
       "     <path id=\"DejaVuSans-32\"/>\n",
       "     <path d=\"M 48.6875 27.296875 \n",
       "Q 48.6875 37.203125 44.609375 42.84375 \n",
       "Q 40.53125 48.484375 33.40625 48.484375 \n",
       "Q 26.265625 48.484375 22.1875 42.84375 \n",
       "Q 18.109375 37.203125 18.109375 27.296875 \n",
       "Q 18.109375 17.390625 22.1875 11.75 \n",
       "Q 26.265625 6.109375 33.40625 6.109375 \n",
       "Q 40.53125 6.109375 44.609375 11.75 \n",
       "Q 48.6875 17.390625 48.6875 27.296875 \n",
       "z\n",
       "M 18.109375 46.390625 \n",
       "Q 20.953125 51.265625 25.265625 53.625 \n",
       "Q 29.59375 56 35.59375 56 \n",
       "Q 45.5625 56 51.78125 48.09375 \n",
       "Q 58.015625 40.1875 58.015625 27.296875 \n",
       "Q 58.015625 14.40625 51.78125 6.484375 \n",
       "Q 45.5625 -1.421875 35.59375 -1.421875 \n",
       "Q 29.59375 -1.421875 25.265625 0.953125 \n",
       "Q 20.953125 3.328125 18.109375 8.203125 \n",
       "L 18.109375 0 \n",
       "L 9.078125 0 \n",
       "L 9.078125 75.984375 \n",
       "L 18.109375 75.984375 \n",
       "z\n",
       "\" id=\"DejaVuSans-98\"/>\n",
       "     <path d=\"M 30.609375 48.390625 \n",
       "Q 23.390625 48.390625 19.1875 42.75 \n",
       "Q 14.984375 37.109375 14.984375 27.296875 \n",
       "Q 14.984375 17.484375 19.15625 11.84375 \n",
       "Q 23.34375 6.203125 30.609375 6.203125 \n",
       "Q 37.796875 6.203125 41.984375 11.859375 \n",
       "Q 46.1875 17.53125 46.1875 27.296875 \n",
       "Q 46.1875 37.015625 41.984375 42.703125 \n",
       "Q 37.796875 48.390625 30.609375 48.390625 \n",
       "z\n",
       "M 30.609375 56 \n",
       "Q 42.328125 56 49.015625 48.375 \n",
       "Q 55.71875 40.765625 55.71875 27.296875 \n",
       "Q 55.71875 13.875 49.015625 6.21875 \n",
       "Q 42.328125 -1.421875 30.609375 -1.421875 \n",
       "Q 18.84375 -1.421875 12.171875 6.21875 \n",
       "Q 5.515625 13.875 5.515625 27.296875 \n",
       "Q 5.515625 40.765625 12.171875 48.375 \n",
       "Q 18.84375 56 30.609375 56 \n",
       "z\n",
       "\" id=\"DejaVuSans-111\"/>\n",
       "     <path d=\"M 18.3125 70.21875 \n",
       "L 18.3125 54.6875 \n",
       "L 36.8125 54.6875 \n",
       "L 36.8125 47.703125 \n",
       "L 18.3125 47.703125 \n",
       "L 18.3125 18.015625 \n",
       "Q 18.3125 11.328125 20.140625 9.421875 \n",
       "Q 21.96875 7.515625 27.59375 7.515625 \n",
       "L 36.8125 7.515625 \n",
       "L 36.8125 0 \n",
       "L 27.59375 0 \n",
       "Q 17.1875 0 13.234375 3.875 \n",
       "Q 9.28125 7.765625 9.28125 18.015625 \n",
       "L 9.28125 47.703125 \n",
       "L 2.6875 47.703125 \n",
       "L 2.6875 54.6875 \n",
       "L 9.28125 54.6875 \n",
       "L 9.28125 70.21875 \n",
       "z\n",
       "\" id=\"DejaVuSans-116\"/>\n",
       "    </defs>\n",
       "    <g transform=\"translate(7.349756 16.318125)scale(0.12 -0.12)\">\n",
       "     <use xlink:href=\"#DejaVuSans-97\"/>\n",
       "     <use x=\"61.279297\" xlink:href=\"#DejaVuSans-110\"/>\n",
       "     <use x=\"124.658203\" xlink:href=\"#DejaVuSans-107\"/>\n",
       "     <use x=\"182.568359\" xlink:href=\"#DejaVuSans-108\"/>\n",
       "     <use x=\"210.351562\" xlink:href=\"#DejaVuSans-101\"/>\n",
       "     <use x=\"271.875\" xlink:href=\"#DejaVuSans-32\"/>\n",
       "     <use x=\"303.662109\" xlink:href=\"#DejaVuSans-98\"/>\n",
       "     <use x=\"367.138672\" xlink:href=\"#DejaVuSans-111\"/>\n",
       "     <use x=\"428.320312\" xlink:href=\"#DejaVuSans-111\"/>\n",
       "     <use x=\"489.501953\" xlink:href=\"#DejaVuSans-116\"/>\n",
       "    </g>\n",
       "   </g>\n",
       "  </g>\n",
       "  <g id=\"axes_2\">\n",
       "   <g id=\"patch_7\">\n",
       "    <path d=\"M 78.794915 79.063888 \n",
       "L 135.540678 79.063888 \n",
       "L 135.540678 22.318125 \n",
       "L 78.794915 22.318125 \n",
       "z\n",
       "\" style=\"fill:#ffffff;\"/>\n",
       "   </g>\n",
       "   <g clip-path=\"url(#p97937d2692)\">\n",
       "    <image height=\"57\" id=\"image6c6e59ed86\" transform=\"scale(1 -1)translate(0 -57)\" width=\"57\" x=\"78.794915\" xlink:href=\"data:image/png;base64,\n",
       "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\" y=\"-22.063888\"/>\n",
       "   </g>\n",
       "   <g id=\"patch_8\">\n",
       "    <path d=\"M 78.794915 79.063888 \n",
       "L 78.794915 22.318125 \n",
       "\" style=\"fill:none;stroke:#000000;stroke-linecap:square;stroke-linejoin:miter;stroke-width:0.8;\"/>\n",
       "   </g>\n",
       "   <g id=\"patch_9\">\n",
       "    <path d=\"M 135.540678 79.063888 \n",
       "L 135.540678 22.318125 \n",
       "\" style=\"fill:none;stroke:#000000;stroke-linecap:square;stroke-linejoin:miter;stroke-width:0.8;\"/>\n",
       "   </g>\n",
       "   <g id=\"patch_10\">\n",
       "    <path d=\"M 78.794915 79.063888 \n",
       "L 135.540678 79.063888 \n",
       "\" style=\"fill:none;stroke:#000000;stroke-linecap:square;stroke-linejoin:miter;stroke-width:0.8;\"/>\n",
       "   </g>\n",
       "   <g id=\"patch_11\">\n",
       "    <path d=\"M 78.794915 22.318125 \n",
       "L 135.540678 22.318125 \n",
       "\" style=\"fill:none;stroke:#000000;stroke-linecap:square;stroke-linejoin:miter;stroke-width:0.8;\"/>\n",
       "   </g>\n",
       "   <g id=\"text_2\">\n",
       "    <!-- t-shirt -->\n",
       "    <defs>\n",
       "     <path d=\"M 4.890625 31.390625 \n",
       "L 31.203125 31.390625 \n",
       "L 31.203125 23.390625 \n",
       "L 4.890625 23.390625 \n",
       "z\n",
       "\" id=\"DejaVuSans-45\"/>\n",
       "     <path d=\"M 44.28125 53.078125 \n",
       "L 44.28125 44.578125 \n",
       "Q 40.484375 46.53125 36.375 47.5 \n",
       "Q 32.28125 48.484375 27.875 48.484375 \n",
       "Q 21.1875 48.484375 17.84375 46.4375 \n",
       "Q 14.5 44.390625 14.5 40.28125 \n",
       "Q 14.5 37.15625 16.890625 35.375 \n",
       "Q 19.28125 33.59375 26.515625 31.984375 \n",
       "L 29.59375 31.296875 \n",
       "Q 39.15625 29.25 43.1875 25.515625 \n",
       "Q 47.21875 21.78125 47.21875 15.09375 \n",
       "Q 47.21875 7.46875 41.1875 3.015625 \n",
       "Q 35.15625 -1.421875 24.609375 -1.421875 \n",
       "Q 20.21875 -1.421875 15.453125 -0.5625 \n",
       "Q 10.6875 0.296875 5.421875 2 \n",
       "L 5.421875 11.28125 \n",
       "Q 10.40625 8.6875 15.234375 7.390625 \n",
       "Q 20.0625 6.109375 24.8125 6.109375 \n",
       "Q 31.15625 6.109375 34.5625 8.28125 \n",
       "Q 37.984375 10.453125 37.984375 14.40625 \n",
       "Q 37.984375 18.0625 35.515625 20.015625 \n",
       "Q 33.0625 21.96875 24.703125 23.78125 \n",
       "L 21.578125 24.515625 \n",
       "Q 13.234375 26.265625 9.515625 29.90625 \n",
       "Q 5.8125 33.546875 5.8125 39.890625 \n",
       "Q 5.8125 47.609375 11.28125 51.796875 \n",
       "Q 16.75 56 26.8125 56 \n",
       "Q 31.78125 56 36.171875 55.265625 \n",
       "Q 40.578125 54.546875 44.28125 53.078125 \n",
       "z\n",
       "\" id=\"DejaVuSans-115\"/>\n",
       "     <path d=\"M 54.890625 33.015625 \n",
       "L 54.890625 0 \n",
       "L 45.90625 0 \n",
       "L 45.90625 32.71875 \n",
       "Q 45.90625 40.484375 42.875 44.328125 \n",
       "Q 39.84375 48.1875 33.796875 48.1875 \n",
       "Q 26.515625 48.1875 22.3125 43.546875 \n",
       "Q 18.109375 38.921875 18.109375 30.90625 \n",
       "L 18.109375 0 \n",
       "L 9.078125 0 \n",
       "L 9.078125 75.984375 \n",
       "L 18.109375 75.984375 \n",
       "L 18.109375 46.1875 \n",
       "Q 21.34375 51.125 25.703125 53.5625 \n",
       "Q 30.078125 56 35.796875 56 \n",
       "Q 45.21875 56 50.046875 50.171875 \n",
       "Q 54.890625 44.34375 54.890625 33.015625 \n",
       "z\n",
       "\" id=\"DejaVuSans-104\"/>\n",
       "     <path d=\"M 9.421875 54.6875 \n",
       "L 18.40625 54.6875 \n",
       "L 18.40625 0 \n",
       "L 9.421875 0 \n",
       "z\n",
       "M 9.421875 75.984375 \n",
       "L 18.40625 75.984375 \n",
       "L 18.40625 64.59375 \n",
       "L 9.421875 64.59375 \n",
       "z\n",
       "\" id=\"DejaVuSans-105\"/>\n",
       "     <path d=\"M 41.109375 46.296875 \n",
       "Q 39.59375 47.171875 37.8125 47.578125 \n",
       "Q 36.03125 48 33.890625 48 \n",
       "Q 26.265625 48 22.1875 43.046875 \n",
       "Q 18.109375 38.09375 18.109375 28.8125 \n",
       "L 18.109375 0 \n",
       "L 9.078125 0 \n",
       "L 9.078125 54.6875 \n",
       "L 18.109375 54.6875 \n",
       "L 18.109375 46.1875 \n",
       "Q 20.953125 51.171875 25.484375 53.578125 \n",
       "Q 30.03125 56 36.53125 56 \n",
       "Q 37.453125 56 38.578125 55.875 \n",
       "Q 39.703125 55.765625 41.0625 55.515625 \n",
       "z\n",
       "\" id=\"DejaVuSans-114\"/>\n",
       "    </defs>\n",
       "    <g transform=\"translate(89.237172 16.318125)scale(0.12 -0.12)\">\n",
       "     <use xlink:href=\"#DejaVuSans-116\"/>\n",
       "     <use x=\"39.208984\" xlink:href=\"#DejaVuSans-45\"/>\n",
       "     <use x=\"75.292969\" xlink:href=\"#DejaVuSans-115\"/>\n",
       "     <use x=\"127.392578\" xlink:href=\"#DejaVuSans-104\"/>\n",
       "     <use x=\"190.771484\" xlink:href=\"#DejaVuSans-105\"/>\n",
       "     <use x=\"218.554688\" xlink:href=\"#DejaVuSans-114\"/>\n",
       "     <use x=\"259.667969\" xlink:href=\"#DejaVuSans-116\"/>\n",
       "    </g>\n",
       "   </g>\n",
       "  </g>\n",
       "  <g id=\"axes_3\">\n",
       "   <g id=\"patch_12\">\n",
       "    <path d=\"M 146.889831 79.063888 \n",
       "L 203.635593 79.063888 \n",
       "L 203.635593 22.318125 \n",
       "L 146.889831 22.318125 \n",
       "z\n",
       "\" style=\"fill:#ffffff;\"/>\n",
       "   </g>\n",
       "   <g clip-path=\"url(#pe089a279cb)\">\n",
       "    <image height=\"57\" id=\"image98d2a5f839\" transform=\"scale(1 -1)translate(0 -57)\" width=\"57\" x=\"146.889831\" xlink:href=\"data:image/png;base64,\n",
       "iVBORw0KGgoAAAANSUhEUgAAADkAAAA5CAYAAACMGIOFAAAABHNCSVQICAgIfAhkiAAABCdJREFUaIHtmr2PG0UYh5/x2jlnz7nIl+QIguiQIgogCEKFhKIUpKcASgpoEBUFFR3/BA1IUURLhxAVPVIKCgoIoiBwCQR0p5yc2Gd717sU77xje72Xm929Bt38mr3d+di5efx7d77MDfNOThMZI9e8vJr20xcBSLe3AJj01+ZFbZHTOwOp4u49ALLhsNI7jlKrVqn/mdqNa7C921pfB2D/rZcBODgv/Zes22y2O1uzkipeOweAmcm1dz8DYPObnwGYDQaNmngiSJqmnow2NgD486MrUqFAoH1QyGift9L560zhzVkk1/F5s1TX9he/AjDb3avVxhNBsrEnH735AjDv9bV9waNUsIHRWC/m0bysgmyly3XGDyQl6Unh8avPAdD5PpA8VI1Jpl3p7VYi97klp1FU7x3Bkggw66gHJVEjceex3Kc9Kdyp2cZA0ke9nTEAo6diYO5N9aJSKSOoUoLu3t5mtnWjC0LydM02BpI+iibWfJac9r4jWkHFMpn16uadcc3WiQJJH5lJUnggl7xB92lEzmw4bT+ayPOa9QWSPjKJfhDtfcnIZjH9Scra9ntpZzZKkhr+XlQg6SP1pEZG/cY5cDWMlEc64JVLaySeLJmKeimQ9JL1j3pQI6PzqCXsoq1hRblZ9mLuQrTNsPewURMDSS+lnk4pIeiSlKCuyqm/teppslqoggJJL+XL4dRF1yI59dcTiKpMvpw5n9WNq6JA0kf5cCR/aEAsRNfiGNYsQFlJo+BNtehBmIUcqRPxTzb/uabL64lHTbGW0gs/bfdYF7R0eJeFwHOkmg/QdUjWrLOBecBpj5vtJhYVSPrIxLJQOLN7q7rIvDLFKvPfIYN4XZiebixvC65sznoqkPRR+uAfAMzssjxYiZT2cXE5ZEFKUIdzadc2bij46xJUBZJVVFwYVl9l0eH5it9U3cLTTaTu3vFE2UCyipRQGgsF3Yx1Y+3DpmCwMv1aidQNFUhWkbF+MoXNVrdUqV5c9GjBx0pZ85Ydh6mjQLKKTtmt78QSdNHVppdtpxePuBSpR83myk6BZBW5OaCRfsuiZUzdfcGzeFgpie3RtLiwmKzbA2n4Tnrr2Ejqtpsq3hVTKuHBJXmVHikD2LgrdM/ck9A8uiB53LfUY/nSR4FkFekRsfhfoTPYlqpvfPADAC/F9wHYjB67Mr+MnwHg1p3XAdj6Suamk75t1jEtEASSVdSa2rngmhC9/v5tAK6dkWOc17q7APSj2JW53PkJgCtXdwD4JH8XgHNfS55p73gYBJI+ivp9AKZnheB7H38HwMNU1mVu/f0GAJ8nMrUYJqdc2Yvrcuz6bEeGNp+98i0Anw7eBmDzdiDprcbHs1Xt7UsA/PbhswA8/+VfAKS//+FdR3b9KgB7L8oiz9bNHwHIJ5NGbTsRJP8DGXZR6w0NfBcAAAAASUVORK5CYII=\" y=\"-22.063888\"/>\n",
       "   </g>\n",
       "   <g id=\"patch_13\">\n",
       "    <path d=\"M 146.889831 79.063888 \n",
       "L 146.889831 22.318125 \n",
       "\" style=\"fill:none;stroke:#000000;stroke-linecap:square;stroke-linejoin:miter;stroke-width:0.8;\"/>\n",
       "   </g>\n",
       "   <g id=\"patch_14\">\n",
       "    <path d=\"M 203.635593 79.063888 \n",
       "L 203.635593 22.318125 \n",
       "\" style=\"fill:none;stroke:#000000;stroke-linecap:square;stroke-linejoin:miter;stroke-width:0.8;\"/>\n",
       "   </g>\n",
       "   <g id=\"patch_15\">\n",
       "    <path d=\"M 146.889831 79.063888 \n",
       "L 203.635593 79.063888 \n",
       "\" style=\"fill:none;stroke:#000000;stroke-linecap:square;stroke-linejoin:miter;stroke-width:0.8;\"/>\n",
       "   </g>\n",
       "   <g id=\"patch_16\">\n",
       "    <path d=\"M 146.889831 22.318125 \n",
       "L 203.635593 22.318125 \n",
       "\" style=\"fill:none;stroke:#000000;stroke-linecap:square;stroke-linejoin:miter;stroke-width:0.8;\"/>\n",
       "   </g>\n",
       "   <g id=\"text_3\">\n",
       "    <!-- t-shirt -->\n",
       "    <g transform=\"translate(157.332087 16.318125)scale(0.12 -0.12)\">\n",
       "     <use xlink:href=\"#DejaVuSans-116\"/>\n",
       "     <use x=\"39.208984\" xlink:href=\"#DejaVuSans-45\"/>\n",
       "     <use x=\"75.292969\" xlink:href=\"#DejaVuSans-115\"/>\n",
       "     <use x=\"127.392578\" xlink:href=\"#DejaVuSans-104\"/>\n",
       "     <use x=\"190.771484\" xlink:href=\"#DejaVuSans-105\"/>\n",
       "     <use x=\"218.554688\" xlink:href=\"#DejaVuSans-114\"/>\n",
       "     <use x=\"259.667969\" xlink:href=\"#DejaVuSans-116\"/>\n",
       "    </g>\n",
       "   </g>\n",
       "  </g>\n",
       "  <g id=\"axes_4\">\n",
       "   <g id=\"patch_17\">\n",
       "    <path d=\"M 214.984746 79.063888 \n",
       "L 271.730508 79.063888 \n",
       "L 271.730508 22.318125 \n",
       "L 214.984746 22.318125 \n",
       "z\n",
       "\" style=\"fill:#ffffff;\"/>\n",
       "   </g>\n",
       "   <g clip-path=\"url(#pce8f29ce77)\">\n",
       "    <image height=\"57\" id=\"image2d342c6598\" transform=\"scale(1 -1)translate(0 -57)\" width=\"57\" x=\"214.984746\" xlink:href=\"data:image/png;base64,\n",
       "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\" y=\"-22.063888\"/>\n",
       "   </g>\n",
       "   <g id=\"patch_18\">\n",
       "    <path d=\"M 214.984746 79.063888 \n",
       "L 214.984746 22.318125 \n",
       "\" style=\"fill:none;stroke:#000000;stroke-linecap:square;stroke-linejoin:miter;stroke-width:0.8;\"/>\n",
       "   </g>\n",
       "   <g id=\"patch_19\">\n",
       "    <path d=\"M 271.730508 79.063888 \n",
       "L 271.730508 22.318125 \n",
       "\" style=\"fill:none;stroke:#000000;stroke-linecap:square;stroke-linejoin:miter;stroke-width:0.8;\"/>\n",
       "   </g>\n",
       "   <g id=\"patch_20\">\n",
       "    <path d=\"M 214.984746 79.063888 \n",
       "L 271.730508 79.063888 \n",
       "\" style=\"fill:none;stroke:#000000;stroke-linecap:square;stroke-linejoin:miter;stroke-width:0.8;\"/>\n",
       "   </g>\n",
       "   <g id=\"patch_21\">\n",
       "    <path d=\"M 214.984746 22.318125 \n",
       "L 271.730508 22.318125 \n",
       "\" style=\"fill:none;stroke:#000000;stroke-linecap:square;stroke-linejoin:miter;stroke-width:0.8;\"/>\n",
       "   </g>\n",
       "   <g id=\"text_4\">\n",
       "    <!-- dress -->\n",
       "    <defs>\n",
       "     <path d=\"M 45.40625 46.390625 \n",
       "L 45.40625 75.984375 \n",
       "L 54.390625 75.984375 \n",
       "L 54.390625 0 \n",
       "L 45.40625 0 \n",
       "L 45.40625 8.203125 \n",
       "Q 42.578125 3.328125 38.25 0.953125 \n",
       "Q 33.9375 -1.421875 27.875 -1.421875 \n",
       "Q 17.96875 -1.421875 11.734375 6.484375 \n",
       "Q 5.515625 14.40625 5.515625 27.296875 \n",
       "Q 5.515625 40.1875 11.734375 48.09375 \n",
       "Q 17.96875 56 27.875 56 \n",
       "Q 33.9375 56 38.25 53.625 \n",
       "Q 42.578125 51.265625 45.40625 46.390625 \n",
       "z\n",
       "M 14.796875 27.296875 \n",
       "Q 14.796875 17.390625 18.875 11.75 \n",
       "Q 22.953125 6.109375 30.078125 6.109375 \n",
       "Q 37.203125 6.109375 41.296875 11.75 \n",
       "Q 45.40625 17.390625 45.40625 27.296875 \n",
       "Q 45.40625 37.203125 41.296875 42.84375 \n",
       "Q 37.203125 48.484375 30.078125 48.484375 \n",
       "Q 22.953125 48.484375 18.875 42.84375 \n",
       "Q 14.796875 37.203125 14.796875 27.296875 \n",
       "z\n",
       "\" id=\"DejaVuSans-100\"/>\n",
       "    </defs>\n",
       "    <g transform=\"translate(227.140752 16.318125)scale(0.12 -0.12)\">\n",
       "     <use xlink:href=\"#DejaVuSans-100\"/>\n",
       "     <use x=\"63.476562\" xlink:href=\"#DejaVuSans-114\"/>\n",
       "     <use x=\"104.558594\" xlink:href=\"#DejaVuSans-101\"/>\n",
       "     <use x=\"166.082031\" xlink:href=\"#DejaVuSans-115\"/>\n",
       "     <use x=\"218.181641\" xlink:href=\"#DejaVuSans-115\"/>\n",
       "    </g>\n",
       "   </g>\n",
       "  </g>\n",
       "  <g id=\"axes_5\">\n",
       "   <g id=\"patch_22\">\n",
       "    <path d=\"M 283.079661 79.063888 \n",
       "L 339.825424 79.063888 \n",
       "L 339.825424 22.318125 \n",
       "L 283.079661 22.318125 \n",
       "z\n",
       "\" style=\"fill:#ffffff;\"/>\n",
       "   </g>\n",
       "   <g clip-path=\"url(#p27c36671c1)\">\n",
       "    <image height=\"57\" id=\"image6a693455d5\" transform=\"scale(1 -1)translate(0 -57)\" width=\"57\" x=\"283.079661\" xlink:href=\"data:image/png;base64,\n",
       "iVBORw0KGgoAAAANSUhEUgAAADkAAAA5CAYAAACMGIOFAAAABHNCSVQICAgIfAhkiAAABXpJREFUaIHtm0tsVFUYx3/3XqYznc60pUB5FCVYqYSERCgYg+hGJYbgCqMLF25M1I1RSVy6cqFhIQsXPhKjCxMNQRcmGkw0yEPFitEgRQstJSC0FJrBaYd53XtdfN+ZV5vmdu4sTHr/m3mdc/L1/O75HuecWo9ZT/m0UPknHwDg1pZlALQ/fBOA3peLAJTHxittR97fCUDHqhwAqSNpALo+/bmVJmG3dLT/qZaFHcB/6H4Avj38MQCXSicBmPbaABiMy+uOR18CYEUNydN7DwHQ63RI38EZADYeTAGw69UXAUh/Ho5sRDKIqgSFwlChD4CcFwdgMH4DgOQNd07fE3fWArC5bRKA0VKv9PVvAfDjO+8BsPfs0wC4wyNN2RiRXEjXXt8FwKiuwdHScgC6bfGUJb9+aN+25oyxM3ENgIwnbTvtPABXyt0AJCwhev61TgAGnm/O1ojkQurdcxWAHlvm6YLOV8wqAzBZ6tKWQqOYkt+TNWMkLaVrS59pXbYJqwTASscBYOfmSwDcbtLWiORCGhsXTzjWL0Mcz94HwED7BAApR9bXcXnhszcPAnD2jd7KGBdLCQBGiqsByHrtAMQsQbrKGQVgaGSjjK1PxWIVkVxIfd/IehncKxnNUacAVCnYeABMlGVt9jkSRw0tgGk3VTdmhy1j/JCRp+LxpMTF1HBbs2aqLUtATZPsOjUOgOsLsaSSdP36eGji5ZQrBDNu1b8a6glLKpSELV715Fg/ALk18rSsGC41ayYQkVxY5QnJN88UhUZas5W8L+vHrC9D1raEuImBACVfSHmWzHXGlWrkrR1fALDakT7tx85JuyZtjUgG0ZGMVPfbkpcBuKUe09F5dxFaeT8m31tVHoakUcGTNle8HgCOah8vlwtlY0QyiA7/MQjAI7v/AuCaViOuUz9/eaU0n4rqgW+W5Snoj8t6f/v8HgDWcj6UjRHJIFp5TLyps1s2/cw6a4yXns6nPY+PNGvRRsZ4Ni27CR99kJrTthlFJIOo5+y/ADyRlLg4WpR42UjOeFdvnnk19NNauZwqSJv410NhzVMbloDC77uekWzktncHqOajrq8kNS4WK2u1Oq+uzrGLrF+TNf2auyesWXVaEiSXxB8Z+nE18vz6cyPjTGrTOKg+orUyIWTVsiwAX17fpr9cbYltEcnFyMVv+KxORR2NKZ6dmmSgoGEl50pCkdTy7MJV2ezaFJEMrpaRLPnzn+UaoiZBry2vzHvbkr6moLanwm1cNSoiuRjFrLkHOlBbPNt1r1BNFDxN5o0ndjua3eiYXxHJxWi53V732WkoqSqfa4CbFDCuBz6VVDAdbguyURHJQANs3KDvfgOqHjOnFyMcjZ9x3TiuJWzKr4Iewpoj+O6u2bBm1SkiGUSldbJxdWR2ed33Jg81m1S39ZjAlFO176+jx+dKOxErhzWrThHJIJpZLwep5kLEpC9UjOfsduT75zpl83msVPWcQ/m7ARhIyMFtjx7vef78MbdZRSSDaGa9zJM54DHeNesK4X0dUknse0aunU0cKFb6frfjQwAOZzcD4Gmc7EvJFYhsWONUEckgyg7IGjMxz+Sjd7XJJYYuzYTsk79LhwNbKn3NxUFDcFaP/TYkpwH4M6xxqohkEPVtEGKzmq2YmnCFLVlL43HBg+suV96PlKSN2RHIaiydLHRqi0xY84CIZDBt6p4CoE3j4vb2cQDW6EWJE3mhcuGT7QAcWv1upW9M89qtiSsADOs10q3pfwD4no6w5gERyWAquDLE6Vm5lnIuKxd1Z15YCYB77m8ANmmV8gq7Kn2de+U62f6vfgJgTUzW4C9ZOSZwumWdu5lmrw6KlgRJq9X/MhFGhqx78VJLx10SJP8DL5zDM0GRORcAAAAASUVORK5CYII=\" y=\"-22.063888\"/>\n",
       "   </g>\n",
       "   <g id=\"patch_23\">\n",
       "    <path d=\"M 283.079661 79.063888 \n",
       "L 283.079661 22.318125 \n",
       "\" style=\"fill:none;stroke:#000000;stroke-linecap:square;stroke-linejoin:miter;stroke-width:0.8;\"/>\n",
       "   </g>\n",
       "   <g id=\"patch_24\">\n",
       "    <path d=\"M 339.825424 79.063888 \n",
       "L 339.825424 22.318125 \n",
       "\" style=\"fill:none;stroke:#000000;stroke-linecap:square;stroke-linejoin:miter;stroke-width:0.8;\"/>\n",
       "   </g>\n",
       "   <g id=\"patch_25\">\n",
       "    <path d=\"M 283.079661 79.063888 \n",
       "L 339.825424 79.063888 \n",
       "\" style=\"fill:none;stroke:#000000;stroke-linecap:square;stroke-linejoin:miter;stroke-width:0.8;\"/>\n",
       "   </g>\n",
       "   <g id=\"patch_26\">\n",
       "    <path d=\"M 283.079661 22.318125 \n",
       "L 339.825424 22.318125 \n",
       "\" style=\"fill:none;stroke:#000000;stroke-linecap:square;stroke-linejoin:miter;stroke-width:0.8;\"/>\n",
       "   </g>\n",
       "   <g id=\"text_5\">\n",
       "    <!-- t-shirt -->\n",
       "    <g transform=\"translate(293.521917 16.318125)scale(0.12 -0.12)\">\n",
       "     <use xlink:href=\"#DejaVuSans-116\"/>\n",
       "     <use x=\"39.208984\" xlink:href=\"#DejaVuSans-45\"/>\n",
       "     <use x=\"75.292969\" xlink:href=\"#DejaVuSans-115\"/>\n",
       "     <use x=\"127.392578\" xlink:href=\"#DejaVuSans-104\"/>\n",
       "     <use x=\"190.771484\" xlink:href=\"#DejaVuSans-105\"/>\n",
       "     <use x=\"218.554688\" xlink:href=\"#DejaVuSans-114\"/>\n",
       "     <use x=\"259.667969\" xlink:href=\"#DejaVuSans-116\"/>\n",
       "    </g>\n",
       "   </g>\n",
       "  </g>\n",
       "  <g id=\"axes_6\">\n",
       "   <g id=\"patch_27\">\n",
       "    <path d=\"M 351.174576 79.063888 \n",
       "L 407.920339 79.063888 \n",
       "L 407.920339 22.318125 \n",
       "L 351.174576 22.318125 \n",
       "z\n",
       "\" style=\"fill:#ffffff;\"/>\n",
       "   </g>\n",
       "   <g clip-path=\"url(#p58d352c8cb)\">\n",
       "    <image height=\"57\" id=\"image1220b7c129\" transform=\"scale(1 -1)translate(0 -57)\" width=\"57\" x=\"351.174576\" xlink:href=\"data:image/png;base64,\n",
       "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\" y=\"-22.063888\"/>\n",
       "   </g>\n",
       "   <g id=\"patch_28\">\n",
       "    <path d=\"M 351.174576 79.063888 \n",
       "L 351.174576 22.318125 \n",
       "\" style=\"fill:none;stroke:#000000;stroke-linecap:square;stroke-linejoin:miter;stroke-width:0.8;\"/>\n",
       "   </g>\n",
       "   <g id=\"patch_29\">\n",
       "    <path d=\"M 407.920339 79.063888 \n",
       "L 407.920339 22.318125 \n",
       "\" style=\"fill:none;stroke:#000000;stroke-linecap:square;stroke-linejoin:miter;stroke-width:0.8;\"/>\n",
       "   </g>\n",
       "   <g id=\"patch_30\">\n",
       "    <path d=\"M 351.174576 79.063888 \n",
       "L 407.920339 79.063888 \n",
       "\" style=\"fill:none;stroke:#000000;stroke-linecap:square;stroke-linejoin:miter;stroke-width:0.8;\"/>\n",
       "   </g>\n",
       "   <g id=\"patch_31\">\n",
       "    <path d=\"M 351.174576 22.318125 \n",
       "L 407.920339 22.318125 \n",
       "\" style=\"fill:none;stroke:#000000;stroke-linecap:square;stroke-linejoin:miter;stroke-width:0.8;\"/>\n",
       "   </g>\n",
       "   <g id=\"text_6\">\n",
       "    <!-- pullover -->\n",
       "    <defs>\n",
       "     <path d=\"M 18.109375 8.203125 \n",
       "L 18.109375 -20.796875 \n",
       "L 9.078125 -20.796875 \n",
       "L 9.078125 54.6875 \n",
       "L 18.109375 54.6875 \n",
       "L 18.109375 46.390625 \n",
       "Q 20.953125 51.265625 25.265625 53.625 \n",
       "Q 29.59375 56 35.59375 56 \n",
       "Q 45.5625 56 51.78125 48.09375 \n",
       "Q 58.015625 40.1875 58.015625 27.296875 \n",
       "Q 58.015625 14.40625 51.78125 6.484375 \n",
       "Q 45.5625 -1.421875 35.59375 -1.421875 \n",
       "Q 29.59375 -1.421875 25.265625 0.953125 \n",
       "Q 20.953125 3.328125 18.109375 8.203125 \n",
       "z\n",
       "M 48.6875 27.296875 \n",
       "Q 48.6875 37.203125 44.609375 42.84375 \n",
       "Q 40.53125 48.484375 33.40625 48.484375 \n",
       "Q 26.265625 48.484375 22.1875 42.84375 \n",
       "Q 18.109375 37.203125 18.109375 27.296875 \n",
       "Q 18.109375 17.390625 22.1875 11.75 \n",
       "Q 26.265625 6.109375 33.40625 6.109375 \n",
       "Q 40.53125 6.109375 44.609375 11.75 \n",
       "Q 48.6875 17.390625 48.6875 27.296875 \n",
       "z\n",
       "\" id=\"DejaVuSans-112\"/>\n",
       "     <path d=\"M 8.5 21.578125 \n",
       "L 8.5 54.6875 \n",
       "L 17.484375 54.6875 \n",
       "L 17.484375 21.921875 \n",
       "Q 17.484375 14.15625 20.5 10.265625 \n",
       "Q 23.53125 6.390625 29.59375 6.390625 \n",
       "Q 36.859375 6.390625 41.078125 11.03125 \n",
       "Q 45.3125 15.671875 45.3125 23.6875 \n",
       "L 45.3125 54.6875 \n",
       "L 54.296875 54.6875 \n",
       "L 54.296875 0 \n",
       "L 45.3125 0 \n",
       "L 45.3125 8.40625 \n",
       "Q 42.046875 3.421875 37.71875 1 \n",
       "Q 33.40625 -1.421875 27.6875 -1.421875 \n",
       "Q 18.265625 -1.421875 13.375 4.4375 \n",
       "Q 8.5 10.296875 8.5 21.578125 \n",
       "z\n",
       "M 31.109375 56 \n",
       "z\n",
       "\" id=\"DejaVuSans-117\"/>\n",
       "     <path d=\"M 2.984375 54.6875 \n",
       "L 12.5 54.6875 \n",
       "L 29.59375 8.796875 \n",
       "L 46.6875 54.6875 \n",
       "L 56.203125 54.6875 \n",
       "L 35.6875 0 \n",
       "L 23.484375 0 \n",
       "z\n",
       "\" id=\"DejaVuSans-118\"/>\n",
       "    </defs>\n",
       "    <g transform=\"translate(355.221208 16.318125)scale(0.12 -0.12)\">\n",
       "     <use xlink:href=\"#DejaVuSans-112\"/>\n",
       "     <use x=\"63.476562\" xlink:href=\"#DejaVuSans-117\"/>\n",
       "     <use x=\"126.855469\" xlink:href=\"#DejaVuSans-108\"/>\n",
       "     <use x=\"154.638672\" xlink:href=\"#DejaVuSans-108\"/>\n",
       "     <use x=\"182.421875\" xlink:href=\"#DejaVuSans-111\"/>\n",
       "     <use x=\"243.603516\" xlink:href=\"#DejaVuSans-118\"/>\n",
       "     <use x=\"302.783203\" xlink:href=\"#DejaVuSans-101\"/>\n",
       "     <use x=\"364.306641\" xlink:href=\"#DejaVuSans-114\"/>\n",
       "    </g>\n",
       "   </g>\n",
       "  </g>\n",
       "  <g id=\"axes_7\">\n",
       "   <g id=\"patch_32\">\n",
       "    <path d=\"M 419.269492 79.063888 \n",
       "L 476.015254 79.063888 \n",
       "L 476.015254 22.318125 \n",
       "L 419.269492 22.318125 \n",
       "z\n",
       "\" style=\"fill:#ffffff;\"/>\n",
       "   </g>\n",
       "   <g clip-path=\"url(#p95f150cac8)\">\n",
       "    <image height=\"57\" id=\"image258b13271e\" transform=\"scale(1 -1)translate(0 -57)\" width=\"57\" x=\"419.269492\" xlink:href=\"data:image/png;base64,\n",
       "iVBORw0KGgoAAAANSUhEUgAAADkAAAA5CAYAAACMGIOFAAAABHNCSVQICAgIfAhkiAAABMBJREFUaIHtmUtsVGUUx3/3MY8OnT6AFKGQovgAkfCISaOC8YEYMBqjLFjJggWJmrhyY4gbXSkLY0zUxLhyYTCaGKKsfGyQxNdCY6MgtLTQFhSZTjvtdObOvS7+353x0lIGNZreuWfzzf2+8/jO9z/nfOfesXZaewNiTvb/vYH/ghIn40KJk3GhxMm4UOJkXChxMi6UOBkXcptltPN5AKxMWqMr0SC/RGOb5oN0VGXg6hwD25Kc58/RHTiGJ63RqojHLUyLwZJskHKiNkJdxkb4bE9KrvbroJ6bdXIxU/3Yna5OAKyl3UDj5EOyqp7mi1OayBrRwqTWC3q0XZ02gXlNdczp57LGolPXGWRSAPgKAnxLa9UuTUyvkkwlLyz8lLFRNfwhoDntNTUpm05VUdexQj61BpLOih79mp0FwDszFGGwczkA/I3rALh872oAJvt0euWVNQCCjEbCALANkr4m3EuCwS01IiTzhxkL4s0Wama+AkDbqPZkT85E9hRkDfRWNNoYvQhArWDCykRTayCJL29n+m8BYOweE/jrlXtbes8DcEf+GwB6UkUAltg65bJJlJSlnE1bQqM/OwJA1UCbtWSn027kZM5KG9nGHMCwJ9sjnqKo4Gss+RkA/EDY/OZ1RGwPTK8CoDcj+U8O3Q+0CpJDB4Xgtj0DAGw2p+CgO6fotQHwe7UdgLMzywCwLa23OdUI/1hZFe2jYBsAWbPu+UJraXq6bjzU0Z3S3JSXiWxuWaoEQN4pAw3EykHK2FR0TNRykb10u5Ib2W3sNHMSi53cNS9/BcD4cZ3817t0ms7NQrQto0q3uWcUgN6sKlfR0x02OiPkblxyCYC1OY3LU5LPmEttrNIFNFCBBpITJvdmTX4XDaIXZjsifPt7jmtvBsE+V/Xh09IGAE6WVpj1aFfVEkha1/sFffjFuwF4dt9RAHbkTgFwbHITAGfLytmZmlDp7zgTka8Gc9vliZryfnB6uZ6ripLVOUVNt6uc/eLCrQBkdg1F5E+/ehcA7zzxNgBHC1sAGDiwHmgRJFvCybnhalolK2ysPW9BBaW9/QCMPa4CdWzHGwB8X1b791nhdqARvmFhAliZVjherKrAjJtCsyZ7WToKawDY3KmG5OH8j+Krqdi9OXyfFD00BoDTrtc+q1vr3lk1JC2KZEhh++WrTbOzKgZ+uTwve0hhw//L4V4APtz+FgDnzel/WdxQ5w2voXZHLWJ4mR/5eSsABzaeAODdj3cCsPaQnt0+ITz4lMZvD74GwJOP7AegskxXkvv5d9r7gjuOCV33FTJXg3ndCeZXY23dCMDpfcq3m+4cqa8due0DAN4r6mr4YUp5PFLSi/vunp8A2NOu8em+7fPaGH9O19oNjw1r4sFzkfUEyb+ncWFk/0oXnxEChU2q4IcfeB+AcU/5O1VTzh4ZUo4uf/TkvHrCenHqJfGte/5EdL3pzS9i+veRvNJAynyqrFaaljn3ghB+/YDatFfWbfpHe0iQvD5NV3xUMjlZ/whdq0XmoQmUr7irr2o6o1ezoFKZYwNaBMmm/ya4Jl2lmi7U+14zT6+BYF2P+Zx6NWoJJBMn40KJk3GhxMm4UOJkXChxMi6UOBkXSpyMC/0JeJ11EyvWPzYAAAAASUVORK5CYII=\" y=\"-22.063888\"/>\n",
       "   </g>\n",
       "   <g id=\"patch_33\">\n",
       "    <path d=\"M 419.269492 79.063888 \n",
       "L 419.269492 22.318125 \n",
       "\" style=\"fill:none;stroke:#000000;stroke-linecap:square;stroke-linejoin:miter;stroke-width:0.8;\"/>\n",
       "   </g>\n",
       "   <g id=\"patch_34\">\n",
       "    <path d=\"M 476.015254 79.063888 \n",
       "L 476.015254 22.318125 \n",
       "\" style=\"fill:none;stroke:#000000;stroke-linecap:square;stroke-linejoin:miter;stroke-width:0.8;\"/>\n",
       "   </g>\n",
       "   <g id=\"patch_35\">\n",
       "    <path d=\"M 419.269492 79.063888 \n",
       "L 476.015254 79.063888 \n",
       "\" style=\"fill:none;stroke:#000000;stroke-linecap:square;stroke-linejoin:miter;stroke-width:0.8;\"/>\n",
       "   </g>\n",
       "   <g id=\"patch_36\">\n",
       "    <path d=\"M 419.269492 22.318125 \n",
       "L 476.015254 22.318125 \n",
       "\" style=\"fill:none;stroke:#000000;stroke-linecap:square;stroke-linejoin:miter;stroke-width:0.8;\"/>\n",
       "   </g>\n",
       "   <g id=\"text_7\">\n",
       "    <!-- sneaker -->\n",
       "    <g transform=\"translate(423.715498 16.318125)scale(0.12 -0.12)\">\n",
       "     <use xlink:href=\"#DejaVuSans-115\"/>\n",
       "     <use x=\"52.099609\" xlink:href=\"#DejaVuSans-110\"/>\n",
       "     <use x=\"115.478516\" xlink:href=\"#DejaVuSans-101\"/>\n",
       "     <use x=\"177.001953\" xlink:href=\"#DejaVuSans-97\"/>\n",
       "     <use x=\"238.28125\" xlink:href=\"#DejaVuSans-107\"/>\n",
       "     <use x=\"296.144531\" xlink:href=\"#DejaVuSans-101\"/>\n",
       "     <use x=\"357.667969\" xlink:href=\"#DejaVuSans-114\"/>\n",
       "    </g>\n",
       "   </g>\n",
       "  </g>\n",
       "  <g id=\"axes_8\">\n",
       "   <g id=\"patch_37\">\n",
       "    <path d=\"M 487.364407 79.063888 \n",
       "L 544.110169 79.063888 \n",
       "L 544.110169 22.318125 \n",
       "L 487.364407 22.318125 \n",
       "z\n",
       "\" style=\"fill:#ffffff;\"/>\n",
       "   </g>\n",
       "   <g clip-path=\"url(#pa4507712da)\">\n",
       "    <image height=\"57\" id=\"image252584d70d\" transform=\"scale(1 -1)translate(0 -57)\" width=\"57\" x=\"487.364407\" xlink:href=\"data:image/png;base64,\n",
       "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\" y=\"-22.063888\"/>\n",
       "   </g>\n",
       "   <g id=\"patch_38\">\n",
       "    <path d=\"M 487.364407 79.063888 \n",
       "L 487.364407 22.318125 \n",
       "\" style=\"fill:none;stroke:#000000;stroke-linecap:square;stroke-linejoin:miter;stroke-width:0.8;\"/>\n",
       "   </g>\n",
       "   <g id=\"patch_39\">\n",
       "    <path d=\"M 544.110169 79.063888 \n",
       "L 544.110169 22.318125 \n",
       "\" style=\"fill:none;stroke:#000000;stroke-linecap:square;stroke-linejoin:miter;stroke-width:0.8;\"/>\n",
       "   </g>\n",
       "   <g id=\"patch_40\">\n",
       "    <path d=\"M 487.364407 79.063888 \n",
       "L 544.110169 79.063888 \n",
       "\" style=\"fill:none;stroke:#000000;stroke-linecap:square;stroke-linejoin:miter;stroke-width:0.8;\"/>\n",
       "   </g>\n",
       "   <g id=\"patch_41\">\n",
       "    <path d=\"M 487.364407 22.318125 \n",
       "L 544.110169 22.318125 \n",
       "\" style=\"fill:none;stroke:#000000;stroke-linecap:square;stroke-linejoin:miter;stroke-width:0.8;\"/>\n",
       "   </g>\n",
       "   <g id=\"text_8\">\n",
       "    <!-- pullover -->\n",
       "    <g transform=\"translate(491.411038 16.318125)scale(0.12 -0.12)\">\n",
       "     <use xlink:href=\"#DejaVuSans-112\"/>\n",
       "     <use x=\"63.476562\" xlink:href=\"#DejaVuSans-117\"/>\n",
       "     <use x=\"126.855469\" xlink:href=\"#DejaVuSans-108\"/>\n",
       "     <use x=\"154.638672\" xlink:href=\"#DejaVuSans-108\"/>\n",
       "     <use x=\"182.421875\" xlink:href=\"#DejaVuSans-111\"/>\n",
       "     <use x=\"243.603516\" xlink:href=\"#DejaVuSans-118\"/>\n",
       "     <use x=\"302.783203\" xlink:href=\"#DejaVuSans-101\"/>\n",
       "     <use x=\"364.306641\" xlink:href=\"#DejaVuSans-114\"/>\n",
       "    </g>\n",
       "   </g>\n",
       "  </g>\n",
       "  <g id=\"axes_9\">\n",
       "   <g id=\"patch_42\">\n",
       "    <path d=\"M 555.459322 79.063888 \n",
       "L 612.205085 79.063888 \n",
       "L 612.205085 22.318125 \n",
       "L 555.459322 22.318125 \n",
       "z\n",
       "\" style=\"fill:#ffffff;\"/>\n",
       "   </g>\n",
       "   <g clip-path=\"url(#pe1c070e378)\">\n",
       "    <image height=\"57\" id=\"imagece0a628c38\" transform=\"scale(1 -1)translate(0 -57)\" width=\"57\" x=\"555.459322\" xlink:href=\"data:image/png;base64,\n",
       "iVBORw0KGgoAAAANSUhEUgAAADkAAAA5CAYAAACMGIOFAAAABHNCSVQICAgIfAhkiAAABcxJREFUaIHtmktsVFUYx393OsxM22lpeZRXaQUKFkWUiKAoaSA8EjQYAwILE2vig4WKIWzd4MIuDCoBXLDARRNrjDFG0aAxoBHkVQSkkNLSB49aWmrttJRpOw8X/3svnWHa0toC6Z1vcx/fOec75/7P9zzXWGGsjzLKyXW/J3AvaFQtsmrnYqp2Lr7j/ahaZF/kHrDBtKkAdM+cBEBwogeA9twUAKKG2t2cHgEgc04rADn+DgBqjuUBUPB5MwDhyuphmXhvSnn0YQC+W/sJAFvffSaG7wgkjXlbd0QBOvKEBBO6AEjPCALQ0yOwg60+8SOCzvCFAXB7Q7pWpAPgFZC0LVb/ZXMuAlDXMQ4Azza/LTxy+jwArrQ0PXd2Dm0Vix4D4NIGzWHWtqMxbEcg6c6sEyLZlULS0ya36W4SogRaAIh23gIg0iFd6zqQD8AXhaUA7J4rPfjzxYcAyNl9BYALG58GYE/JpwB8tGe1LbxluXbHkBE0KZw+BoBVRacBuBTHdwaSad8cS8gI99XDkE5meqVzpYHHAdi/dykAOfVHYppnfCn9WL9oCwAXNu22eXN2vaXr6ycHN2tzDkS164yIrllua0fEYucIJI0Vrpf1GaJ9hLBxX+3/UsrBqfb95txDAOwq3iBRh0/f3SBxc4o++wQAmSVXAWhfeiOmuSOQdA+IUBy/a81TAATy5D+9AfGzv5fPCwcC/Y/3ps++Ld0nizzj40oA6hb139VwS2Y0HGsxoi4he+qSLP5sHInkQBS3/9PK6wHwNeUAcHO6oowBETQpXFVj35eflA81Json5/6kcMm7qq6PuQgTw61rtKdb702oxlz1JOyWRBK4QyfD15t0Y17TBnJx/VjngvfkQ2vL5gNw5fxkAHxfa3fkrquInYqFXLyIkMb2tRgJ+UkkE5IR97UGaZ0tCwkQDSmDKXhf8XD1B3ofrsgEoHX/bACyn6/qX4RpXX03JMvlM2PioKKyJJLQyzeZX32okY+NoHH7u6ZkCjHL4s7YobzQKLkMQGXNFLX7cRYAmWtqEs/BHNIVNmPZsRoXJyFpPIh1V6tmU79d6LtTlOsGbsjqehqVP441y0URlZuYcKY9ZpzoyXOAQ5AcvHUdQbL0NlyhWDZ3nd7XfmhW37IVs84sU2TUsFJ1I1+LaVVrGwAIFapCaPkBRyDpiEU+kIanL4oULQBuh3GuYzIs/7yi9C9kZnE9fm3U3F2n1O5eTvJ+0dCRHOaySMzQ7lh7aAciJjW9vQSAtoVK0SZN+heA7GK5kIaNBQBM+VUGyhFIDt2FjCCCNnLxyYBJwfG6rnxEJZeDv6iQlZ2l9lnVPQCE/V4gieTwUqIilJGieMxITRXv1q3YTtZuidN/q4Z8Yp8QzD+vQDzqU7jXnaFxXZYVHq5FPMh0z5CMt5C931maF19q7ItSm4WQFZhjnjpiplqedo3j6hEjieSgqA+/mTJeQXTHc/JdjZu6bN7kMlm/1G+P9z923Jj+BlnP5vkqQXZnSRcblkq3Jx+VDO/FRiCJ5ODIspS2XlnHan4luoapN/7f0uw+DRtlTas/00HPkq2bAcgoiz0Ojyfv9ZsAeAJCsOlJLeOFtX8AcOaQSpyha0q9HIHkiGchVrGqbfVcANKvBW2eu1UOr3NmFgA97+jo/u/GbABmF5erXf50AEL1OqK39PzyG4UAhL2mLFPdp5XEHgQ7AskRt67WQZD/K/PY3vwdBSA0Tvp6vVjodpkIZmQJ4frtKntMO6TjAfdlHbIGF8yQKFNk3gEVp11B+V3LbVqURHJE6Phf9q0V6XgWKj/M/70NgGvLhOhrr/4MwOEiFZe37D0LQGmzfniqPafSZeSIGfocPZtQpCOQHPkaj6mrth9NEMPeLXW+pN88W+ZprOAsmdOiQv3a5kJLaVgurbR+gkoiOTwS4pDsnWnEVxcGeSxo/aTh/eGEui+cp27lFTH9k0iOFnIEkslFjhb6D36n32tXrE4rAAAAAElFTkSuQmCC\" y=\"-22.063888\"/>\n",
       "   </g>\n",
       "   <g id=\"patch_43\">\n",
       "    <path d=\"M 555.459322 79.063888 \n",
       "L 555.459322 22.318125 \n",
       "\" style=\"fill:none;stroke:#000000;stroke-linecap:square;stroke-linejoin:miter;stroke-width:0.8;\"/>\n",
       "   </g>\n",
       "   <g id=\"patch_44\">\n",
       "    <path d=\"M 612.205085 79.063888 \n",
       "L 612.205085 22.318125 \n",
       "\" style=\"fill:none;stroke:#000000;stroke-linecap:square;stroke-linejoin:miter;stroke-width:0.8;\"/>\n",
       "   </g>\n",
       "   <g id=\"patch_45\">\n",
       "    <path d=\"M 555.459322 79.063888 \n",
       "L 612.205085 79.063888 \n",
       "\" style=\"fill:none;stroke:#000000;stroke-linecap:square;stroke-linejoin:miter;stroke-width:0.8;\"/>\n",
       "   </g>\n",
       "   <g id=\"patch_46\">\n",
       "    <path d=\"M 555.459322 22.318125 \n",
       "L 612.205085 22.318125 \n",
       "\" style=\"fill:none;stroke:#000000;stroke-linecap:square;stroke-linejoin:miter;stroke-width:0.8;\"/>\n",
       "   </g>\n",
       "   <g id=\"text_9\">\n",
       "    <!-- sandal -->\n",
       "    <g transform=\"translate(564.074391 16.318125)scale(0.12 -0.12)\">\n",
       "     <use xlink:href=\"#DejaVuSans-115\"/>\n",
       "     <use x=\"52.099609\" xlink:href=\"#DejaVuSans-97\"/>\n",
       "     <use x=\"113.378906\" xlink:href=\"#DejaVuSans-110\"/>\n",
       "     <use x=\"176.757812\" xlink:href=\"#DejaVuSans-100\"/>\n",
       "     <use x=\"240.234375\" xlink:href=\"#DejaVuSans-97\"/>\n",
       "     <use x=\"301.513672\" xlink:href=\"#DejaVuSans-108\"/>\n",
       "    </g>\n",
       "   </g>\n",
       "  </g>\n",
       "  <g id=\"axes_10\">\n",
       "   <g id=\"patch_47\">\n",
       "    <path d=\"M 623.554237 79.063888 \n",
       "L 680.3 79.063888 \n",
       "L 680.3 22.318125 \n",
       "L 623.554237 22.318125 \n",
       "z\n",
       "\" style=\"fill:#ffffff;\"/>\n",
       "   </g>\n",
       "   <g clip-path=\"url(#pb948cf39bc)\">\n",
       "    <image height=\"57\" id=\"image6b95433edf\" transform=\"scale(1 -1)translate(0 -57)\" width=\"57\" x=\"623.554237\" xlink:href=\"data:image/png;base64,\n",
       "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\" y=\"-22.063888\"/>\n",
       "   </g>\n",
       "   <g id=\"patch_48\">\n",
       "    <path d=\"M 623.554237 79.063888 \n",
       "L 623.554237 22.318125 \n",
       "\" style=\"fill:none;stroke:#000000;stroke-linecap:square;stroke-linejoin:miter;stroke-width:0.8;\"/>\n",
       "   </g>\n",
       "   <g id=\"patch_49\">\n",
       "    <path d=\"M 680.3 79.063888 \n",
       "L 680.3 22.318125 \n",
       "\" style=\"fill:none;stroke:#000000;stroke-linecap:square;stroke-linejoin:miter;stroke-width:0.8;\"/>\n",
       "   </g>\n",
       "   <g id=\"patch_50\">\n",
       "    <path d=\"M 623.554237 79.063888 \n",
       "L 680.3 79.063888 \n",
       "\" style=\"fill:none;stroke:#000000;stroke-linecap:square;stroke-linejoin:miter;stroke-width:0.8;\"/>\n",
       "   </g>\n",
       "   <g id=\"patch_51\">\n",
       "    <path d=\"M 623.554237 22.318125 \n",
       "L 680.3 22.318125 \n",
       "\" style=\"fill:none;stroke:#000000;stroke-linecap:square;stroke-linejoin:miter;stroke-width:0.8;\"/>\n",
       "   </g>\n",
       "   <g id=\"text_10\">\n",
       "    <!-- sandal -->\n",
       "    <g transform=\"translate(632.169306 16.318125)scale(0.12 -0.12)\">\n",
       "     <use xlink:href=\"#DejaVuSans-115\"/>\n",
       "     <use x=\"52.099609\" xlink:href=\"#DejaVuSans-97\"/>\n",
       "     <use x=\"113.378906\" xlink:href=\"#DejaVuSans-110\"/>\n",
       "     <use x=\"176.757812\" xlink:href=\"#DejaVuSans-100\"/>\n",
       "     <use x=\"240.234375\" xlink:href=\"#DejaVuSans-97\"/>\n",
       "     <use x=\"301.513672\" xlink:href=\"#DejaVuSans-108\"/>\n",
       "    </g>\n",
       "   </g>\n",
       "  </g>\n",
       " </g>\n",
       " <defs>\n",
       "  <clipPath id=\"p27c34ba625\">\n",
       "   <rect height=\"56.745763\" width=\"56.745763\" x=\"10.7\" y=\"22.318125\"/>\n",
       "  </clipPath>\n",
       "  <clipPath id=\"p97937d2692\">\n",
       "   <rect height=\"56.745763\" width=\"56.745763\" x=\"78.794915\" y=\"22.318125\"/>\n",
       "  </clipPath>\n",
       "  <clipPath id=\"pe089a279cb\">\n",
       "   <rect height=\"56.745763\" width=\"56.745763\" x=\"146.889831\" y=\"22.318125\"/>\n",
       "  </clipPath>\n",
       "  <clipPath id=\"pce8f29ce77\">\n",
       "   <rect height=\"56.745763\" width=\"56.745763\" x=\"214.984746\" y=\"22.318125\"/>\n",
       "  </clipPath>\n",
       "  <clipPath id=\"p27c36671c1\">\n",
       "   <rect height=\"56.745763\" width=\"56.745763\" x=\"283.079661\" y=\"22.318125\"/>\n",
       "  </clipPath>\n",
       "  <clipPath id=\"p58d352c8cb\">\n",
       "   <rect height=\"56.745763\" width=\"56.745763\" x=\"351.174576\" y=\"22.318125\"/>\n",
       "  </clipPath>\n",
       "  <clipPath id=\"p95f150cac8\">\n",
       "   <rect height=\"56.745763\" width=\"56.745763\" x=\"419.269492\" y=\"22.318125\"/>\n",
       "  </clipPath>\n",
       "  <clipPath id=\"pa4507712da\">\n",
       "   <rect height=\"56.745763\" width=\"56.745763\" x=\"487.364407\" y=\"22.318125\"/>\n",
       "  </clipPath>\n",
       "  <clipPath id=\"pe1c070e378\">\n",
       "   <rect height=\"56.745763\" width=\"56.745763\" x=\"555.459322\" y=\"22.318125\"/>\n",
       "  </clipPath>\n",
       "  <clipPath id=\"pb948cf39bc\">\n",
       "   <rect height=\"56.745763\" width=\"56.745763\" x=\"623.554237\" y=\"22.318125\"/>\n",
       "  </clipPath>\n",
       " </defs>\n",
       "</svg>\n"
      ],
      "text/plain": [
       "<Figure size 864x864 with 10 Axes>"
      ]
     },
     "metadata": {
      "needs_background": "light"
     },
     "output_type": "display_data"
    }
   ],
   "source": [
    "X, y = [], []\n",
    "for i in range(10):\n",
    "    X.append(mnist_train[i][0]) # 将第i个feature加到X中\n",
    "    y.append(mnist_train[i][1]) # 将第i个label加到y中\n",
    "show_fashion_mnist(X, get_fashion_mnist_labels(y))"
   ]
  },
  {
   "cell_type": "code",
   "execution_count": 42,
   "metadata": {
    "ExecuteTime": {
     "end_time": "2020-02-12T06:21:51.441590Z",
     "start_time": "2020-02-12T06:21:51.435264Z"
    },
    "graffitiCellId": "id_uy1hu22",
    "id": "34AD2BCBAD9149428E1C29B6F5530BAC",
    "jupyter": {},
    "scrolled": false,
    "slideshow": {
     "slide_type": "slide"
    },
    "tags": []
   },
   "outputs": [],
   "source": [
    "# 读取数据\n",
    "batch_size = 256\n",
    "num_workers = 4\n",
    "train_iter = torch.utils.data.DataLoader(mnist_train, batch_size=batch_size, shuffle=True, num_workers=num_workers)\n",
    "test_iter = torch.utils.data.DataLoader(mnist_test, batch_size=batch_size, shuffle=False, num_workers=num_workers)"
   ]
  },
  {
   "cell_type": "code",
   "execution_count": 43,
   "metadata": {
    "ExecuteTime": {
     "end_time": "2020-02-12T06:21:53.078221Z",
     "start_time": "2020-02-12T06:21:51.443206Z"
    },
    "graffitiCellId": "id_2vdyxtx",
    "id": "2A439C938A5B43449F0160F5DACB4759",
    "jupyter": {},
    "scrolled": false,
    "slideshow": {
     "slide_type": "slide"
    },
    "tags": []
   },
   "outputs": [
    {
     "name": "stdout",
     "output_type": "stream",
     "text": [
      "torch.Size([96, 1, 28, 28])\n",
      "torch.Size([96])\n",
      "1.56 sec\n"
     ]
    }
   ],
   "source": [
    "start = time.time()\n",
    "for X, y in train_iter:\n",
    "    continue\n",
    "print(X.shape)\n",
    "print(y.shape)\n",
    "# print(train_iter)\n",
    "print('%.2f sec' % (time.time() - start))"
   ]
  },
  {
   "cell_type": "markdown",
   "metadata": {
    "graffitiCellId": "id_0nzlmif",
    "id": "7886893A27B44B979B7E4B93F870B3CE",
    "jupyter": {},
    "mdEditEnable": false,
    "slideshow": {
     "slide_type": "slide"
    },
    "tags": []
   },
   "source": [
    "# softmax从零开始的实现"
   ]
  },
  {
   "cell_type": "code",
   "execution_count": 44,
   "metadata": {
    "ExecuteTime": {
     "end_time": "2020-02-12T06:21:53.087560Z",
     "start_time": "2020-02-12T06:21:53.081430Z"
    },
    "graffitiCellId": "id_c0aor6l",
    "id": "C47E4519B73C46558F23670B6C6D2CF4",
    "jupyter": {},
    "scrolled": false,
    "slideshow": {
     "slide_type": "slide"
    },
    "tags": []
   },
   "outputs": [
    {
     "name": "stdout",
     "output_type": "stream",
     "text": [
      "1.1.0\n"
     ]
    }
   ],
   "source": [
    "import torch\n",
    "import torchvision\n",
    "import numpy as np\n",
    "import sys\n",
    "# sys.path.append(\"/home/kesci/input\")\n",
    "import utils as d2l\n",
    "\n",
    "print(torch.__version__)\n",
    "# print(torchvision.__version__)"
   ]
  },
  {
   "cell_type": "markdown",
   "metadata": {
    "graffitiCellId": "id_63x3cw1",
    "id": "24E441B54DB5429991AC9DEBB6014FEC",
    "jupyter": {},
    "mdEditEnable": false,
    "slideshow": {
     "slide_type": "slide"
    },
    "tags": []
   },
   "source": [
    "## 获取训练集数据和测试集数据"
   ]
  },
  {
   "cell_type": "code",
   "execution_count": 45,
   "metadata": {
    "ExecuteTime": {
     "end_time": "2020-02-12T06:21:53.225354Z",
     "start_time": "2020-02-12T06:21:53.091671Z"
    },
    "graffitiCellId": "id_lkxl1n6",
    "id": "39EFD4C2466B4A649B15C7535800FAD6",
    "jupyter": {},
    "scrolled": false,
    "slideshow": {
     "slide_type": "slide"
    },
    "tags": []
   },
   "outputs": [],
   "source": [
    "batch_size = 256\n",
    "train_iter, test_iter = d2l.load_data_fashion_mnist(batch_size, root='/home/cc/holdshy/XJQ/Pytorch/Dive_into_DL/')"
   ]
  },
  {
   "cell_type": "markdown",
   "metadata": {
    "graffitiCellId": "id_h6qpe01",
    "id": "7DC915895B5C46278F4C395BD49815A0",
    "jupyter": {},
    "mdEditEnable": false,
    "slideshow": {
     "slide_type": "slide"
    },
    "tags": []
   },
   "source": [
    "## 模型参数初始化"
   ]
  },
  {
   "cell_type": "code",
   "execution_count": 46,
   "metadata": {
    "ExecuteTime": {
     "end_time": "2020-02-12T06:21:53.273977Z",
     "start_time": "2020-02-12T06:21:53.227957Z"
    },
    "graffitiCellId": "id_xcafpiw",
    "id": "FD4BCCEF1A044DF99791FB17D8134B6A",
    "jupyter": {},
    "scrolled": false,
    "slideshow": {
     "slide_type": "slide"
    },
    "tags": []
   },
   "outputs": [
    {
     "name": "stdout",
     "output_type": "stream",
     "text": [
      "784\n"
     ]
    }
   ],
   "source": [
    "num_inputs = 784\n",
    "print(28*28)\n",
    "num_outputs = 10\n",
    "\n",
    "W = torch.tensor(np.random.normal(0, 0.01, (num_inputs, num_outputs)), dtype=torch.float)\n",
    "b = torch.zeros(num_outputs, dtype=torch.float)"
   ]
  },
  {
   "cell_type": "code",
   "execution_count": 47,
   "metadata": {
    "ExecuteTime": {
     "end_time": "2020-02-12T06:21:53.373341Z",
     "start_time": "2020-02-12T06:21:53.278158Z"
    },
    "graffitiCellId": "id_1ow0q3n",
    "id": "D5372FA087BA4BAF87E940582444FB2D",
    "jupyter": {},
    "scrolled": false,
    "slideshow": {
     "slide_type": "slide"
    },
    "tags": []
   },
   "outputs": [
    {
     "data": {
      "text/plain": [
       "tensor([[-0.0209,  0.0085, -0.0050,  ...,  0.0071,  0.0095, -0.0192],\n",
       "        [ 0.0045, -0.0126, -0.0035,  ..., -0.0036,  0.0005, -0.0074],\n",
       "        [ 0.0124,  0.0108, -0.0164,  ..., -0.0012, -0.0036, -0.0072],\n",
       "        ...,\n",
       "        [ 0.0097, -0.0155,  0.0050,  ...,  0.0039, -0.0049, -0.0056],\n",
       "        [ 0.0201, -0.0013,  0.0153,  ..., -0.0009, -0.0027,  0.0036],\n",
       "        [ 0.0015, -0.0116,  0.0022,  ...,  0.0049,  0.0010, -0.0049]],\n",
       "       requires_grad=True)"
      ]
     },
     "execution_count": 47,
     "metadata": {},
     "output_type": "execute_result"
    },
    {
     "data": {
      "text/plain": [
       "tensor([0., 0., 0., 0., 0., 0., 0., 0., 0., 0.], requires_grad=True)"
      ]
     },
     "execution_count": 47,
     "metadata": {},
     "output_type": "execute_result"
    },
    {
     "name": "stdout",
     "output_type": "stream",
     "text": [
      "torch.Size([784, 10])\n",
      "torch.Size([10])\n"
     ]
    }
   ],
   "source": [
    "W.requires_grad_(requires_grad=True)\n",
    "b.requires_grad_(requires_grad=True)\n",
    "print(W.shape)  # torch.Size([784, 10])\n",
    "print(b.shape)  # torch.Size([10])"
   ]
  },
  {
   "cell_type": "markdown",
   "metadata": {
    "graffitiCellId": "id_d5s0vs0",
    "id": "3BBF52F8DB29448B9D44F5D707596788",
    "jupyter": {},
    "mdEditEnable": false,
    "slideshow": {
     "slide_type": "slide"
    },
    "tags": []
   },
   "source": [
    "## 对多维Tensor按维度操作"
   ]
  },
  {
   "cell_type": "code",
   "execution_count": 48,
   "metadata": {
    "ExecuteTime": {
     "end_time": "2020-02-12T06:21:53.455752Z",
     "start_time": "2020-02-12T06:21:53.377375Z"
    },
    "graffitiCellId": "id_e13vki6",
    "id": "6BFBFFFB54E44D05B1FC16BE841BB815",
    "jupyter": {},
    "scrolled": false,
    "slideshow": {
     "slide_type": "slide"
    },
    "tags": []
   },
   "outputs": [
    {
     "name": "stdout",
     "output_type": "stream",
     "text": [
      "tensor([[5, 7, 9]])\n",
      "tensor([[ 6],\n",
      "        [15]])\n",
      "tensor([5, 7, 9])\n",
      "tensor([ 6, 15])\n"
     ]
    }
   ],
   "source": [
    "X = torch.tensor([[1, 2, 3], [4, 5, 6]])\n",
    "print(X.sum(dim=0, keepdim=True))  # dim为0，按照相同的列求和，并在结果中保留列特征\n",
    "print(X.sum(dim=1, keepdim=True))  # dim为1，按照相同的行求和，并在结果中保留行特征\n",
    "print(X.sum(dim=0, keepdim=False)) # dim为0，按照相同的列求和，不在结果中保留列特征\n",
    "print(X.sum(dim=1, keepdim=False)) # dim为1，按照相同的行求和，不在结果中保留行特征"
   ]
  },
  {
   "cell_type": "markdown",
   "metadata": {
    "graffitiCellId": "id_fn39y6u",
    "id": "F15E94B777BA4E9F88CB18BD16697A45",
    "jupyter": {},
    "mdEditEnable": false,
    "slideshow": {
     "slide_type": "slide"
    },
    "tags": []
   },
   "source": [
    "## 定义softmax操作\n",
    "\n",
    "$$ \\hat{y}_j = \\frac{ \\exp(o_j)}{\\sum_{i=1}^3 \\exp(o_i)}  $$"
   ]
  },
  {
   "cell_type": "code",
   "execution_count": 49,
   "metadata": {
    "ExecuteTime": {
     "end_time": "2020-02-12T06:21:53.541908Z",
     "start_time": "2020-02-12T06:21:53.459843Z"
    },
    "graffitiCellId": "id_cr8iqvr",
    "id": "7F882A63347F46318C5F334F4F55F123",
    "jupyter": {},
    "scrolled": false,
    "slideshow": {
     "slide_type": "slide"
    },
    "tags": []
   },
   "outputs": [],
   "source": [
    "def softmax(X):\n",
    "    X_exp = X.exp()\n",
    "    partition = X_exp.sum(dim=1, keepdim=True)\n",
    "    # print(\"X size is \", X_exp.size())\n",
    "    # print(\"partition size is \", partition, partition.size())\n",
    "    return X_exp / partition  # 这里应用了广播机制"
   ]
  },
  {
   "cell_type": "code",
   "execution_count": 50,
   "metadata": {
    "ExecuteTime": {
     "end_time": "2020-02-12T06:21:53.644222Z",
     "start_time": "2020-02-12T06:21:53.546210Z"
    },
    "graffitiCellId": "id_vxj92pl",
    "id": "A77A982B8916433AAB521914CFD8467D",
    "jupyter": {},
    "scrolled": false,
    "slideshow": {
     "slide_type": "slide"
    },
    "tags": []
   },
   "outputs": [
    {
     "name": "stdout",
     "output_type": "stream",
     "text": [
      "X: tensor([[0.8148, 0.9647, 0.9036, 0.6797, 0.2772],\n",
      "        [0.1479, 0.6395, 0.1950, 0.9960, 0.4577]])\n",
      "e: tensor([[2.2586, 2.6241, 2.4684, 1.9733, 1.3195],\n",
      "        [1.1594, 1.8954, 1.2153, 2.7074, 1.5805]])\n",
      "sum: tensor([[10.6439],\n",
      "        [ 8.5579]])\n",
      "e/sum: tensor([[0.2122, 0.2465, 0.2319, 0.1854, 0.1240],\n",
      "        [0.1355, 0.2215, 0.1420, 0.3164, 0.1847]])\n",
      "**********************\n",
      "tensor([[0.2122, 0.2465, 0.2319, 0.1854, 0.1240],\n",
      "        [0.1355, 0.2215, 0.1420, 0.3164, 0.1847]]) \n",
      " tensor([1.0000, 1.0000])\n"
     ]
    }
   ],
   "source": [
    "X = torch.rand((2, 5))\n",
    "print('X:', X)\n",
    "e = X.exp(); print('e:', e)\n",
    "esum = X.exp().sum(dim=1, keepdim=True)\n",
    "print('sum:', esum)\n",
    "print('e/sum:', e/esum)\n",
    "print('**********************')\n",
    "X_prob = softmax(X)\n",
    "print(X_prob, '\\n', X_prob.sum(dim=1))"
   ]
  },
  {
   "cell_type": "markdown",
   "metadata": {
    "graffitiCellId": "id_bkbmqh1",
    "id": "F59CC29AE6F5407A84064647281E9ECA",
    "jupyter": {},
    "mdEditEnable": false,
    "slideshow": {
     "slide_type": "slide"
    },
    "tags": []
   },
   "source": [
    "## softmax回归模型\n",
    " \n",
    "$$\n",
    " \\begin{aligned} \\boldsymbol{o}^{(i)} &= \\boldsymbol{x}^{(i)} \\boldsymbol{W} + \\boldsymbol{b},\\\\ \\boldsymbol{\\hat{y}}^{(i)} &= \\text{softmax}(\\boldsymbol{o}^{(i)}). \\end{aligned} \n",
    "$$\n",
    "\n"
   ]
  },
  {
   "cell_type": "code",
   "execution_count": 51,
   "metadata": {
    "ExecuteTime": {
     "end_time": "2020-02-12T06:21:53.742599Z",
     "start_time": "2020-02-12T06:21:53.648220Z"
    },
    "graffitiCellId": "id_76a2fpk",
    "id": "0B3F76DCDD23439D849A2AE842D7DBE5",
    "jupyter": {},
    "scrolled": false,
    "slideshow": {
     "slide_type": "slide"
    },
    "tags": []
   },
   "outputs": [],
   "source": [
    "def net(X):\n",
    "#     print(X.shape)\n",
    "    return softmax(torch.mm(X.view((-1, num_inputs)), W) + b)  # (1,784)*(784,10)+(1*10)"
   ]
  },
  {
   "cell_type": "markdown",
   "metadata": {
    "graffitiCellId": "id_9kc1jw8",
    "id": "5024E97053FF460A8CB5F2FCC75C0C27",
    "jupyter": {},
    "mdEditEnable": false,
    "slideshow": {
     "slide_type": "slide"
    },
    "tags": []
   },
   "source": [
    "## 定义损失函数\n",
    "\n",
    "$$\n",
    "H\\left(\\boldsymbol y^{(i)}, \\boldsymbol {\\hat y}^{(i)}\\right ) = -\\sum_{j=1}^q y_j^{(i)} \\log \\hat y_j^{(i)},\n",
    "$$\n",
    "  \n",
    "\n",
    "$$\n",
    "\\ell(\\boldsymbol{\\Theta}) = \\frac{1}{n} \\sum_{i=1}^n H\\left(\\boldsymbol y^{(i)}, \\boldsymbol {\\hat y}^{(i)}\\right ),\n",
    "$$\n",
    "  \n",
    "\n",
    "$$\n",
    "\\ell(\\boldsymbol{\\Theta}) = -(1/n) \\sum_{i=1}^n \\log \\hat y_{y^{(i)}}^{(i)}\n",
    "$$\n",
    "  \n",
    "\n"
   ]
  },
  {
   "cell_type": "code",
   "execution_count": 52,
   "metadata": {
    "ExecuteTime": {
     "end_time": "2020-02-12T06:21:53.845846Z",
     "start_time": "2020-02-12T06:21:53.746911Z"
    },
    "graffitiCellId": "id_fl3cdvq",
    "id": "0244A13F3B4F43EA9B8D2FC5800238C7",
    "jupyter": {},
    "scrolled": false,
    "slideshow": {
     "slide_type": "slide"
    },
    "tags": []
   },
   "outputs": [
    {
     "data": {
      "text/plain": [
       "tensor([[0.1000, 0.3000, 0.6000],\n",
       "        [0.3000, 0.2000, 0.5000]])"
      ]
     },
     "execution_count": 52,
     "metadata": {},
     "output_type": "execute_result"
    },
    {
     "data": {
      "text/plain": [
       "tensor([0, 2])"
      ]
     },
     "execution_count": 52,
     "metadata": {},
     "output_type": "execute_result"
    },
    {
     "data": {
      "text/plain": [
       "tensor([[0.1000],\n",
       "        [0.5000]])"
      ]
     },
     "execution_count": 52,
     "metadata": {},
     "output_type": "execute_result"
    }
   ],
   "source": [
    "y_hat = torch.tensor([[0.1, 0.3, 0.6], [0.3, 0.2, 0.5]])\n",
    "y = torch.LongTensor([0, 2])\n",
    "y_hat\n",
    "y\n",
    "y_hat.gather(1, y.view(-1, 1))"
   ]
  },
  {
   "cell_type": "code",
   "execution_count": 53,
   "metadata": {
    "ExecuteTime": {
     "end_time": "2020-02-12T06:21:53.947644Z",
     "start_time": "2020-02-12T06:21:53.849448Z"
    },
    "graffitiCellId": "id_4ymtpzn",
    "id": "D288CFCAE8DF464287ECA08AD5168F2E",
    "jupyter": {},
    "scrolled": false,
    "slideshow": {
     "slide_type": "slide"
    },
    "tags": []
   },
   "outputs": [],
   "source": [
    "def cross_entropy(y_hat, y):\n",
    "    return - torch.log(y_hat.gather(1, y.view(-1, 1)))"
   ]
  },
  {
   "cell_type": "markdown",
   "metadata": {
    "graffitiCellId": "id_epbrym1",
    "id": "83DD3AF7D13F489D8683CB751F430CBF",
    "jupyter": {},
    "mdEditEnable": false,
    "slideshow": {
     "slide_type": "slide"
    },
    "tags": []
   },
   "source": [
    "## 定义准确率\n",
    "我们模型训练完了进行模型预测的时候，会用到我们这里定义的准确率。"
   ]
  },
  {
   "cell_type": "code",
   "execution_count": 54,
   "metadata": {
    "ExecuteTime": {
     "end_time": "2020-02-12T06:21:54.036389Z",
     "start_time": "2020-02-12T06:21:53.951932Z"
    },
    "graffitiCellId": "id_8h5q5ic",
    "id": "B82A0C9B1F984CF089B9FA8747BE1A3B",
    "jupyter": {},
    "scrolled": false,
    "slideshow": {
     "slide_type": "slide"
    },
    "tags": []
   },
   "outputs": [],
   "source": [
    "def accuracy(y_hat, y):\n",
    "    return (y_hat.argmax(dim=1) == y).float().mean().item()"
   ]
  },
  {
   "cell_type": "code",
   "execution_count": 55,
   "metadata": {
    "ExecuteTime": {
     "end_time": "2020-02-12T06:21:54.125598Z",
     "start_time": "2020-02-12T06:21:54.040531Z"
    },
    "graffitiCellId": "id_2szlvh2",
    "id": "9A6EF0B8618B400D8D252223B6B04E2D",
    "jupyter": {},
    "scrolled": false,
    "slideshow": {
     "slide_type": "slide"
    },
    "tags": []
   },
   "outputs": [
    {
     "name": "stdout",
     "output_type": "stream",
     "text": [
      "0.5\n"
     ]
    }
   ],
   "source": [
    "print(accuracy(y_hat, y))"
   ]
  },
  {
   "cell_type": "code",
   "execution_count": 56,
   "metadata": {
    "ExecuteTime": {
     "end_time": "2020-02-12T06:21:54.214520Z",
     "start_time": "2020-02-12T06:21:54.129776Z"
    },
    "graffitiCellId": "id_gtpf1ob",
    "id": "963FEE28FD23446895193E95A4915F2A",
    "jupyter": {},
    "scrolled": false,
    "slideshow": {
     "slide_type": "slide"
    },
    "tags": []
   },
   "outputs": [],
   "source": [
    "# 本函数已保存在d2lzh_pytorch包中方便以后使用。该函数将被逐步改进：它的完整实现将在“图像增广”一节中描述\n",
    "def evaluate_accuracy(data_iter, net):\n",
    "    acc_sum, n = 0.0, 0\n",
    "    for X, y in data_iter:\n",
    "        acc_sum += (net(X).argmax(dim=1) == y).float().sum().item()\n",
    "        n += y.shape[0]\n",
    "    return acc_sum / n"
   ]
  },
  {
   "cell_type": "code",
   "execution_count": 57,
   "metadata": {
    "ExecuteTime": {
     "end_time": "2020-02-12T06:21:54.721387Z",
     "start_time": "2020-02-12T06:21:54.220356Z"
    },
    "graffitiCellId": "id_90h5xb7",
    "id": "BDDE1D7C593D47B78465BA7E4F991B82",
    "jupyter": {},
    "scrolled": false,
    "slideshow": {
     "slide_type": "slide"
    },
    "tags": []
   },
   "outputs": [
    {
     "name": "stdout",
     "output_type": "stream",
     "text": [
      "0.0787\n"
     ]
    }
   ],
   "source": [
    "print(evaluate_accuracy(test_iter, net))"
   ]
  },
  {
   "cell_type": "markdown",
   "metadata": {
    "graffitiCellId": "id_1p8f5ji",
    "id": "A209780170A64CC29271427320284785",
    "jupyter": {},
    "mdEditEnable": false,
    "slideshow": {
     "slide_type": "slide"
    },
    "tags": []
   },
   "source": [
    "## 训练模型"
   ]
  },
  {
   "cell_type": "code",
   "execution_count": null,
   "metadata": {
    "ExecuteTime": {
     "start_time": "2020-02-12T06:21:53.539Z"
    },
    "graffitiCellId": "id_smslnb6",
    "id": "EFDCDFDDE4B44FA3866BEABC48F44D57",
    "jupyter": {},
    "scrolled": false,
    "slideshow": {
     "slide_type": "slide"
    },
    "tags": []
   },
   "outputs": [],
   "source": [
    "num_epochs, lr = 5, 0.1\n",
    "\n",
    "# 本函数已保存在d2lzh_pytorch包中方便以后使用\n",
    "def train_ch3(net, train_iter, test_iter, loss, num_epochs, batch_size,\n",
    "              params=None, lr=None, optimizer=None):\n",
    "    for epoch in range(num_epochs):\n",
    "        train_l_sum, train_acc_sum, n = 0.0, 0.0, 0\n",
    "        for X, y in train_iter:\n",
    "            y_hat = net(X)\n",
    "            l = loss(y_hat, y).sum()\n",
    "            \n",
    "            # 梯度清零\n",
    "            if optimizer is not None:\n",
    "                optimizer.zero_grad()\n",
    "            elif params is not None and params[0].grad is not None:\n",
    "                for param in params:\n",
    "                    param.grad.data.zero_()\n",
    "            \n",
    "            l.backward()\n",
    "            if optimizer is None:\n",
    "                d2l.sgd(params, lr, batch_size)\n",
    "            else:\n",
    "                optimizer.step() \n",
    "            \n",
    "            \n",
    "            train_l_sum += l.item()\n",
    "            train_acc_sum += (y_hat.argmax(dim=1) == y).sum().item()\n",
    "            n += y.shape[0]\n",
    "        test_acc = evaluate_accuracy(test_iter, net)\n",
    "        print('epoch %d, loss %.4f, train acc %.3f, test acc %.3f'\n",
    "              % (epoch + 1, train_l_sum / n, train_acc_sum / n, test_acc))\n",
    "\n",
    "train_ch3(net, train_iter, test_iter, cross_entropy, num_epochs, batch_size, [W, b], lr)"
   ]
  },
  {
   "cell_type": "markdown",
   "metadata": {
    "graffitiCellId": "id_eptwt05",
    "id": "D7885C25CD7444BF8212D2102E99692C",
    "jupyter": {},
    "mdEditEnable": false,
    "slideshow": {
     "slide_type": "slide"
    },
    "tags": []
   },
   "source": [
    "## 模型预测\n",
    "现在我们的模型训练完了，可以进行一下预测，我们的这个模型训练的到底准确不准确。\n",
    "现在就可以演示如何对图像进行分类了。给定一系列图像（第三行图像输出），我们比较一下它们的真实标签（第一行文本输出）和模型预测结果（第二行文本输出）。"
   ]
  },
  {
   "cell_type": "code",
   "execution_count": null,
   "metadata": {
    "ExecuteTime": {
     "start_time": "2020-02-12T06:21:53.668Z"
    },
    "graffitiCellId": "id_yt8sd9t",
    "id": "1DA8927186304BEBA2B3DCC4A9E027DD",
    "jupyter": {},
    "scrolled": false,
    "slideshow": {
     "slide_type": "slide"
    },
    "tags": []
   },
   "outputs": [],
   "source": [
    "X, y = iter(test_iter).next()\n",
    "\n",
    "true_labels = d2l.get_fashion_mnist_labels(y.numpy())\n",
    "pred_labels = d2l.get_fashion_mnist_labels(net(X).argmax(dim=1).numpy())\n",
    "titles = [true + '\\n' + pred for true, pred in zip(true_labels, pred_labels)]\n",
    "\n",
    "d2l.show_fashion_mnist(X[10:20], titles[10:20])"
   ]
  },
  {
   "cell_type": "markdown",
   "metadata": {
    "graffitiCellId": "id_623cj7f",
    "id": "740E43F6246C47078E68E5EB4399345A",
    "jupyter": {},
    "mdEditEnable": false,
    "slideshow": {
     "slide_type": "slide"
    },
    "tags": []
   },
   "source": [
    "# softmax的简洁实现"
   ]
  },
  {
   "cell_type": "code",
   "execution_count": null,
   "metadata": {
    "ExecuteTime": {
     "start_time": "2020-02-12T06:21:53.798Z"
    },
    "graffitiCellId": "id_s0m2c8a",
    "id": "94B0411C93ED4E6C83B5545D9339E395",
    "jupyter": {},
    "scrolled": false,
    "slideshow": {
     "slide_type": "slide"
    },
    "tags": []
   },
   "outputs": [],
   "source": [
    "# 加载各种包或者模块\n",
    "import torch\n",
    "from torch import nn\n",
    "from torch.nn import init\n",
    "import numpy as np\n",
    "import sys\n",
    "# sys.path.append(\"/home/kesci/input\")\n",
    "import utils as d2l\n",
    "\n",
    "print(torch.__version__)"
   ]
  },
  {
   "cell_type": "markdown",
   "metadata": {
    "graffitiCellId": "id_7ny2q9r",
    "id": "21E9BF3FC62E42FAA0D601526BC27572",
    "jupyter": {},
    "mdEditEnable": false,
    "slideshow": {
     "slide_type": "slide"
    },
    "tags": []
   },
   "source": [
    "## 初始化参数和获取数据"
   ]
  },
  {
   "cell_type": "code",
   "execution_count": null,
   "metadata": {
    "ExecuteTime": {
     "start_time": "2020-02-12T06:21:53.968Z"
    },
    "graffitiCellId": "id_3ra54mv",
    "id": "08E33ED9A5684635874D11BFC0B488C6",
    "jupyter": {},
    "scrolled": false,
    "slideshow": {
     "slide_type": "slide"
    },
    "tags": []
   },
   "outputs": [],
   "source": [
    "batch_size = 256\n",
    "train_iter, test_iter = d2l.load_data_fashion_mnist(batch_size, root='/home/cc/holdshy/XJQ/Pytorch/Dive_into_DL/')"
   ]
  },
  {
   "cell_type": "markdown",
   "metadata": {
    "graffitiCellId": "id_pvkd7mm",
    "id": "7BCB961EF5464E1980619F1853FE2F84",
    "jupyter": {},
    "mdEditEnable": false,
    "slideshow": {
     "slide_type": "slide"
    },
    "tags": []
   },
   "source": [
    "## 定义网络模型"
   ]
  },
  {
   "cell_type": "code",
   "execution_count": null,
   "metadata": {
    "ExecuteTime": {
     "start_time": "2020-02-12T06:21:54.102Z"
    },
    "graffitiCellId": "id_1s76ktf",
    "id": "01609B4BD2B444588B2C33751B48B9B0",
    "jupyter": {},
    "scrolled": false,
    "slideshow": {
     "slide_type": "slide"
    },
    "tags": []
   },
   "outputs": [],
   "source": [
    "num_inputs = 784\n",
    "num_outputs = 10\n",
    "\n",
    "class LinearNet(nn.Module):\n",
    "    def __init__(self, num_inputs, num_outputs):\n",
    "        super(LinearNet, self).__init__()\n",
    "        self.linear = nn.Linear(num_inputs, num_outputs)\n",
    "    def forward(self, x): # x 的形状: (batch, 1, 28, 28)\n",
    "        y = self.linear(x.view(x.shape[0], -1))\n",
    "        return y\n",
    "    \n",
    "# net = LinearNet(num_inputs, num_outputs)\n",
    "\n",
    "class FlattenLayer(nn.Module):\n",
    "    def __init__(self):\n",
    "        super(FlattenLayer, self).__init__()\n",
    "    def forward(self, x): # x 的形状: (batch, *, *, ...)\n",
    "        return x.view(x.shape[0], -1)\n",
    "\n",
    "from collections import OrderedDict\n",
    "net = nn.Sequential(\n",
    "        # FlattenLayer(),\n",
    "        # LinearNet(num_inputs, num_outputs) \n",
    "        OrderedDict([\n",
    "           ('flatten', FlattenLayer()),\n",
    "           ('linear', nn.Linear(num_inputs, num_outputs))]) # 或者写成我们自己定义的 LinearNet(num_inputs, num_outputs) 也可以\n",
    "        )"
   ]
  },
  {
   "cell_type": "markdown",
   "metadata": {
    "graffitiCellId": "id_nssr12v",
    "id": "1C3A731775674DDFB88CA79FBCFABCFC",
    "jupyter": {},
    "mdEditEnable": false,
    "slideshow": {
     "slide_type": "slide"
    },
    "tags": []
   },
   "source": [
    "## 初始化模型参数"
   ]
  },
  {
   "cell_type": "code",
   "execution_count": null,
   "metadata": {
    "ExecuteTime": {
     "start_time": "2020-02-12T06:21:54.238Z"
    },
    "graffitiCellId": "id_id7oqtn",
    "id": "444F87CD78CC4DCE9E76E56B9D096E48",
    "jupyter": {},
    "scrolled": false,
    "slideshow": {
     "slide_type": "slide"
    },
    "tags": []
   },
   "outputs": [],
   "source": [
    "init.normal_(net.linear.weight, mean=0, std=0.01)\n",
    "init.constant_(net.linear.bias, val=0)"
   ]
  },
  {
   "cell_type": "markdown",
   "metadata": {
    "graffitiCellId": "id_hn4au8n",
    "id": "EC61B11479EA443E812CCF03CC85D871",
    "jupyter": {},
    "mdEditEnable": false,
    "slideshow": {
     "slide_type": "slide"
    },
    "tags": []
   },
   "source": [
    "## 定义损失函数"
   ]
  },
  {
   "cell_type": "code",
   "execution_count": null,
   "metadata": {
    "ExecuteTime": {
     "start_time": "2020-02-12T06:21:54.373Z"
    },
    "graffitiCellId": "id_knh2n50",
    "id": "EFA9FA88D866458F913194664286D8AB",
    "jupyter": {},
    "scrolled": false,
    "slideshow": {
     "slide_type": "slide"
    },
    "tags": []
   },
   "outputs": [],
   "source": [
    "loss = nn.CrossEntropyLoss() # 下面是他的函数原型\n",
    "# class torch.nn.CrossEntropyLoss(weight=None, size_average=None, ignore_index=-100, reduce=None, reduction='mean')"
   ]
  },
  {
   "cell_type": "markdown",
   "metadata": {
    "graffitiCellId": "id_bdskdx7",
    "id": "FFD0D8B3BB1B4F6582610743373C576E",
    "jupyter": {},
    "mdEditEnable": false,
    "slideshow": {
     "slide_type": "slide"
    },
    "tags": []
   },
   "source": [
    "## 定义优化函数"
   ]
  },
  {
   "cell_type": "code",
   "execution_count": null,
   "metadata": {
    "ExecuteTime": {
     "start_time": "2020-02-12T06:21:54.509Z"
    },
    "graffitiCellId": "id_6l357pq",
    "id": "7DF366DFD7D349B59B0CA9D3211EB140",
    "jupyter": {},
    "scrolled": false,
    "slideshow": {
     "slide_type": "slide"
    },
    "tags": []
   },
   "outputs": [],
   "source": [
    "optimizer = torch.optim.SGD(net.parameters(), lr=0.1) # 下面是函数原型\n",
    "# class torch.optim.SGD(params, lr=, momentum=0, dampening=0, weight_decay=0, nesterov=False)"
   ]
  },
  {
   "cell_type": "markdown",
   "metadata": {
    "graffitiCellId": "id_kzma3d6",
    "id": "6A660AA6E71541EA85B4955AC0DCC66C",
    "jupyter": {},
    "mdEditEnable": false,
    "slideshow": {
     "slide_type": "slide"
    },
    "tags": []
   },
   "source": [
    "## 训练"
   ]
  },
  {
   "cell_type": "code",
   "execution_count": null,
   "metadata": {
    "ExecuteTime": {
     "start_time": "2020-02-12T06:21:54.648Z"
    },
    "graffitiCellId": "id_0puuqtc",
    "id": "A49C9427C0E14DB9914E8970D98C422B",
    "jupyter": {},
    "scrolled": false,
    "slideshow": {
     "slide_type": "slide"
    },
    "tags": []
   },
   "outputs": [],
   "source": [
    "num_epochs = 5\n",
    "d2l.train_ch3(net, train_iter, test_iter, loss, num_epochs, batch_size, None, None, optimizer)"
   ]
  },
  {
   "cell_type": "code",
   "execution_count": null,
   "metadata": {},
   "outputs": [],
   "source": []
  }
 ],
 "metadata": {
  "hide_input": false,
  "kernelspec": {
   "display_name": "Python 3",
   "language": "python",
   "name": "python3"
  },
  "latex_envs": {
   "LaTeX_envs_menu_present": true,
   "autoclose": false,
   "autocomplete": true,
   "bibliofile": "biblio.bib",
   "cite_by": "apalike",
   "current_citInitial": 1,
   "eqLabelWithNumbers": true,
   "eqNumInitial": 1,
   "hotkeys": {
    "equation": "Ctrl-E",
    "itemize": "Ctrl-I"
   },
   "labels_anchors": false,
   "latex_user_defs": false,
   "report_style_numbering": false,
   "user_envs_cfg": false
  },
  "toc": {
   "base_numbering": 1,
   "nav_menu": {},
   "number_sections": true,
   "sideBar": true,
   "skip_h1_title": false,
   "title_cell": "Table of Contents",
   "title_sidebar": "Contents",
   "toc_cell": false,
   "toc_position": {
    "height": "592.5px",
    "left": "29px",
    "top": "184.797px",
    "width": "304.492px"
   },
   "toc_section_display": true,
   "toc_window_display": true
  },
  "varInspector": {
   "cols": {
    "lenName": 16,
    "lenType": 16,
    "lenVar": 40
   },
   "kernels_config": {
    "python": {
     "delete_cmd_postfix": "",
     "delete_cmd_prefix": "del ",
     "library": "var_list.py",
     "varRefreshCmd": "print(var_dic_list())"
    },
    "r": {
     "delete_cmd_postfix": ") ",
     "delete_cmd_prefix": "rm(",
     "library": "var_list.r",
     "varRefreshCmd": "cat(var_dic_list()) "
    }
   },
   "types_to_exclude": [
    "module",
    "function",
    "builtin_function_or_method",
    "instance",
    "_Feature"
   ],
   "window_display": false
  }
 },
 "nbformat": 4,
 "nbformat_minor": 1
}
