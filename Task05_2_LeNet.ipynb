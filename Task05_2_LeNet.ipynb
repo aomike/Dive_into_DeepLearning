{
 "cells": [
  {
   "cell_type": "markdown",
   "metadata": {
    "graffitiCellId": "id_j7o1a6n",
    "id": "69262AB48D5C40E0893D46893CFE9B60",
    "jupyter": {},
    "mdEditEnable": false,
    "slideshow": {
     "slide_type": "slide"
    },
    "tags": []
   },
   "source": [
    "## course content\n",
    "\n",
    "1. lenet 模型介绍\n",
    "2. lenet 网络搭建\n",
    "3. 运用lenet进行图像识别-fashion-mnist数据集\n",
    "\n"
   ]
  },
  {
   "cell_type": "markdown",
   "metadata": {
    "colab_type": "text",
    "graffitiCellId": "id_ajekwu7",
    "id": "Z4Mfv4K6dbhQ",
    "jupyter": {},
    "mdEditEnable": false,
    "slideshow": {
     "slide_type": "slide"
    },
    "tags": []
   },
   "source": [
    "#  Convolutional Neural Networks\n",
    "\n",
    "使用全连接层的局限性：\n",
    "\n",
    "- 图像在同一列邻近的像素在这个向量中可能相距较远。它们构成的模式可能难以被模型识别。\n",
    "- 对于大尺寸的输入图像，使用全连接层容易导致模型过大。\n",
    "\n",
    "使用卷积层的优势：\n",
    "\n",
    "- 卷积层保留输入形状。\n",
    "- 卷积层通过滑动窗口将同一卷积核与不同位置的输入重复计算，从而避免参数尺寸过大。\n",
    "\n",
    "\n"
   ]
  },
  {
   "attachments": {},
   "cell_type": "markdown",
   "metadata": {
    "graffitiCellId": "id_kpncnr4",
    "id": "DCCD52CB4C38495789BA2C76F01D4332",
    "jupyter": {},
    "mdEditEnable": false,
    "slideshow": {
     "slide_type": "slide"
    },
    "tags": []
   },
   "source": [
    "## LeNet 模型\n",
    "\n",
    "LeNet分为卷积层块和全连接层块两个部分。下面我们分别介绍这两个模块。\n",
    "\n",
    "\n",
    "![Image Name](https://cdn.kesci.com/upload/image/q5ndwsmsao.png?imageView2/0/w/960/h/960)\n",
    "\n",
    "\n",
    "卷积层块里的基本单位是卷积层后接平均池化层：卷积层用来识别图像里的空间模式，如线条和物体局部，之后的平均池化层则用来降低卷积层对位置的敏感性。\n",
    "\n",
    "卷积层块由两个这样的基本单位重复堆叠构成。在卷积层块中，每个卷积层都使用$5 \\times 5$的窗口，并在输出上使用sigmoid激活函数。第一个卷积层输出通道数为6，第二个卷积层输出通道数则增加到16。\n",
    "\n",
    "全连接层块含3个全连接层。它们的输出个数分别是120、84和10，其中10为输出的类别个数。\n",
    "\n",
    "下面我们通过Sequential类来实现LeNet模型。"
   ]
  },
  {
   "cell_type": "code",
   "execution_count": 1,
   "metadata": {
    "ExecuteTime": {
     "end_time": "2020-02-17T07:05:30.905704Z",
     "start_time": "2020-02-17T07:05:30.308278Z"
    },
    "colab": {},
    "colab_type": "code",
    "graffitiCellId": "id_r0mf24i",
    "id": "DHAr1_2J1jMC",
    "jupyter": {},
    "scrolled": false,
    "slideshow": {
     "slide_type": "slide"
    },
    "tags": []
   },
   "outputs": [],
   "source": [
    "#import\n",
    "import sys\n",
    "# sys.path.append(\"/home/kesci/input\")\n",
    "import utils as d2l\n",
    "import torch\n",
    "import torch.nn as nn\n",
    "import torch.optim as optim\n",
    "import time"
   ]
  },
  {
   "cell_type": "code",
   "execution_count": 2,
   "metadata": {
    "ExecuteTime": {
     "end_time": "2020-02-17T07:05:30.928827Z",
     "start_time": "2020-02-17T07:05:30.918963Z"
    },
    "colab": {},
    "colab_type": "code",
    "graffitiCellId": "id_jxhddby",
    "id": "hp3vLYIbdbhd",
    "jupyter": {},
    "scrolled": false,
    "slideshow": {
     "slide_type": "slide"
    },
    "tags": []
   },
   "outputs": [],
   "source": [
    "#net\n",
    "class Flatten(torch.nn.Module):  #展平操作\n",
    "    def forward(self, x):\n",
    "        return x.view(x.shape[0], -1)\n",
    "\n",
    "class Reshape(torch.nn.Module): #将图像大小重定型\n",
    "    def forward(self, x):\n",
    "        return x.view(-1,1,28,28)      #(B x C x H x W)\n",
    "    \n",
    "net = torch.nn.Sequential(     #Lelet                                                  \n",
    "    Reshape(),\n",
    "    nn.Conv2d(in_channels=1, out_channels=6, kernel_size=5, padding=2), #b*1*28*28  =>b*6*28*28\n",
    "    nn.Sigmoid(),                                                       \n",
    "    nn.AvgPool2d(kernel_size=2, stride=2),                              #b*6*28*28  =>b*6*14*14\n",
    "    nn.Conv2d(in_channels=6, out_channels=16, kernel_size=5),           #b*6*14*14  =>b*16*10*10\n",
    "    nn.Sigmoid(),\n",
    "    nn.AvgPool2d(kernel_size=2, stride=2),                              #b*16*10*10  => b*16*5*5\n",
    "    Flatten(),                                                          #b*16*5*5   => b*400\n",
    "    nn.Linear(in_features=16*5*5, out_features=120),\n",
    "    nn.Sigmoid(),\n",
    "    nn.Linear(120, 84),\n",
    "    nn.Sigmoid(),\n",
    "    nn.Linear(84, 10)\n",
    ")"
   ]
  },
  {
   "cell_type": "markdown",
   "metadata": {
    "colab_type": "text",
    "graffitiCellId": "id_00eauaf",
    "id": "OnaREs_Zdbhg",
    "jupyter": {},
    "mdEditEnable": false,
    "slideshow": {
     "slide_type": "slide"
    },
    "tags": []
   },
   "source": [
    "接下来我们构造一个高和宽均为28的单通道数据样本，并逐层进行前向计算来查看每个层的输出形状。"
   ]
  },
  {
   "cell_type": "code",
   "execution_count": 3,
   "metadata": {
    "ExecuteTime": {
     "end_time": "2020-02-17T07:05:32.187767Z",
     "start_time": "2020-02-17T07:05:31.967508Z"
    },
    "colab": {
     "base_uri": "https://localhost:8080/",
     "height": 238
    },
    "colab_type": "code",
    "graffitiCellId": "id_l3of2c4",
    "id": "yiamwgtvdbhh",
    "jupyter": {},
    "outputId": "88be586b-b793-48b7-f4e2-7e598cecd22e",
    "scrolled": false,
    "slideshow": {
     "slide_type": "slide"
    },
    "tags": []
   },
   "outputs": [
    {
     "name": "stdout",
     "output_type": "stream",
     "text": [
      "Reshape output shape: \t torch.Size([1, 1, 28, 28])\n",
      "Conv2d output shape: \t torch.Size([1, 6, 28, 28])\n",
      "Sigmoid output shape: \t torch.Size([1, 6, 28, 28])\n",
      "AvgPool2d output shape: \t torch.Size([1, 6, 14, 14])\n",
      "Conv2d output shape: \t torch.Size([1, 16, 10, 10])\n",
      "Sigmoid output shape: \t torch.Size([1, 16, 10, 10])\n",
      "AvgPool2d output shape: \t torch.Size([1, 16, 5, 5])\n",
      "Flatten output shape: \t torch.Size([1, 400])\n",
      "Linear output shape: \t torch.Size([1, 120])\n",
      "Sigmoid output shape: \t torch.Size([1, 120])\n",
      "Linear output shape: \t torch.Size([1, 84])\n",
      "Sigmoid output shape: \t torch.Size([1, 84])\n",
      "Linear output shape: \t torch.Size([1, 10])\n"
     ]
    }
   ],
   "source": [
    "#print\n",
    "X = torch.randn(size=(1,1,28,28), dtype = torch.float32)\n",
    "for layer in net:\n",
    "    X = layer(X)\n",
    "    print(layer.__class__.__name__,'output shape: \\t',X.shape)"
   ]
  },
  {
   "attachments": {},
   "cell_type": "markdown",
   "metadata": {
    "colab_type": "text",
    "graffitiCellId": "id_0ppp3nj",
    "id": "fzicoTnEdbhl",
    "jupyter": {},
    "mdEditEnable": false,
    "slideshow": {
     "slide_type": "slide"
    },
    "tags": []
   },
   "source": [
    "可以看到，在卷积层块中输入的高和宽在逐层减小。卷积层由于使用高和宽均为5的卷积核，从而将高和宽分别减小4，而池化层则将高和宽减半，但通道数则从1增加到16。全连接层则逐层减少输出个数，直到变成图像的类别数10。\n",
    "\n",
    "\n",
    "![Image Name](https://cdn.kesci.com/upload/image/q5ndxi6jl5.png?imageView2/0/w/640/h/640)\n"
   ]
  },
  {
   "cell_type": "markdown",
   "metadata": {
    "colab_type": "text",
    "graffitiCellId": "id_p1kzp1a",
    "id": "BnKUIw6Ddbhr",
    "jupyter": {},
    "mdEditEnable": false,
    "slideshow": {
     "slide_type": "slide"
    },
    "tags": []
   },
   "source": [
    "## 获取数据和训练模型\n",
    "\n",
    "下面我们来实现LeNet模型。我们仍然使用Fashion-MNIST作为训练数据集。"
   ]
  },
  {
   "cell_type": "code",
   "execution_count": 4,
   "metadata": {
    "ExecuteTime": {
     "end_time": "2020-02-17T07:05:53.341510Z",
     "start_time": "2020-02-17T07:05:53.294660Z"
    },
    "colab": {
     "base_uri": "https://localhost:8080/",
     "height": 275
    },
    "colab_type": "code",
    "graffitiCellId": "id_f0dgnij",
    "id": "ECMwOKTzdbhr",
    "jupyter": {},
    "outputId": "9a7f2ac9-c95b-4bbb-e902-dcfbfd16301a",
    "scrolled": false,
    "slideshow": {
     "slide_type": "slide"
    },
    "tags": []
   },
   "outputs": [
    {
     "name": "stdout",
     "output_type": "stream",
     "text": [
      "235\n"
     ]
    }
   ],
   "source": [
    "# 数据\n",
    "batch_size = 256\n",
    "train_iter, test_iter = d2l.load_data_fashion_mnist(\n",
    "    batch_size=batch_size, root='\"/home/cc/holdshy/XJQ/Pytorch/Dive_into_DL/FashionMNIST/\"')\n",
    "print(len(train_iter))\n"
   ]
  },
  {
   "cell_type": "markdown",
   "metadata": {
    "graffitiCellId": "id_uge3tcz",
    "id": "D38DDA51EF0D4AFE809003A1686CDA11",
    "jupyter": {},
    "mdEditEnable": false,
    "slideshow": {
     "slide_type": "slide"
    },
    "tags": []
   },
   "source": [
    "为了使读者更加形象的看到数据，添加额外的部分来展示数据的图像"
   ]
  },
  {
   "cell_type": "code",
   "execution_count": 5,
   "metadata": {
    "ExecuteTime": {
     "end_time": "2020-02-17T07:05:56.157492Z",
     "start_time": "2020-02-17T07:05:55.657622Z"
    },
    "graffitiCellId": "id_d5nld6i",
    "id": "4FE5CE6E20494BFE898E9D8EAAF30C7B",
    "jupyter": {},
    "scrolled": false,
    "slideshow": {
     "slide_type": "slide"
    },
    "tags": []
   },
   "outputs": [
    {
     "name": "stdout",
     "output_type": "stream",
     "text": [
      "torch.Size([1, 28, 28]) 1\n",
      "torch.Size([1, 28, 28]) 2\n",
      "torch.Size([1, 28, 28]) 5\n",
      "torch.Size([1, 28, 28]) 0\n",
      "torch.Size([1, 28, 28]) 9\n",
      "torch.Size([1, 28, 28]) 5\n",
      "torch.Size([1, 28, 28]) 5\n",
      "torch.Size([1, 28, 28]) 2\n",
      "torch.Size([1, 28, 28]) 5\n",
      "torch.Size([1, 28, 28]) 9\n"
     ]
    },
    {
     "data": {
      "image/svg+xml": [
       "<?xml version=\"1.0\" encoding=\"utf-8\" standalone=\"no\"?>\n",
       "<!DOCTYPE svg PUBLIC \"-//W3C//DTD SVG 1.1//EN\"\n",
       "  \"http://www.w3.org/Graphics/SVG/1.1/DTD/svg11.dtd\">\n",
       "<!-- Created with matplotlib (https://matplotlib.org/) -->\n",
       "<svg height=\"89.763888pt\" version=\"1.1\" viewBox=\"0 0 687.5 89.763888\" width=\"687.5pt\" xmlns=\"http://www.w3.org/2000/svg\" xmlns:xlink=\"http://www.w3.org/1999/xlink\">\n",
       " <defs>\n",
       "  <style type=\"text/css\">\n",
       "*{stroke-linecap:butt;stroke-linejoin:round;}\n",
       "  </style>\n",
       " </defs>\n",
       " <g id=\"figure_1\">\n",
       "  <g id=\"patch_1\">\n",
       "   <path d=\"M 0 89.763888 \n",
       "L 687.5 89.763888 \n",
       "L 687.5 -0 \n",
       "L 0 -0 \n",
       "z\n",
       "\" style=\"fill:none;\"/>\n",
       "  </g>\n",
       "  <g id=\"axes_1\">\n",
       "   <g id=\"patch_2\">\n",
       "    <path d=\"M 10.7 79.063888 \n",
       "L 67.445763 79.063888 \n",
       "L 67.445763 22.318125 \n",
       "L 10.7 22.318125 \n",
       "z\n",
       "\" style=\"fill:#ffffff;\"/>\n",
       "   </g>\n",
       "   <g clip-path=\"url(#p73d6d1faf8)\">\n",
       "    <image height=\"57\" id=\"image5eb06d7795\" transform=\"scale(1 -1)translate(0 -57)\" width=\"57\" x=\"10.7\" xlink:href=\"data:image/png;base64,\n",
       "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\" y=\"-22.063888\"/>\n",
       "   </g>\n",
       "   <g id=\"patch_3\">\n",
       "    <path d=\"M 10.7 79.063888 \n",
       "L 10.7 22.318125 \n",
       "\" style=\"fill:none;stroke:#000000;stroke-linecap:square;stroke-linejoin:miter;stroke-width:0.8;\"/>\n",
       "   </g>\n",
       "   <g id=\"patch_4\">\n",
       "    <path d=\"M 67.445763 79.063888 \n",
       "L 67.445763 22.318125 \n",
       "\" style=\"fill:none;stroke:#000000;stroke-linecap:square;stroke-linejoin:miter;stroke-width:0.8;\"/>\n",
       "   </g>\n",
       "   <g id=\"patch_5\">\n",
       "    <path d=\"M 10.7 79.063888 \n",
       "L 67.445763 79.063888 \n",
       "\" style=\"fill:none;stroke:#000000;stroke-linecap:square;stroke-linejoin:miter;stroke-width:0.8;\"/>\n",
       "   </g>\n",
       "   <g id=\"patch_6\">\n",
       "    <path d=\"M 10.7 22.318125 \n",
       "L 67.445763 22.318125 \n",
       "\" style=\"fill:none;stroke:#000000;stroke-linecap:square;stroke-linejoin:miter;stroke-width:0.8;\"/>\n",
       "   </g>\n",
       "   <g id=\"text_1\">\n",
       "    <!-- 1 -->\n",
       "    <defs>\n",
       "     <path d=\"M 12.40625 8.296875 \n",
       "L 28.515625 8.296875 \n",
       "L 28.515625 63.921875 \n",
       "L 10.984375 60.40625 \n",
       "L 10.984375 69.390625 \n",
       "L 28.421875 72.90625 \n",
       "L 38.28125 72.90625 \n",
       "L 38.28125 8.296875 \n",
       "L 54.390625 8.296875 \n",
       "L 54.390625 0 \n",
       "L 12.40625 0 \n",
       "z\n",
       "\" id=\"DejaVuSans-49\"/>\n",
       "    </defs>\n",
       "    <g transform=\"translate(35.255381 16.318125)scale(0.12 -0.12)\">\n",
       "     <use xlink:href=\"#DejaVuSans-49\"/>\n",
       "    </g>\n",
       "   </g>\n",
       "  </g>\n",
       "  <g id=\"axes_2\">\n",
       "   <g id=\"patch_7\">\n",
       "    <path d=\"M 78.794915 79.063888 \n",
       "L 135.540678 79.063888 \n",
       "L 135.540678 22.318125 \n",
       "L 78.794915 22.318125 \n",
       "z\n",
       "\" style=\"fill:#ffffff;\"/>\n",
       "   </g>\n",
       "   <g clip-path=\"url(#p6fded9d38a)\">\n",
       "    <image height=\"57\" id=\"imagef28abf4c82\" transform=\"scale(1 -1)translate(0 -57)\" width=\"57\" x=\"78.794915\" xlink:href=\"data:image/png;base64,\n",
       "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\" y=\"-22.063888\"/>\n",
       "   </g>\n",
       "   <g id=\"patch_8\">\n",
       "    <path d=\"M 78.794915 79.063888 \n",
       "L 78.794915 22.318125 \n",
       "\" style=\"fill:none;stroke:#000000;stroke-linecap:square;stroke-linejoin:miter;stroke-width:0.8;\"/>\n",
       "   </g>\n",
       "   <g id=\"patch_9\">\n",
       "    <path d=\"M 135.540678 79.063888 \n",
       "L 135.540678 22.318125 \n",
       "\" style=\"fill:none;stroke:#000000;stroke-linecap:square;stroke-linejoin:miter;stroke-width:0.8;\"/>\n",
       "   </g>\n",
       "   <g id=\"patch_10\">\n",
       "    <path d=\"M 78.794915 79.063888 \n",
       "L 135.540678 79.063888 \n",
       "\" style=\"fill:none;stroke:#000000;stroke-linecap:square;stroke-linejoin:miter;stroke-width:0.8;\"/>\n",
       "   </g>\n",
       "   <g id=\"patch_11\">\n",
       "    <path d=\"M 78.794915 22.318125 \n",
       "L 135.540678 22.318125 \n",
       "\" style=\"fill:none;stroke:#000000;stroke-linecap:square;stroke-linejoin:miter;stroke-width:0.8;\"/>\n",
       "   </g>\n",
       "   <g id=\"text_2\">\n",
       "    <!-- 2 -->\n",
       "    <defs>\n",
       "     <path d=\"M 19.1875 8.296875 \n",
       "L 53.609375 8.296875 \n",
       "L 53.609375 0 \n",
       "L 7.328125 0 \n",
       "L 7.328125 8.296875 \n",
       "Q 12.9375 14.109375 22.625 23.890625 \n",
       "Q 32.328125 33.6875 34.8125 36.53125 \n",
       "Q 39.546875 41.84375 41.421875 45.53125 \n",
       "Q 43.3125 49.21875 43.3125 52.78125 \n",
       "Q 43.3125 58.59375 39.234375 62.25 \n",
       "Q 35.15625 65.921875 28.609375 65.921875 \n",
       "Q 23.96875 65.921875 18.8125 64.3125 \n",
       "Q 13.671875 62.703125 7.8125 59.421875 \n",
       "L 7.8125 69.390625 \n",
       "Q 13.765625 71.78125 18.9375 73 \n",
       "Q 24.125 74.21875 28.421875 74.21875 \n",
       "Q 39.75 74.21875 46.484375 68.546875 \n",
       "Q 53.21875 62.890625 53.21875 53.421875 \n",
       "Q 53.21875 48.921875 51.53125 44.890625 \n",
       "Q 49.859375 40.875 45.40625 35.40625 \n",
       "Q 44.1875 33.984375 37.640625 27.21875 \n",
       "Q 31.109375 20.453125 19.1875 8.296875 \n",
       "z\n",
       "\" id=\"DejaVuSans-50\"/>\n",
       "    </defs>\n",
       "    <g transform=\"translate(103.350297 16.318125)scale(0.12 -0.12)\">\n",
       "     <use xlink:href=\"#DejaVuSans-50\"/>\n",
       "    </g>\n",
       "   </g>\n",
       "  </g>\n",
       "  <g id=\"axes_3\">\n",
       "   <g id=\"patch_12\">\n",
       "    <path d=\"M 146.889831 79.063888 \n",
       "L 203.635593 79.063888 \n",
       "L 203.635593 22.318125 \n",
       "L 146.889831 22.318125 \n",
       "z\n",
       "\" style=\"fill:#ffffff;\"/>\n",
       "   </g>\n",
       "   <g clip-path=\"url(#pdd7c681125)\">\n",
       "    <image height=\"57\" id=\"image25b22e3572\" transform=\"scale(1 -1)translate(0 -57)\" width=\"57\" x=\"146.889831\" xlink:href=\"data:image/png;base64,\n",
       "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\" y=\"-22.063888\"/>\n",
       "   </g>\n",
       "   <g id=\"patch_13\">\n",
       "    <path d=\"M 146.889831 79.063888 \n",
       "L 146.889831 22.318125 \n",
       "\" style=\"fill:none;stroke:#000000;stroke-linecap:square;stroke-linejoin:miter;stroke-width:0.8;\"/>\n",
       "   </g>\n",
       "   <g id=\"patch_14\">\n",
       "    <path d=\"M 203.635593 79.063888 \n",
       "L 203.635593 22.318125 \n",
       "\" style=\"fill:none;stroke:#000000;stroke-linecap:square;stroke-linejoin:miter;stroke-width:0.8;\"/>\n",
       "   </g>\n",
       "   <g id=\"patch_15\">\n",
       "    <path d=\"M 146.889831 79.063888 \n",
       "L 203.635593 79.063888 \n",
       "\" style=\"fill:none;stroke:#000000;stroke-linecap:square;stroke-linejoin:miter;stroke-width:0.8;\"/>\n",
       "   </g>\n",
       "   <g id=\"patch_16\">\n",
       "    <path d=\"M 146.889831 22.318125 \n",
       "L 203.635593 22.318125 \n",
       "\" style=\"fill:none;stroke:#000000;stroke-linecap:square;stroke-linejoin:miter;stroke-width:0.8;\"/>\n",
       "   </g>\n",
       "   <g id=\"text_3\">\n",
       "    <!-- 5 -->\n",
       "    <defs>\n",
       "     <path d=\"M 10.796875 72.90625 \n",
       "L 49.515625 72.90625 \n",
       "L 49.515625 64.59375 \n",
       "L 19.828125 64.59375 \n",
       "L 19.828125 46.734375 \n",
       "Q 21.96875 47.46875 24.109375 47.828125 \n",
       "Q 26.265625 48.1875 28.421875 48.1875 \n",
       "Q 40.625 48.1875 47.75 41.5 \n",
       "Q 54.890625 34.8125 54.890625 23.390625 \n",
       "Q 54.890625 11.625 47.5625 5.09375 \n",
       "Q 40.234375 -1.421875 26.90625 -1.421875 \n",
       "Q 22.3125 -1.421875 17.546875 -0.640625 \n",
       "Q 12.796875 0.140625 7.71875 1.703125 \n",
       "L 7.71875 11.625 \n",
       "Q 12.109375 9.234375 16.796875 8.0625 \n",
       "Q 21.484375 6.890625 26.703125 6.890625 \n",
       "Q 35.15625 6.890625 40.078125 11.328125 \n",
       "Q 45.015625 15.765625 45.015625 23.390625 \n",
       "Q 45.015625 31 40.078125 35.4375 \n",
       "Q 35.15625 39.890625 26.703125 39.890625 \n",
       "Q 22.75 39.890625 18.8125 39.015625 \n",
       "Q 14.890625 38.140625 10.796875 36.28125 \n",
       "z\n",
       "\" id=\"DejaVuSans-53\"/>\n",
       "    </defs>\n",
       "    <g transform=\"translate(171.445212 16.318125)scale(0.12 -0.12)\">\n",
       "     <use xlink:href=\"#DejaVuSans-53\"/>\n",
       "    </g>\n",
       "   </g>\n",
       "  </g>\n",
       "  <g id=\"axes_4\">\n",
       "   <g id=\"patch_17\">\n",
       "    <path d=\"M 214.984746 79.063888 \n",
       "L 271.730508 79.063888 \n",
       "L 271.730508 22.318125 \n",
       "L 214.984746 22.318125 \n",
       "z\n",
       "\" style=\"fill:#ffffff;\"/>\n",
       "   </g>\n",
       "   <g clip-path=\"url(#p8bcdf32f3b)\">\n",
       "    <image height=\"57\" id=\"imagecd54ae2d8a\" transform=\"scale(1 -1)translate(0 -57)\" width=\"57\" x=\"214.984746\" xlink:href=\"data:image/png;base64,\n",
       "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\" y=\"-22.063888\"/>\n",
       "   </g>\n",
       "   <g id=\"patch_18\">\n",
       "    <path d=\"M 214.984746 79.063888 \n",
       "L 214.984746 22.318125 \n",
       "\" style=\"fill:none;stroke:#000000;stroke-linecap:square;stroke-linejoin:miter;stroke-width:0.8;\"/>\n",
       "   </g>\n",
       "   <g id=\"patch_19\">\n",
       "    <path d=\"M 271.730508 79.063888 \n",
       "L 271.730508 22.318125 \n",
       "\" style=\"fill:none;stroke:#000000;stroke-linecap:square;stroke-linejoin:miter;stroke-width:0.8;\"/>\n",
       "   </g>\n",
       "   <g id=\"patch_20\">\n",
       "    <path d=\"M 214.984746 79.063888 \n",
       "L 271.730508 79.063888 \n",
       "\" style=\"fill:none;stroke:#000000;stroke-linecap:square;stroke-linejoin:miter;stroke-width:0.8;\"/>\n",
       "   </g>\n",
       "   <g id=\"patch_21\">\n",
       "    <path d=\"M 214.984746 22.318125 \n",
       "L 271.730508 22.318125 \n",
       "\" style=\"fill:none;stroke:#000000;stroke-linecap:square;stroke-linejoin:miter;stroke-width:0.8;\"/>\n",
       "   </g>\n",
       "   <g id=\"text_4\">\n",
       "    <!-- 0 -->\n",
       "    <defs>\n",
       "     <path d=\"M 31.78125 66.40625 \n",
       "Q 24.171875 66.40625 20.328125 58.90625 \n",
       "Q 16.5 51.421875 16.5 36.375 \n",
       "Q 16.5 21.390625 20.328125 13.890625 \n",
       "Q 24.171875 6.390625 31.78125 6.390625 \n",
       "Q 39.453125 6.390625 43.28125 13.890625 \n",
       "Q 47.125 21.390625 47.125 36.375 \n",
       "Q 47.125 51.421875 43.28125 58.90625 \n",
       "Q 39.453125 66.40625 31.78125 66.40625 \n",
       "z\n",
       "M 31.78125 74.21875 \n",
       "Q 44.046875 74.21875 50.515625 64.515625 \n",
       "Q 56.984375 54.828125 56.984375 36.375 \n",
       "Q 56.984375 17.96875 50.515625 8.265625 \n",
       "Q 44.046875 -1.421875 31.78125 -1.421875 \n",
       "Q 19.53125 -1.421875 13.0625 8.265625 \n",
       "Q 6.59375 17.96875 6.59375 36.375 \n",
       "Q 6.59375 54.828125 13.0625 64.515625 \n",
       "Q 19.53125 74.21875 31.78125 74.21875 \n",
       "z\n",
       "\" id=\"DejaVuSans-48\"/>\n",
       "    </defs>\n",
       "    <g transform=\"translate(239.540127 16.318125)scale(0.12 -0.12)\">\n",
       "     <use xlink:href=\"#DejaVuSans-48\"/>\n",
       "    </g>\n",
       "   </g>\n",
       "  </g>\n",
       "  <g id=\"axes_5\">\n",
       "   <g id=\"patch_22\">\n",
       "    <path d=\"M 283.079661 79.063888 \n",
       "L 339.825424 79.063888 \n",
       "L 339.825424 22.318125 \n",
       "L 283.079661 22.318125 \n",
       "z\n",
       "\" style=\"fill:#ffffff;\"/>\n",
       "   </g>\n",
       "   <g clip-path=\"url(#pbc2c4b9d0e)\">\n",
       "    <image height=\"57\" id=\"image9fb3a1ef41\" transform=\"scale(1 -1)translate(0 -57)\" width=\"57\" x=\"283.079661\" xlink:href=\"data:image/png;base64,\n",
       "iVBORw0KGgoAAAANSUhEUgAAADkAAAA5CAYAAACMGIOFAAAABHNCSVQICAgIfAhkiAAABpZJREFUaIHtmUtsG1UUhr/xzNhOnKQJTRuTNNAWAjTAAoF4ipcIbUWBCgFqWRSJl5AAUcGCSoiHQEICJCQWbBEsYcUC8ZIKiEVRIwGipaWhRYGSkoYklCZuHNvj8bD477WZUCAgWoTts5nXvXfu3P/8/z3njDPk3BZR55b4rydwMqz5kfVizY+sF2t+ZL2Y56RSAESlku5Ei9s23aWnAFA+qz92v9SZBCA9Na92E7+o3fiEGlTCRU+ucuUFABx+RHOrfL4EgKAjPsdKUtfuvANAy6SOK94cBRoFyahYPO6D3KZLAZjcWADg1jVfArC24ysACpEPwDI3B8Bw/kwAgsjV84qe9/gzAJyfHgNg0/YHqu8YeD3QJPb/CEA4NRWbQ9DuAbDn0tcAeGL1+QAMte/V3MJ2ADoTeQB2zJ0FwDPL9HzNEr2rIZB01nXdEwEcfHUFAAPd0wCkPa3y1HwbABMzWrUgEFKuKx4U80LMS4prnh/nXEerPMFx1L7VD6rP1me14vlQurA3dyoAn42eDkD3UnnJ1jM/AmA4txoA39E7EmbMNlfeeKjQBUDG0/XwSxep3eLW4v9t3uijgwAsb5P67fpWaplIabWy3eLU+pX7ABhsHQdgXeZbADKO1inhSNF8hHSA+u8qtQCQq6QBOFDMVl8+Or8MgMmivGRkejkA5/RrLodnOwB4+vObAEgmy/HJe3pHyhyLZb37llW7AYg0pcZA0ll39rYIYOwF8eLBsz8BYCA1EWuYqwgRq5o/h+KqSwWo8SRf0TjtrvbJ1kTRtBN/st7R6pj9nlQxbbzgqIbiSCjUrYLb46zxhvFA3LOeMFfWO3+Y0/0gFKKZ+/XOxkDSVgaG9kjJen2t9O68uNnuSh2ngzhy1pYn1c/uh6VIe1vGIBgaYiSd30c6JbOn2mfWGzrdudi15XN7QnNJO1LozoQioXajsqPlVgCuSAu79Ru3AA2CpGdPPpw8B4AtfTtjDSyCrWbV/ER81ccKimEtVy3yRXMdIiTtXugnagppkcGgnk7U9lCoKfF0Weq7InkEqHnJlKOx5owO2Dkscw/q3Wl9XmMhGQ1JTZ98+TYAnC4hlxqRqnYdEBdnVmldoovFwW3nfgDAodJSoBa7dnuzQE1tfS/uAb+1QqTMJR+o7QTKNqwyn9eiuDfjaE7WO6zqWk67CXEzZxD1ZuUpDYGkc72/OQKIyuW/anv8ATw5w9Rbiisvy4oPR0pSuodP3Q7A/lIPAK5TywWt8nYYHltOJRx5TSUSBparlnvWrMpa7+n1lbteZqK1G/su1Hj/6Mv+Z+ZVEUxoNRzf+5PmsDD/tP27b9oPwL7tpwGwqe8zAJ7+biMAd63YAcBg6nC179dFZR0WwU5XEVDC7MWBiYOtZQwk9rlrEC+EGQCyZn+9YWSzaTdmjg1gDfGRNd80BaaouPhCE9SEx7ptarNc5s03lLA+vuodAN4+qqLUvkJvte+1bUrf7FZghcWGdVZQfJO2WQFamAxYAUsbUZt4XyFpbyO565+rzCJsoXCF0z9r4CEd73vlXgB23PwSAM/9dF21r93sqzG/WXKLaIcJ+3o9JQFfFFSischnPQUkNhiwiGUOx5OIJpJ/ywynF3J04KFhAO5ccwcAG7JfVbu8PL4WgOf73wbg+7KSAd9w0QbwBXP98YySiP0zKpNsXfkhUAsCchVh1joRD/QbAknnhP1ONyUN+9vB7VJp4t29H1ebvJ8X9+zmbjnYbtK6ILJFMo3R71bMtcbOGe8ZN2lc0oyzbdUlsak0BJL/Hif/wsJfxJv1Ixuq9/papY49KaVlazv2ADBbVrljpSnF2H3wQNmEfwbpMIpj9GOoFG38scsB6H3xU6BBkDxxnPwDK627qHp+jVnp81oOATCQnASg05RIQjMz19A7MNclm4KZAH3GBPglg9lqT0hvuVF7dEMgecI56fgqbUSBVjd3ml99ZmPRncfOAGDpkmMAVCIVpn2DVMIotEUuZyIe+yuitACrqVDQh21WvRvATpq6WuvZPl49H7lHJcerO78BagUqi0yh4sXu2+zD/nLILyiX2Kzk66BP7X/Qb8gmkv+GWS5aK393sHq+7xX9ss9sVZtnh28B4O6r9NPpie6RBaPFMclX1O+9fDcAg0mVVR/apTi5b2zvcXrVqZ28fXJBLLsYO3a7YlA/L86FSWEyl9VxvscUmZebnLZFnB186icAymPaf5tI1os1BJLNj6wXa35kvVjzI+vFfgV89FBh2pbs8gAAAABJRU5ErkJggg==\" y=\"-22.063888\"/>\n",
       "   </g>\n",
       "   <g id=\"patch_23\">\n",
       "    <path d=\"M 283.079661 79.063888 \n",
       "L 283.079661 22.318125 \n",
       "\" style=\"fill:none;stroke:#000000;stroke-linecap:square;stroke-linejoin:miter;stroke-width:0.8;\"/>\n",
       "   </g>\n",
       "   <g id=\"patch_24\">\n",
       "    <path d=\"M 339.825424 79.063888 \n",
       "L 339.825424 22.318125 \n",
       "\" style=\"fill:none;stroke:#000000;stroke-linecap:square;stroke-linejoin:miter;stroke-width:0.8;\"/>\n",
       "   </g>\n",
       "   <g id=\"patch_25\">\n",
       "    <path d=\"M 283.079661 79.063888 \n",
       "L 339.825424 79.063888 \n",
       "\" style=\"fill:none;stroke:#000000;stroke-linecap:square;stroke-linejoin:miter;stroke-width:0.8;\"/>\n",
       "   </g>\n",
       "   <g id=\"patch_26\">\n",
       "    <path d=\"M 283.079661 22.318125 \n",
       "L 339.825424 22.318125 \n",
       "\" style=\"fill:none;stroke:#000000;stroke-linecap:square;stroke-linejoin:miter;stroke-width:0.8;\"/>\n",
       "   </g>\n",
       "   <g id=\"text_5\">\n",
       "    <!-- 9 -->\n",
       "    <defs>\n",
       "     <path d=\"M 10.984375 1.515625 \n",
       "L 10.984375 10.5 \n",
       "Q 14.703125 8.734375 18.5 7.8125 \n",
       "Q 22.3125 6.890625 25.984375 6.890625 \n",
       "Q 35.75 6.890625 40.890625 13.453125 \n",
       "Q 46.046875 20.015625 46.78125 33.40625 \n",
       "Q 43.953125 29.203125 39.59375 26.953125 \n",
       "Q 35.25 24.703125 29.984375 24.703125 \n",
       "Q 19.046875 24.703125 12.671875 31.3125 \n",
       "Q 6.296875 37.9375 6.296875 49.421875 \n",
       "Q 6.296875 60.640625 12.9375 67.421875 \n",
       "Q 19.578125 74.21875 30.609375 74.21875 \n",
       "Q 43.265625 74.21875 49.921875 64.515625 \n",
       "Q 56.59375 54.828125 56.59375 36.375 \n",
       "Q 56.59375 19.140625 48.40625 8.859375 \n",
       "Q 40.234375 -1.421875 26.421875 -1.421875 \n",
       "Q 22.703125 -1.421875 18.890625 -0.6875 \n",
       "Q 15.09375 0.046875 10.984375 1.515625 \n",
       "z\n",
       "M 30.609375 32.421875 \n",
       "Q 37.25 32.421875 41.125 36.953125 \n",
       "Q 45.015625 41.5 45.015625 49.421875 \n",
       "Q 45.015625 57.28125 41.125 61.84375 \n",
       "Q 37.25 66.40625 30.609375 66.40625 \n",
       "Q 23.96875 66.40625 20.09375 61.84375 \n",
       "Q 16.21875 57.28125 16.21875 49.421875 \n",
       "Q 16.21875 41.5 20.09375 36.953125 \n",
       "Q 23.96875 32.421875 30.609375 32.421875 \n",
       "z\n",
       "\" id=\"DejaVuSans-57\"/>\n",
       "    </defs>\n",
       "    <g transform=\"translate(307.635042 16.318125)scale(0.12 -0.12)\">\n",
       "     <use xlink:href=\"#DejaVuSans-57\"/>\n",
       "    </g>\n",
       "   </g>\n",
       "  </g>\n",
       "  <g id=\"axes_6\">\n",
       "   <g id=\"patch_27\">\n",
       "    <path d=\"M 351.174576 79.063888 \n",
       "L 407.920339 79.063888 \n",
       "L 407.920339 22.318125 \n",
       "L 351.174576 22.318125 \n",
       "z\n",
       "\" style=\"fill:#ffffff;\"/>\n",
       "   </g>\n",
       "   <g clip-path=\"url(#pd5c39dce45)\">\n",
       "    <image height=\"57\" id=\"image80eaecc2c9\" transform=\"scale(1 -1)translate(0 -57)\" width=\"57\" x=\"351.174576\" xlink:href=\"data:image/png;base64,\n",
       "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\" y=\"-22.063888\"/>\n",
       "   </g>\n",
       "   <g id=\"patch_28\">\n",
       "    <path d=\"M 351.174576 79.063888 \n",
       "L 351.174576 22.318125 \n",
       "\" style=\"fill:none;stroke:#000000;stroke-linecap:square;stroke-linejoin:miter;stroke-width:0.8;\"/>\n",
       "   </g>\n",
       "   <g id=\"patch_29\">\n",
       "    <path d=\"M 407.920339 79.063888 \n",
       "L 407.920339 22.318125 \n",
       "\" style=\"fill:none;stroke:#000000;stroke-linecap:square;stroke-linejoin:miter;stroke-width:0.8;\"/>\n",
       "   </g>\n",
       "   <g id=\"patch_30\">\n",
       "    <path d=\"M 351.174576 79.063888 \n",
       "L 407.920339 79.063888 \n",
       "\" style=\"fill:none;stroke:#000000;stroke-linecap:square;stroke-linejoin:miter;stroke-width:0.8;\"/>\n",
       "   </g>\n",
       "   <g id=\"patch_31\">\n",
       "    <path d=\"M 351.174576 22.318125 \n",
       "L 407.920339 22.318125 \n",
       "\" style=\"fill:none;stroke:#000000;stroke-linecap:square;stroke-linejoin:miter;stroke-width:0.8;\"/>\n",
       "   </g>\n",
       "   <g id=\"text_6\">\n",
       "    <!-- 5 -->\n",
       "    <g transform=\"translate(375.729958 16.318125)scale(0.12 -0.12)\">\n",
       "     <use xlink:href=\"#DejaVuSans-53\"/>\n",
       "    </g>\n",
       "   </g>\n",
       "  </g>\n",
       "  <g id=\"axes_7\">\n",
       "   <g id=\"patch_32\">\n",
       "    <path d=\"M 419.269492 79.063888 \n",
       "L 476.015254 79.063888 \n",
       "L 476.015254 22.318125 \n",
       "L 419.269492 22.318125 \n",
       "z\n",
       "\" style=\"fill:#ffffff;\"/>\n",
       "   </g>\n",
       "   <g clip-path=\"url(#pdac3a5fd2d)\">\n",
       "    <image height=\"57\" id=\"image969a1bf942\" transform=\"scale(1 -1)translate(0 -57)\" width=\"57\" x=\"419.269492\" xlink:href=\"data:image/png;base64,\n",
       "iVBORw0KGgoAAAANSUhEUgAAADkAAAA5CAYAAACMGIOFAAAABHNCSVQICAgIfAhkiAAACFFJREFUaIHtmltsXEcZx397X+96vWs360vsJI7tONiJQ5MoKQmqRFWKVLWFSqQCoQaEqiJKAfFCpTz0gRb1BakIKtFI4VLaUlCjiIeWioiqkQjEDk3b0BQ7F8eXOE4cO77f9r48/Ofsdo/s2A6paLv+XubMOTPfzPn+813mm3F80bEvyw3IVV6uh2gFANkSLwCx6iAAGa9TpccBQNqU7ngGAEda3d2zenC/9c6NhrspcldXAZAauqYXDs2BrH7NectH/BiS23pwNTcCMLEjCkAi6Cho6EwVdnQlJKWsyzCaN1JLqbQQzfpVjnxWQwU37MnxqPhd+//+B0D3L4Rk/c9V0vG+mbQmV1xIzjcYnTMAlp+bByDtlzRma6SLrqRB0IgnMJQEIHabB4CMCpx6nUO8pj0OwKUveXODR1ubNUbneb2w6dKiZBAiIz2PHi5R9/dOq7vVznwvLiT9xztVptOFDZySw/xXtgEQi0jaNX8ZAKDv4fUA1L+i+kxbDZDX1dLuST0YdKpPlud4n31Mz5t+QEGbldJcVHMs8/kASMfjBd+LC8nM7OwNG05tlDzmGhMARA9eBuD5R18H4FvNjwDQ+uQgAF3PyNJt3SAkLx5tAKD+DwM5nsPb6wCY+KYsbuRFY22X0s1MeuH3i1BxIZmjRaSYLFM9eMFb8P6Zr+0HoPzJGQAm9gidxkNCfDq4DoDUt/W9a+3aXN/PPD+mdz8qAyDyIguOvRRl3JqzIyAry9RUwfciRXIRKTb9dhiAy/ebqGJ3m+p3hQCo/ek0AFONkmr/49Kb8jf8ADQ+Jelevas0zzQutP2Dcq4T+41uvnRzkVC2NLDg+yJF0iKbbqbPXwSg5lmV2c/fDkDdm7KeGb/QSAbUr+J1STWpzQq9+24DoGQ4v1JmWxQnV3coPOq/TzKPvLSyn3AsFSCtjN0nk/JI2q3qEhbO8c/COHH6G58DYKJVb+relE565iTHwIjaxUN5ucYiCotKr0g3Qxe1Gq79cC8AVb88sfDc7GRNubRkwc9FhuRNxo0WRd6fAGCiWbuZVFD8PNNCdKxV/jXck9+YOpQ8IF6uaaw5o5iz7z4hWttQL149fWrvVrtsqnBza8XJqbBiVztyRYakRbb174qEAYjvaFKHxXI0PZcAiJyLiI1ByTspfas7fBWAxMbKXJf+e+VD1x4XMvNrhGB1u8bufEJtm7/bpynZEHQGZMGtPawjtfBqLFIkbbqZnpAfTJZp4bttu3J3TTUAs7crRo10KbIZ26YVMHGnIhzfuBzmeGuev2/UZPhKzA6nSqVnWm1Ke/S9+1lZ7k0H3tMUzX4xdmermbOKmXVaGSHbLxUpkhbZdLP0eDcA8/dsB8B79BQAmSpZ00D3qNpPabfhXycER3ZKjr5x8dv8q2u5ITLlajPaprLm1/K9fT9WNLXhDRMPN2gV9L+snJDv78IqZULV4FXNcbZGY4UtXZ2bA4oeSUs3DaLpUe393LPK6Vh5WgaG1MwjEzezu76AzeZD8p/0KiMweaQq9+3amPS77mVZzcFXNgCQ6JFpdp7rB+DqdzYDUPovIZg0GxkrF+ydUftkUJhlt5i5vX1G7Rb9yU8RFcVPLr5cLbK5FOc/ZBxmH9gNQLBDLiMbi6nePa6GgzIwI/u2AODZoiAhdO/JHC/Xl3cBUHJJPEqOKEVZ1SdeLcdkxAJzvQBM/l6plfHNCsRj0cJDJsuVTG6SoSp728x5yZ/8FJBjqaO7fEtbuBfVhjfeJkPkO6OwLr7N1D+QoUluUuJq9AkdO8zM+XIs1x2SsRq4W8F75Jzel4wp0Eh7NWboolxJzz4FGNUn9T14Qm5t6CEZprJ+WaLxzeJbcVab8aJAcmmdtMggaG130iPaBfsuyZ6nNyq884xJnxKt0h/3hEKwyp+oX2ZvPpHV+6BJEmfE2zrITQYke+sYMBUS+r6tckeTw9Jd/2tya4EHpf8zh+WeKrq0KZipFaKrSC5E9u1OuluWz2Udw5UpSJ5aL+lH+yXt+QYlsgIjmVzfqufylhbg/EFZ7Nr66wA4D65ReVyBuXurUpZTTeJhhRXxlH5jfIuQr+yQDuNQ0noVyZWQdZBqIZrxyFclq2QR/YPyhb1fD+f63HNA1m80IT3tOWYSWwfkB4fvUN1KT8XNsaHTnMzNPHQHAI83/RmA5177KgCxGvFzxYvoEHb5fnLFnCX1vqe04U2Vapj1R/PHbs6kdMvb3gVAYk8LAMM7pc/+EfWJXJCP/durLwDwhUceBWBwv1ZC+rrat/xMx4bTO+WbQ+9c0Ti37q8+vnTLdDJ3naRE1tU61G36jaQba1CENNaSj3isCMU9L6SSIfFImGPChIwj4T5hsePpxwCoHJJ+r/2j9D4wYDbXu2rFb04rJDWgg+JVJFdEWUnPQtBhLimk+hTTuk2Z3r4312XIWM+Gy9JFS4dcMV2uiJUbZMOaZuUp7Urm1gtBK+159nuq1/1V9cBpjWV59FUkV0QOS14Sb9Z2zcSiyndjuefrW6W/Fx6W8mW8Sm9kvZbBF69wp6Y5bxJf0SP/AeDs00pJesZkyctO9AAfukhoaBXJFdEyr524jr2be64ZFxKOt9Q3Wa7YxjMsa5mOKLU4bVKSoT91qKN1PTUsP9nwglaHHUGLVpH8qClzurOgbkncWhOpu3eq9Ennhr8vyzy5y+STPjA+98y/bzjOKpK3hOxH4Y78ZWGHS37Qvke1yHdFkc31tmjB+7JTssoVXbLg2Ywt/C7q69kfGdmP6T9UXwxBi9JdFwCoihReQhpvUT1mDm09dstuzxUve7KfYPq/WtflkqO90HqG/TsAiFV4ltW/KJD8L4svuA02IqxoAAAAAElFTkSuQmCC\" y=\"-22.063888\"/>\n",
       "   </g>\n",
       "   <g id=\"patch_33\">\n",
       "    <path d=\"M 419.269492 79.063888 \n",
       "L 419.269492 22.318125 \n",
       "\" style=\"fill:none;stroke:#000000;stroke-linecap:square;stroke-linejoin:miter;stroke-width:0.8;\"/>\n",
       "   </g>\n",
       "   <g id=\"patch_34\">\n",
       "    <path d=\"M 476.015254 79.063888 \n",
       "L 476.015254 22.318125 \n",
       "\" style=\"fill:none;stroke:#000000;stroke-linecap:square;stroke-linejoin:miter;stroke-width:0.8;\"/>\n",
       "   </g>\n",
       "   <g id=\"patch_35\">\n",
       "    <path d=\"M 419.269492 79.063888 \n",
       "L 476.015254 79.063888 \n",
       "\" style=\"fill:none;stroke:#000000;stroke-linecap:square;stroke-linejoin:miter;stroke-width:0.8;\"/>\n",
       "   </g>\n",
       "   <g id=\"patch_36\">\n",
       "    <path d=\"M 419.269492 22.318125 \n",
       "L 476.015254 22.318125 \n",
       "\" style=\"fill:none;stroke:#000000;stroke-linecap:square;stroke-linejoin:miter;stroke-width:0.8;\"/>\n",
       "   </g>\n",
       "   <g id=\"text_7\">\n",
       "    <!-- 5 -->\n",
       "    <g transform=\"translate(443.824873 16.318125)scale(0.12 -0.12)\">\n",
       "     <use xlink:href=\"#DejaVuSans-53\"/>\n",
       "    </g>\n",
       "   </g>\n",
       "  </g>\n",
       "  <g id=\"axes_8\">\n",
       "   <g id=\"patch_37\">\n",
       "    <path d=\"M 487.364407 79.063888 \n",
       "L 544.110169 79.063888 \n",
       "L 544.110169 22.318125 \n",
       "L 487.364407 22.318125 \n",
       "z\n",
       "\" style=\"fill:#ffffff;\"/>\n",
       "   </g>\n",
       "   <g clip-path=\"url(#pcea2a7f99e)\">\n",
       "    <image height=\"57\" id=\"image6851e16fa5\" transform=\"scale(1 -1)translate(0 -57)\" width=\"57\" x=\"487.364407\" xlink:href=\"data:image/png;base64,\n",
       "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\" y=\"-22.063888\"/>\n",
       "   </g>\n",
       "   <g id=\"patch_38\">\n",
       "    <path d=\"M 487.364407 79.063888 \n",
       "L 487.364407 22.318125 \n",
       "\" style=\"fill:none;stroke:#000000;stroke-linecap:square;stroke-linejoin:miter;stroke-width:0.8;\"/>\n",
       "   </g>\n",
       "   <g id=\"patch_39\">\n",
       "    <path d=\"M 544.110169 79.063888 \n",
       "L 544.110169 22.318125 \n",
       "\" style=\"fill:none;stroke:#000000;stroke-linecap:square;stroke-linejoin:miter;stroke-width:0.8;\"/>\n",
       "   </g>\n",
       "   <g id=\"patch_40\">\n",
       "    <path d=\"M 487.364407 79.063888 \n",
       "L 544.110169 79.063888 \n",
       "\" style=\"fill:none;stroke:#000000;stroke-linecap:square;stroke-linejoin:miter;stroke-width:0.8;\"/>\n",
       "   </g>\n",
       "   <g id=\"patch_41\">\n",
       "    <path d=\"M 487.364407 22.318125 \n",
       "L 544.110169 22.318125 \n",
       "\" style=\"fill:none;stroke:#000000;stroke-linecap:square;stroke-linejoin:miter;stroke-width:0.8;\"/>\n",
       "   </g>\n",
       "   <g id=\"text_8\">\n",
       "    <!-- 2 -->\n",
       "    <g transform=\"translate(511.919788 16.318125)scale(0.12 -0.12)\">\n",
       "     <use xlink:href=\"#DejaVuSans-50\"/>\n",
       "    </g>\n",
       "   </g>\n",
       "  </g>\n",
       "  <g id=\"axes_9\">\n",
       "   <g id=\"patch_42\">\n",
       "    <path d=\"M 555.459322 79.063888 \n",
       "L 612.205085 79.063888 \n",
       "L 612.205085 22.318125 \n",
       "L 555.459322 22.318125 \n",
       "z\n",
       "\" style=\"fill:#ffffff;\"/>\n",
       "   </g>\n",
       "   <g clip-path=\"url(#pebba9a71dd)\">\n",
       "    <image height=\"57\" id=\"image7383b943ee\" transform=\"scale(1 -1)translate(0 -57)\" width=\"57\" x=\"555.459322\" xlink:href=\"data:image/png;base64,\n",
       "iVBORw0KGgoAAAANSUhEUgAAADkAAAA5CAYAAACMGIOFAAAABHNCSVQICAgIfAhkiAAAA4BJREFUaIHtmE1sVFUUx39vPjr0e6i1JW0K1KZNNSGhED5khzSxKysVSpRFNRob2ZAY40bjygUbYMWiiRAWxLioKzBRE5pUSAmJRiJBIG1iEUoTLR36Qed7Hov/m6ETa2dIKoY797+5703PPff8z//ec26f0+0ccDEcvv87gGcBS9IUWJKmwJI0BZakKbAkTYElaQosSVNgSZqCQPbBv369HhpeACDWUgtAolYm/rg+IEztVV7SNWk5qEwCUF4RByAU8H73a0yk/AC4rgNAZKY6t3jobpl8hbyPE17KA49kG2+QDzeYUQxVWiuT9AwXghrTsncyHpeo3tuH7i13azYC82/vBqDz6A0AoulZABYXlcXpv8MAbGm5D8Dsd22yyyhboQlls2ymHIDK+ym9P0zkLRRrDAEw91Yy91vfG5cBiGe0WwbrLwHQEawEoP3cRwA4LTGNExUK2ls7U+btgOzg7ctkWLGn62qAElHSKfZr3dZfNV7rWt0usKERgOn9LwHg9kQA2BTWeP1u05PFJQifbvsBgOPDvQCU/6U/NPVNAjB/qgWAyuGrxYT6D5SEkoHCJsLteSn08i8PABj5eicA7773PQD9Nb8BMBZrBuCLaw0AtH6m+YlEFQAv7gjlfPq94/ntYdlu5kremjMLrwLw5bGvABjsGQCg44OfNT+sDpB+OKcJPlVyx+fk+SkJJZ1u38H8M+mufkQfvK/sdn0o5X6aVLVtPq2eF/xRWfZVqx/eOtEJwNDes7Jf7Mz5+ub37Xm+q66oejafV39LTf4JPFGs4+IjAM7f3KLgfYq1dUjK+UZVOJygYnGTqvAloWRJkCzcQrzDTCZdwJO2jL9WDThbDKK9KlB1H98BYF/9rdyUPRXjANyIq60cO9cPwDv9IwD8sVQPQCShi4bPUah3zrQDMPe6tm/5VRW1DSfHZLdunUKO6RJhlVwJ2SwR1HXOjUY1plJFzV/q25V7nnpTPeSVjdMAvFZ/G4CmoC4On184BEDr1ikAuhu0C0ZnpCRHdP1L3xxfPeaiInvO8dRK/run/AZcqBWthMiA2lPtpM7S7Cc6c7Pev2fhOr0vLOqMth327prZuuFmVlzbKvnfrLhMccfLcaHK/bS+S1HJoi/oa4blWXbXSMGVfC9DSShpSZoCS9IUWJKmwJI0BZakKbAkTYElaQosSVNgSZqCxwB98AQyYBtGAAAAAElFTkSuQmCC\" y=\"-22.063888\"/>\n",
       "   </g>\n",
       "   <g id=\"patch_43\">\n",
       "    <path d=\"M 555.459322 79.063888 \n",
       "L 555.459322 22.318125 \n",
       "\" style=\"fill:none;stroke:#000000;stroke-linecap:square;stroke-linejoin:miter;stroke-width:0.8;\"/>\n",
       "   </g>\n",
       "   <g id=\"patch_44\">\n",
       "    <path d=\"M 612.205085 79.063888 \n",
       "L 612.205085 22.318125 \n",
       "\" style=\"fill:none;stroke:#000000;stroke-linecap:square;stroke-linejoin:miter;stroke-width:0.8;\"/>\n",
       "   </g>\n",
       "   <g id=\"patch_45\">\n",
       "    <path d=\"M 555.459322 79.063888 \n",
       "L 612.205085 79.063888 \n",
       "\" style=\"fill:none;stroke:#000000;stroke-linecap:square;stroke-linejoin:miter;stroke-width:0.8;\"/>\n",
       "   </g>\n",
       "   <g id=\"patch_46\">\n",
       "    <path d=\"M 555.459322 22.318125 \n",
       "L 612.205085 22.318125 \n",
       "\" style=\"fill:none;stroke:#000000;stroke-linecap:square;stroke-linejoin:miter;stroke-width:0.8;\"/>\n",
       "   </g>\n",
       "   <g id=\"text_9\">\n",
       "    <!-- 5 -->\n",
       "    <g transform=\"translate(580.014703 16.318125)scale(0.12 -0.12)\">\n",
       "     <use xlink:href=\"#DejaVuSans-53\"/>\n",
       "    </g>\n",
       "   </g>\n",
       "  </g>\n",
       "  <g id=\"axes_10\">\n",
       "   <g id=\"patch_47\">\n",
       "    <path d=\"M 623.554237 79.063888 \n",
       "L 680.3 79.063888 \n",
       "L 680.3 22.318125 \n",
       "L 623.554237 22.318125 \n",
       "z\n",
       "\" style=\"fill:#ffffff;\"/>\n",
       "   </g>\n",
       "   <g clip-path=\"url(#p2dfdd55ebe)\">\n",
       "    <image height=\"57\" id=\"image9f79a7147b\" transform=\"scale(1 -1)translate(0 -57)\" width=\"57\" x=\"623.554237\" xlink:href=\"data:image/png;base64,\n",
       "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\" y=\"-22.063888\"/>\n",
       "   </g>\n",
       "   <g id=\"patch_48\">\n",
       "    <path d=\"M 623.554237 79.063888 \n",
       "L 623.554237 22.318125 \n",
       "\" style=\"fill:none;stroke:#000000;stroke-linecap:square;stroke-linejoin:miter;stroke-width:0.8;\"/>\n",
       "   </g>\n",
       "   <g id=\"patch_49\">\n",
       "    <path d=\"M 680.3 79.063888 \n",
       "L 680.3 22.318125 \n",
       "\" style=\"fill:none;stroke:#000000;stroke-linecap:square;stroke-linejoin:miter;stroke-width:0.8;\"/>\n",
       "   </g>\n",
       "   <g id=\"patch_50\">\n",
       "    <path d=\"M 623.554237 79.063888 \n",
       "L 680.3 79.063888 \n",
       "\" style=\"fill:none;stroke:#000000;stroke-linecap:square;stroke-linejoin:miter;stroke-width:0.8;\"/>\n",
       "   </g>\n",
       "   <g id=\"patch_51\">\n",
       "    <path d=\"M 623.554237 22.318125 \n",
       "L 680.3 22.318125 \n",
       "\" style=\"fill:none;stroke:#000000;stroke-linecap:square;stroke-linejoin:miter;stroke-width:0.8;\"/>\n",
       "   </g>\n",
       "   <g id=\"text_10\">\n",
       "    <!-- 9 -->\n",
       "    <g transform=\"translate(648.109619 16.318125)scale(0.12 -0.12)\">\n",
       "     <use xlink:href=\"#DejaVuSans-57\"/>\n",
       "    </g>\n",
       "   </g>\n",
       "  </g>\n",
       " </g>\n",
       " <defs>\n",
       "  <clipPath id=\"p73d6d1faf8\">\n",
       "   <rect height=\"56.745763\" width=\"56.745763\" x=\"10.7\" y=\"22.318125\"/>\n",
       "  </clipPath>\n",
       "  <clipPath id=\"p6fded9d38a\">\n",
       "   <rect height=\"56.745763\" width=\"56.745763\" x=\"78.794915\" y=\"22.318125\"/>\n",
       "  </clipPath>\n",
       "  <clipPath id=\"pdd7c681125\">\n",
       "   <rect height=\"56.745763\" width=\"56.745763\" x=\"146.889831\" y=\"22.318125\"/>\n",
       "  </clipPath>\n",
       "  <clipPath id=\"p8bcdf32f3b\">\n",
       "   <rect height=\"56.745763\" width=\"56.745763\" x=\"214.984746\" y=\"22.318125\"/>\n",
       "  </clipPath>\n",
       "  <clipPath id=\"pbc2c4b9d0e\">\n",
       "   <rect height=\"56.745763\" width=\"56.745763\" x=\"283.079661\" y=\"22.318125\"/>\n",
       "  </clipPath>\n",
       "  <clipPath id=\"pd5c39dce45\">\n",
       "   <rect height=\"56.745763\" width=\"56.745763\" x=\"351.174576\" y=\"22.318125\"/>\n",
       "  </clipPath>\n",
       "  <clipPath id=\"pdac3a5fd2d\">\n",
       "   <rect height=\"56.745763\" width=\"56.745763\" x=\"419.269492\" y=\"22.318125\"/>\n",
       "  </clipPath>\n",
       "  <clipPath id=\"pcea2a7f99e\">\n",
       "   <rect height=\"56.745763\" width=\"56.745763\" x=\"487.364407\" y=\"22.318125\"/>\n",
       "  </clipPath>\n",
       "  <clipPath id=\"pebba9a71dd\">\n",
       "   <rect height=\"56.745763\" width=\"56.745763\" x=\"555.459322\" y=\"22.318125\"/>\n",
       "  </clipPath>\n",
       "  <clipPath id=\"p2dfdd55ebe\">\n",
       "   <rect height=\"56.745763\" width=\"56.745763\" x=\"623.554237\" y=\"22.318125\"/>\n",
       "  </clipPath>\n",
       " </defs>\n",
       "</svg>\n"
      ],
      "text/plain": [
       "<Figure size 864x864 with 10 Axes>"
      ]
     },
     "metadata": {
      "needs_background": "light"
     },
     "output_type": "display_data"
    }
   ],
   "source": [
    "#数据展示\n",
    "import matplotlib.pyplot as plt\n",
    "def show_fashion_mnist(images, labels):\n",
    "    d2l.use_svg_display()\n",
    "    # 这里的_表示我们忽略（不使用）的变量\n",
    "    _, figs = plt.subplots(1, len(images), figsize=(12, 12))\n",
    "    for f, img, lbl in zip(figs, images, labels):\n",
    "        f.imshow(img.view((28, 28)).numpy())\n",
    "        f.set_title(lbl)\n",
    "        f.axes.get_xaxis().set_visible(False)\n",
    "        f.axes.get_yaxis().set_visible(False)\n",
    "    plt.show()\n",
    "\n",
    "for Xdata,ylabel in train_iter:\n",
    "    break\n",
    "X, y = [], []\n",
    "for i in range(10):\n",
    "    print(Xdata[i].shape,ylabel[i].numpy())\n",
    "    X.append(Xdata[i]) # 将第i个feature加到X中\n",
    "    y.append(ylabel[i].numpy()) # 将第i个label加到y中\n",
    "show_fashion_mnist(X, y)"
   ]
  },
  {
   "cell_type": "markdown",
   "metadata": {
    "colab_type": "text",
    "graffitiCellId": "id_qw3jw30",
    "id": "Gg8uZka5dbhu",
    "jupyter": {},
    "mdEditEnable": false,
    "slideshow": {
     "slide_type": "slide"
    },
    "tags": []
   },
   "source": [
    "因为卷积神经网络计算比多层感知机要复杂，建议使用GPU来加速计算。我们查看看是否可以用GPU，如果成功则使用`cuda:0`，否则仍然使用`cpu`。"
   ]
  },
  {
   "cell_type": "code",
   "execution_count": 6,
   "metadata": {
    "ExecuteTime": {
     "end_time": "2020-02-17T07:05:58.756001Z",
     "start_time": "2020-02-17T07:05:58.688102Z"
    },
    "colab": {
     "base_uri": "https://localhost:8080/",
     "height": 34
    },
    "colab_type": "code",
    "graffitiCellId": "id_xnv8h9s",
    "id": "Y3zs_KyHdbhv",
    "jupyter": {},
    "outputId": "da77a9d2-55c9-4781-8132-7ebba7f6f3f6",
    "scrolled": false,
    "slideshow": {
     "slide_type": "slide"
    },
    "tags": []
   },
   "outputs": [
    {
     "data": {
      "text/plain": [
       "device(type='cuda', index=0)"
      ]
     },
     "execution_count": 6,
     "metadata": {},
     "output_type": "execute_result"
    }
   ],
   "source": [
    "# This function has been saved in the d2l package for future use\n",
    "#use GPU\n",
    "def try_gpu():\n",
    "    \"\"\"If GPU is available, return torch.device as cuda:0; else return torch.device as cpu.\"\"\"\n",
    "    if torch.cuda.is_available():\n",
    "        device = torch.device('cuda:0')\n",
    "    else:\n",
    "        device = torch.device('cpu')\n",
    "    return device\n",
    "\n",
    "device = try_gpu()\n",
    "device"
   ]
  },
  {
   "cell_type": "markdown",
   "metadata": {
    "colab_type": "text",
    "graffitiCellId": "id_t2kmxh8",
    "id": "nhhHxEjVdbhz",
    "jupyter": {},
    "mdEditEnable": false,
    "slideshow": {
     "slide_type": "slide"
    },
    "tags": []
   },
   "source": [
    "我们实现`evaluate_accuracy`函数，该函数用于计算模型`net`在数据集`data_iter`上的准确率。"
   ]
  },
  {
   "cell_type": "code",
   "execution_count": 7,
   "metadata": {
    "ExecuteTime": {
     "end_time": "2020-02-17T07:06:00.245674Z",
     "start_time": "2020-02-17T07:06:00.229858Z"
    },
    "colab": {},
    "colab_type": "code",
    "graffitiCellId": "id_x6dxfdo",
    "id": "g4iEi1U8dbh0",
    "jupyter": {},
    "scrolled": false,
    "slideshow": {
     "slide_type": "slide"
    },
    "tags": []
   },
   "outputs": [],
   "source": [
    "\n",
    "#计算准确率\n",
    "'''\n",
    "(1). net.train()\n",
    "  启用 BatchNormalization 和 Dropout，将BatchNormalization和Dropout置为True\n",
    "(2). net.eval()\n",
    "不启用 BatchNormalization 和 Dropout，将BatchNormalization和Dropout置为False\n",
    "'''\n",
    "\n",
    "def evaluate_accuracy(data_iter, net,device=torch.device('cpu')):\n",
    "    \"\"\"Evaluate accuracy of a model on the given data set.\"\"\"\n",
    "    acc_sum,n = torch.tensor([0],dtype=torch.float32,device=device),0\n",
    "    for X,y in data_iter:\n",
    "        # If device is the GPU, copy the data to the GPU.\n",
    "        X,y = X.to(device),y.to(device)\n",
    "        net.eval()\n",
    "        with torch.no_grad():\n",
    "            y = y.long()\n",
    "            acc_sum += torch.sum((torch.argmax(net(X), dim=1) == y))  #[[0.2 ,0.4 ,0.5 ,0.6 ,0.8] ,[ 0.1,0.2 ,0.4 ,0.3 ,0.1]] => [ 4 , 2 ]\n",
    "            n += y.shape[0]\n",
    "    return acc_sum.item()/n"
   ]
  },
  {
   "cell_type": "markdown",
   "metadata": {
    "colab_type": "text",
    "graffitiCellId": "id_ccpg4oo",
    "id": "qZj0UJ91dbh3",
    "jupyter": {},
    "mdEditEnable": false,
    "slideshow": {
     "slide_type": "slide"
    },
    "tags": []
   },
   "source": [
    "我们定义函数`train_ch5`，用于训练模型。"
   ]
  },
  {
   "cell_type": "code",
   "execution_count": 8,
   "metadata": {
    "ExecuteTime": {
     "end_time": "2020-02-17T07:06:03.447478Z",
     "start_time": "2020-02-17T07:06:03.426777Z"
    },
    "colab": {},
    "colab_type": "code",
    "graffitiCellId": "id_e22sitj",
    "id": "WQ8PZBb4dbh4",
    "jupyter": {},
    "scrolled": false,
    "slideshow": {
     "slide_type": "slide"
    },
    "tags": []
   },
   "outputs": [],
   "source": [
    "#训练函数\n",
    "def train_ch5(net, train_iter, test_iter,criterion, num_epochs, batch_size, device,lr=None):\n",
    "    \"\"\"Train and evaluate a model with CPU or GPU.\"\"\"\n",
    "    print('training on', device)\n",
    "    net.to(device)\n",
    "    optimizer = optim.SGD(net.parameters(), lr=lr)\n",
    "    for epoch in range(num_epochs):\n",
    "        train_l_sum = torch.tensor([0.0],dtype=torch.float32,device=device)\n",
    "        train_acc_sum = torch.tensor([0.0],dtype=torch.float32,device=device)\n",
    "        n, start = 0, time.time()\n",
    "        for X, y in train_iter:\n",
    "            net.train()\n",
    "            \n",
    "            optimizer.zero_grad()\n",
    "            X,y = X.to(device),y.to(device) \n",
    "            y_hat = net(X)\n",
    "            loss = criterion(y_hat, y)\n",
    "            loss.backward()\n",
    "            optimizer.step()\n",
    "            \n",
    "            with torch.no_grad():\n",
    "                y = y.long()\n",
    "                train_l_sum += loss.float()\n",
    "                train_acc_sum += (torch.sum((torch.argmax(y_hat, dim=1) == y))).float()\n",
    "                n += y.shape[0]\n",
    "        test_acc = evaluate_accuracy(test_iter, net,device)\n",
    "        print('epoch %d, loss %.4f, train acc %.3f, test acc %.3f, '\n",
    "              'time %.1f sec'\n",
    "              % (epoch + 1, train_l_sum/n, train_acc_sum/n, test_acc,\n",
    "                 time.time() - start))"
   ]
  },
  {
   "cell_type": "markdown",
   "metadata": {
    "colab_type": "text",
    "graffitiCellId": "id_o8t94tl",
    "id": "QCTjn-iRdbh6",
    "jupyter": {},
    "mdEditEnable": false,
    "slideshow": {
     "slide_type": "slide"
    },
    "tags": []
   },
   "source": [
    "我们重新将模型参数初始化到对应的设备`device`(`cpu` or `cuda:0`)之上，并使用Xavier随机初始化。损失函数和训练算法则依然使用交叉熵损失函数和小批量随机梯度下降。"
   ]
  },
  {
   "cell_type": "code",
   "execution_count": 9,
   "metadata": {
    "ExecuteTime": {
     "end_time": "2020-02-17T07:06:32.001185Z",
     "start_time": "2020-02-17T07:06:04.841165Z"
    },
    "colab": {
     "base_uri": "https://localhost:8080/",
     "height": 119
    },
    "colab_type": "code",
    "graffitiCellId": "id_k8iyyir",
    "id": "SRwnEh4ndbh7",
    "jupyter": {},
    "outputId": "abcc9495-ed33-41a2-c6f5-7bcb8b82c3e4",
    "scrolled": false,
    "slideshow": {
     "slide_type": "slide"
    },
    "tags": []
   },
   "outputs": [
    {
     "name": "stdout",
     "output_type": "stream",
     "text": [
      "training on cuda:0\n",
      "epoch 1, loss 0.0091, train acc 0.103, test acc 0.100, time 2.4 sec\n",
      "epoch 2, loss 0.0058, train acc 0.416, test acc 0.613, time 2.3 sec\n",
      "epoch 3, loss 0.0035, train acc 0.646, test acc 0.656, time 2.4 sec\n",
      "epoch 4, loss 0.0029, train acc 0.712, test acc 0.736, time 2.3 sec\n",
      "epoch 5, loss 0.0025, train acc 0.745, test acc 0.753, time 2.4 sec\n",
      "epoch 6, loss 0.0023, train acc 0.767, test acc 0.777, time 2.3 sec\n",
      "epoch 7, loss 0.0021, train acc 0.786, test acc 0.752, time 2.3 sec\n",
      "epoch 8, loss 0.0020, train acc 0.804, test acc 0.797, time 2.4 sec\n",
      "epoch 9, loss 0.0019, train acc 0.815, test acc 0.784, time 2.4 sec\n",
      "epoch 10, loss 0.0018, train acc 0.826, test acc 0.822, time 2.3 sec\n"
     ]
    }
   ],
   "source": [
    "# 训练\n",
    "lr, num_epochs = 0.9, 10\n",
    "\n",
    "def init_weights(m):\n",
    "    if type(m) == nn.Linear or type(m) == nn.Conv2d:\n",
    "        torch.nn.init.xavier_uniform_(m.weight)\n",
    "\n",
    "net.apply(init_weights)\n",
    "net = net.to(device)\n",
    "\n",
    "criterion = nn.CrossEntropyLoss()   #交叉熵描述了两个概率分布之间的距离，交叉熵越小说明两者之间越接近\n",
    "train_ch5(net, train_iter, test_iter, criterion,num_epochs, batch_size,device, lr)"
   ]
  },
  {
   "cell_type": "code",
   "execution_count": 10,
   "metadata": {
    "ExecuteTime": {
     "end_time": "2020-02-17T07:06:42.141655Z",
     "start_time": "2020-02-17T07:06:41.880921Z"
    },
    "graffitiCellId": "id_y3tdhvt",
    "id": "6C2C48F49CD24FB38F6B313B6EC1983F",
    "jupyter": {},
    "scrolled": false,
    "slideshow": {
     "slide_type": "slide"
    },
    "tags": []
   },
   "outputs": [
    {
     "name": "stdout",
     "output_type": "stream",
     "text": [
      "torch.Size([256, 1, 28, 28]) torch.Size([256])\n",
      "tensor([7, 2, 1, 1, 6, 1, 2, 6, 5, 7], device='cuda:0')\n",
      "tensor([9, 2, 1, 1, 6, 1, 4, 6, 5, 7], device='cuda:0')\n"
     ]
    }
   ],
   "source": [
    "# test\n",
    "for testdata,testlabe in test_iter:\n",
    "    testdata,testlabe = testdata.to(device),testlabe.to(device)\n",
    "    break\n",
    "print(testdata.shape,testlabe.shape)\n",
    "net.eval()\n",
    "y_pre = net(testdata)\n",
    "print(torch.argmax(y_pre,dim=1)[:10])\n",
    "print(testlabe[:10])"
   ]
  },
  {
   "cell_type": "markdown",
   "metadata": {
    "colab_type": "text",
    "graffitiCellId": "id_xwmnzx5",
    "id": "pRUx8zxq1XmD",
    "jupyter": {},
    "mdEditEnable": false,
    "slideshow": {
     "slide_type": "slide"
    },
    "tags": []
   },
   "source": [
    "## 总结：\n",
    "\n",
    "卷积神经网络就是含卷积层的网络。\n",
    "LeNet交替使用卷积层和最大池化层后接全连接层来进行图像分类。"
   ]
  }
 ],
 "metadata": {
  "hide_input": false,
  "kernelspec": {
   "display_name": "Python 3",
   "language": "python",
   "name": "python3"
  },
  "language_info": {
   "codemirror_mode": {
    "name": "ipython",
    "version": 3
   },
   "file_extension": ".py",
   "mimetype": "text/x-python",
   "name": "python",
   "nbconvert_exporter": "python",
   "pygments_lexer": "ipython3",
   "version": "3.6.9"
  },
  "latex_envs": {
   "LaTeX_envs_menu_present": true,
   "autoclose": false,
   "autocomplete": true,
   "bibliofile": "biblio.bib",
   "cite_by": "apalike",
   "current_citInitial": 1,
   "eqLabelWithNumbers": true,
   "eqNumInitial": 1,
   "hotkeys": {
    "equation": "Ctrl-E",
    "itemize": "Ctrl-I"
   },
   "labels_anchors": false,
   "latex_user_defs": false,
   "report_style_numbering": false,
   "user_envs_cfg": false
  },
  "toc": {
   "base_numbering": 1,
   "nav_menu": {},
   "number_sections": false,
   "sideBar": true,
   "skip_h1_title": true,
   "title_cell": "Table of Contents",
   "title_sidebar": "Contents",
   "toc_cell": false,
   "toc_position": {},
   "toc_section_display": true,
   "toc_window_display": false
  },
  "varInspector": {
   "cols": {
    "lenName": 16,
    "lenType": 16,
    "lenVar": 40
   },
   "kernels_config": {
    "python": {
     "delete_cmd_postfix": "",
     "delete_cmd_prefix": "del ",
     "library": "var_list.py",
     "varRefreshCmd": "print(var_dic_list())"
    },
    "r": {
     "delete_cmd_postfix": ") ",
     "delete_cmd_prefix": "rm(",
     "library": "var_list.r",
     "varRefreshCmd": "cat(var_dic_list()) "
    }
   },
   "types_to_exclude": [
    "module",
    "function",
    "builtin_function_or_method",
    "instance",
    "_Feature"
   ],
   "window_display": false
  }
 },
 "nbformat": 4,
 "nbformat_minor": 1
}
